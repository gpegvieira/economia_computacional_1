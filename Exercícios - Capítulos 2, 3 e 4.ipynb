{
 "cells": [
  {
   "cell_type": "code",
   "execution_count": 6,
   "id": "6fd75058-fb64-4474-98a0-beec6fab4cc9",
   "metadata": {},
   "outputs": [
    {
     "name": "stdout",
     "output_type": "stream",
     "text": [
      "610\n",
      "0.5333333333333333\n",
      "39377\n"
     ]
    }
   ],
   "source": [
    "# Exercício 2.1\n",
    "a = 10+20*30\n",
    "b = 4**2/30\n",
    "c = (9**4+2)*6-1\n",
    "\n",
    "print(a)\n",
    "print(b)\n",
    "print(c)"
   ]
  },
  {
   "cell_type": "code",
   "execution_count": 7,
   "id": "0d90aeea-ab30-4bfe-bfd6-d92730c418cb",
   "metadata": {},
   "outputs": [
    {
     "data": {
      "text/plain": [
       "81.0"
      ]
     },
     "execution_count": 7,
     "metadata": {},
     "output_type": "execute_result"
    }
   ],
   "source": [
    "# Exercício 2.2\n",
    "10 % 3 * 10 ** 2 + 1 - 10 * 4 / 2"
   ]
  },
  {
   "cell_type": "code",
   "execution_count": 9,
   "id": "9ff14fe0-36b1-47d8-a513-71a19b17bbef",
   "metadata": {},
   "outputs": [
    {
     "name": "stdout",
     "output_type": "stream",
     "text": [
      "Gabriel\n"
     ]
    }
   ],
   "source": [
    "# Exercício 2.3\n",
    "print(\"Gabriel\")"
   ]
  },
  {
   "cell_type": "code",
   "execution_count": 15,
   "id": "55265131-7fdc-4938-ac33-b4b91d8441e0",
   "metadata": {},
   "outputs": [
    {
     "name": "stdout",
     "output_type": "stream",
     "text": [
      "90\n"
     ]
    }
   ],
   "source": [
    "# Exercício 2.4\n",
    "a = 3\n",
    "b = 5\n",
    "\n",
    "print(2*a*3*b)"
   ]
  },
  {
   "cell_type": "code",
   "execution_count": 16,
   "id": "df595184-b2a8-4389-a608-ac88787ed3f6",
   "metadata": {},
   "outputs": [
    {
     "name": "stdout",
     "output_type": "stream",
     "text": [
      "0\n"
     ]
    }
   ],
   "source": [
    "# Exercício 2.5\n",
    "a = 0\n",
    "b = 0\n",
    "c = 0\n",
    "\n",
    "print(a+b+c)"
   ]
  },
  {
   "cell_type": "code",
   "execution_count": 18,
   "id": "6d4a7331-12ce-4e0d-a2db-f084117e0faa",
   "metadata": {},
   "outputs": [
    {
     "name": "stdout",
     "output_type": "stream",
     "text": [
      "862.4999999999999\n"
     ]
    }
   ],
   "source": [
    "# Exercício 2.6\n",
    "salário = 750\n",
    "aumento = 15\n",
    "\n",
    "print(salário*(1 + aumento/100))"
   ]
  },
  {
   "cell_type": "code",
   "execution_count": 19,
   "id": "ddebc3d2-c813-4bde-902d-edf6b8f6db0c",
   "metadata": {},
   "outputs": [],
   "source": [
    "# Exercício 3.1\n",
    "# 5: inteiro\n",
    "# 5.0: ponto flutuante\n",
    "# 4.3: ponto flutuante\n",
    "# -2: inteiro\n",
    "# 100: inteiro\n",
    "# 1.333: ponto flutuante"
   ]
  },
  {
   "cell_type": "code",
   "execution_count": 20,
   "id": "9523373b-80b1-4b4f-b0ea-2f5afb09bdb4",
   "metadata": {},
   "outputs": [
    {
     "data": {
      "text/plain": [
       "0.30000000000000004"
      ]
     },
     "execution_count": 20,
     "metadata": {},
     "output_type": "execute_result"
    }
   ],
   "source": [
    "3*0.1"
   ]
  },
  {
   "cell_type": "code",
   "execution_count": 29,
   "id": "88e52ec7-392d-4720-b1d2-945814abc4e7",
   "metadata": {},
   "outputs": [],
   "source": [
    "# Exercício 3.2\n",
    "a = 4\n",
    "b = 10\n",
    "c = 5.0\n",
    "d = 1\n",
    "e = 5\n",
    "f = 5"
   ]
  },
  {
   "cell_type": "code",
   "execution_count": 24,
   "id": "0eda47a8-de66-4069-9fbe-146ce85131b4",
   "metadata": {},
   "outputs": [
    {
     "data": {
      "text/plain": [
       "False"
      ]
     },
     "execution_count": 24,
     "metadata": {},
     "output_type": "execute_result"
    }
   ],
   "source": [
    "a == c"
   ]
  },
  {
   "cell_type": "code",
   "execution_count": 25,
   "id": "cf3629cc-280b-43a8-9727-296c45d5ac3c",
   "metadata": {},
   "outputs": [
    {
     "data": {
      "text/plain": [
       "True"
      ]
     },
     "execution_count": 25,
     "metadata": {},
     "output_type": "execute_result"
    }
   ],
   "source": [
    "a < b"
   ]
  },
  {
   "cell_type": "code",
   "execution_count": 26,
   "id": "2465026b-b2a4-41a1-8e71-7a0a4fa104d5",
   "metadata": {},
   "outputs": [
    {
     "data": {
      "text/plain": [
       "True"
      ]
     },
     "execution_count": 26,
     "metadata": {},
     "output_type": "execute_result"
    }
   ],
   "source": [
    "d < b"
   ]
  },
  {
   "cell_type": "code",
   "execution_count": 30,
   "id": "276c3ed2-20c9-4e6e-8c58-a8d302b7019f",
   "metadata": {},
   "outputs": [
    {
     "data": {
      "text/plain": [
       "False"
      ]
     },
     "execution_count": 30,
     "metadata": {},
     "output_type": "execute_result"
    }
   ],
   "source": [
    "c != f"
   ]
  },
  {
   "cell_type": "code",
   "execution_count": 31,
   "id": "ff8917c2-4d2b-4d24-81bf-d68a1d548d96",
   "metadata": {},
   "outputs": [
    {
     "data": {
      "text/plain": [
       "False"
      ]
     },
     "execution_count": 31,
     "metadata": {},
     "output_type": "execute_result"
    }
   ],
   "source": [
    "a == b"
   ]
  },
  {
   "cell_type": "code",
   "execution_count": 32,
   "id": "faf6f2f1-113f-4607-8f5c-c96d48df4bdb",
   "metadata": {},
   "outputs": [
    {
     "data": {
      "text/plain": [
       "False"
      ]
     },
     "execution_count": 32,
     "metadata": {},
     "output_type": "execute_result"
    }
   ],
   "source": [
    "c < d"
   ]
  },
  {
   "cell_type": "code",
   "execution_count": 33,
   "id": "32f2493c-01f9-45c3-95ca-f704caddbbec",
   "metadata": {},
   "outputs": [
    {
     "data": {
      "text/plain": [
       "True"
      ]
     },
     "execution_count": 33,
     "metadata": {},
     "output_type": "execute_result"
    }
   ],
   "source": [
    "b > a"
   ]
  },
  {
   "cell_type": "code",
   "execution_count": 34,
   "id": "afff49be-6469-4d61-bd73-957e85a1ff17",
   "metadata": {},
   "outputs": [
    {
     "data": {
      "text/plain": [
       "True"
      ]
     },
     "execution_count": 34,
     "metadata": {},
     "output_type": "execute_result"
    }
   ],
   "source": [
    "c >= f"
   ]
  },
  {
   "cell_type": "code",
   "execution_count": 35,
   "id": "c2c9e991-1d50-4a99-8b93-54d5347d2216",
   "metadata": {},
   "outputs": [
    {
     "data": {
      "text/plain": [
       "True"
      ]
     },
     "execution_count": 35,
     "metadata": {},
     "output_type": "execute_result"
    }
   ],
   "source": [
    "f >= c"
   ]
  },
  {
   "cell_type": "code",
   "execution_count": 36,
   "id": "17ec2ec1-1644-4a67-a5dd-06b4b0215b2a",
   "metadata": {},
   "outputs": [
    {
     "data": {
      "text/plain": [
       "True"
      ]
     },
     "execution_count": 36,
     "metadata": {},
     "output_type": "execute_result"
    }
   ],
   "source": [
    "c <= c"
   ]
  },
  {
   "cell_type": "code",
   "execution_count": 37,
   "id": "c03ec730-3c97-4a05-b04e-a4f7eb6ac48c",
   "metadata": {},
   "outputs": [
    {
     "data": {
      "text/plain": [
       "True"
      ]
     },
     "execution_count": 37,
     "metadata": {},
     "output_type": "execute_result"
    }
   ],
   "source": [
    "c <= f"
   ]
  },
  {
   "cell_type": "code",
   "execution_count": 39,
   "id": "a3a11d96-4ad1-4eab-9952-1c79acbeb37f",
   "metadata": {},
   "outputs": [
    {
     "data": {
      "text/plain": [
       "False"
      ]
     },
     "execution_count": 39,
     "metadata": {},
     "output_type": "execute_result"
    }
   ],
   "source": [
    "not True"
   ]
  },
  {
   "cell_type": "code",
   "execution_count": 40,
   "id": "c04850fe-cad8-4d8d-9051-b670429fc1d3",
   "metadata": {},
   "outputs": [
    {
     "data": {
      "text/plain": [
       "True"
      ]
     },
     "execution_count": 40,
     "metadata": {},
     "output_type": "execute_result"
    }
   ],
   "source": [
    "not False"
   ]
  },
  {
   "cell_type": "code",
   "execution_count": 42,
   "id": "3ac53856-0c0d-4146-9626-036d9d96f5f2",
   "metadata": {},
   "outputs": [
    {
     "data": {
      "text/plain": [
       "True"
      ]
     },
     "execution_count": 42,
     "metadata": {},
     "output_type": "execute_result"
    }
   ],
   "source": [
    "True and True"
   ]
  },
  {
   "cell_type": "code",
   "execution_count": 43,
   "id": "86bb8efe-0619-4a0b-9a06-7583aaab7e35",
   "metadata": {},
   "outputs": [
    {
     "data": {
      "text/plain": [
       "False"
      ]
     },
     "execution_count": 43,
     "metadata": {},
     "output_type": "execute_result"
    }
   ],
   "source": [
    "True and False"
   ]
  },
  {
   "cell_type": "code",
   "execution_count": 44,
   "id": "dfac4f65-8fe3-4139-921e-925e8b1ab96d",
   "metadata": {},
   "outputs": [
    {
     "data": {
      "text/plain": [
       "False"
      ]
     },
     "execution_count": 44,
     "metadata": {},
     "output_type": "execute_result"
    }
   ],
   "source": [
    "False and True"
   ]
  },
  {
   "cell_type": "code",
   "execution_count": 45,
   "id": "d52f7854-436c-48fa-b6d2-24b7ea52a451",
   "metadata": {},
   "outputs": [
    {
     "data": {
      "text/plain": [
       "False"
      ]
     },
     "execution_count": 45,
     "metadata": {},
     "output_type": "execute_result"
    }
   ],
   "source": [
    "False and False"
   ]
  },
  {
   "cell_type": "code",
   "execution_count": 46,
   "id": "a8b93f4b-11d7-403a-acbc-d5b63ed35a4b",
   "metadata": {},
   "outputs": [
    {
     "data": {
      "text/plain": [
       "True"
      ]
     },
     "execution_count": 46,
     "metadata": {},
     "output_type": "execute_result"
    }
   ],
   "source": [
    "True or True"
   ]
  },
  {
   "cell_type": "code",
   "execution_count": 47,
   "id": "23dcf0b2-c167-4081-90e5-ada73c9ee9d8",
   "metadata": {},
   "outputs": [
    {
     "data": {
      "text/plain": [
       "True"
      ]
     },
     "execution_count": 47,
     "metadata": {},
     "output_type": "execute_result"
    }
   ],
   "source": [
    "True or False"
   ]
  },
  {
   "cell_type": "code",
   "execution_count": 48,
   "id": "9e57fd32-9c5f-4f89-98f3-86a6c854c5ba",
   "metadata": {},
   "outputs": [
    {
     "data": {
      "text/plain": [
       "True"
      ]
     },
     "execution_count": 48,
     "metadata": {},
     "output_type": "execute_result"
    }
   ],
   "source": [
    "False or True"
   ]
  },
  {
   "cell_type": "code",
   "execution_count": 49,
   "id": "e9357059-38a9-4b3f-bfc5-d2a1ac54d6df",
   "metadata": {},
   "outputs": [
    {
     "data": {
      "text/plain": [
       "False"
      ]
     },
     "execution_count": 49,
     "metadata": {},
     "output_type": "execute_result"
    }
   ],
   "source": [
    "False or False"
   ]
  },
  {
   "cell_type": "code",
   "execution_count": 50,
   "id": "574c2283-7486-4c6f-a7eb-3964d879e39b",
   "metadata": {},
   "outputs": [],
   "source": [
    "# Exercício 3.3\n",
    "a = True\n",
    "b = False\n",
    "c = True"
   ]
  },
  {
   "cell_type": "code",
   "execution_count": 51,
   "id": "473a60ae-4b7e-4906-9f23-74139bf0f86f",
   "metadata": {},
   "outputs": [
    {
     "data": {
      "text/plain": [
       "True"
      ]
     },
     "execution_count": 51,
     "metadata": {},
     "output_type": "execute_result"
    }
   ],
   "source": [
    "a and a"
   ]
  },
  {
   "cell_type": "code",
   "execution_count": 52,
   "id": "869e679c-21a6-4f2c-8f70-f0adc95bc3e7",
   "metadata": {},
   "outputs": [
    {
     "data": {
      "text/plain": [
       "False"
      ]
     },
     "execution_count": 52,
     "metadata": {},
     "output_type": "execute_result"
    }
   ],
   "source": [
    "b and b"
   ]
  },
  {
   "cell_type": "code",
   "execution_count": 53,
   "id": "f7abf836-b03d-4c3f-bcc1-b2eb9d5ad9c3",
   "metadata": {},
   "outputs": [
    {
     "data": {
      "text/plain": [
       "False"
      ]
     },
     "execution_count": 53,
     "metadata": {},
     "output_type": "execute_result"
    }
   ],
   "source": [
    "not c"
   ]
  },
  {
   "cell_type": "code",
   "execution_count": 54,
   "id": "e136e670-f572-4381-a9da-9904201db121",
   "metadata": {},
   "outputs": [
    {
     "data": {
      "text/plain": [
       "True"
      ]
     },
     "execution_count": 54,
     "metadata": {},
     "output_type": "execute_result"
    }
   ],
   "source": [
    "not b"
   ]
  },
  {
   "cell_type": "code",
   "execution_count": 55,
   "id": "e900c9f5-32a0-401e-b450-d67b9055d934",
   "metadata": {},
   "outputs": [
    {
     "data": {
      "text/plain": [
       "False"
      ]
     },
     "execution_count": 55,
     "metadata": {},
     "output_type": "execute_result"
    }
   ],
   "source": [
    "not a"
   ]
  },
  {
   "cell_type": "code",
   "execution_count": 56,
   "id": "9d544acb-725f-4cd5-80a1-03167d35d719",
   "metadata": {},
   "outputs": [
    {
     "data": {
      "text/plain": [
       "False"
      ]
     },
     "execution_count": 56,
     "metadata": {},
     "output_type": "execute_result"
    }
   ],
   "source": [
    "a and b"
   ]
  },
  {
   "cell_type": "code",
   "execution_count": 57,
   "id": "88d631c6-7930-4717-8905-3c25cc5cfe8e",
   "metadata": {},
   "outputs": [
    {
     "data": {
      "text/plain": [
       "False"
      ]
     },
     "execution_count": 57,
     "metadata": {},
     "output_type": "execute_result"
    }
   ],
   "source": [
    "b and c"
   ]
  },
  {
   "cell_type": "code",
   "execution_count": 58,
   "id": "db2fa43c-61b4-4e22-9284-212c0e79d90e",
   "metadata": {},
   "outputs": [
    {
     "data": {
      "text/plain": [
       "True"
      ]
     },
     "execution_count": 58,
     "metadata": {},
     "output_type": "execute_result"
    }
   ],
   "source": [
    "a or c"
   ]
  },
  {
   "cell_type": "code",
   "execution_count": 59,
   "id": "b94280c9-c01a-4566-9fdd-b9eaf39d42f2",
   "metadata": {},
   "outputs": [
    {
     "data": {
      "text/plain": [
       "True"
      ]
     },
     "execution_count": 59,
     "metadata": {},
     "output_type": "execute_result"
    }
   ],
   "source": [
    "b or c"
   ]
  },
  {
   "cell_type": "code",
   "execution_count": 60,
   "id": "e211b240-227a-4fb5-ac8a-8b16763d9013",
   "metadata": {},
   "outputs": [
    {
     "data": {
      "text/plain": [
       "True"
      ]
     },
     "execution_count": 60,
     "metadata": {},
     "output_type": "execute_result"
    }
   ],
   "source": [
    "c or a"
   ]
  },
  {
   "cell_type": "code",
   "execution_count": 61,
   "id": "e946f11a-1ef8-43b5-81b7-fd956c5fce7b",
   "metadata": {},
   "outputs": [
    {
     "data": {
      "text/plain": [
       "True"
      ]
     },
     "execution_count": 61,
     "metadata": {},
     "output_type": "execute_result"
    }
   ],
   "source": [
    "c or b"
   ]
  },
  {
   "cell_type": "code",
   "execution_count": 62,
   "id": "1a796ff9-8d0e-4379-9baf-02901fff6b74",
   "metadata": {},
   "outputs": [
    {
     "data": {
      "text/plain": [
       "True"
      ]
     },
     "execution_count": 62,
     "metadata": {},
     "output_type": "execute_result"
    }
   ],
   "source": [
    "c or c"
   ]
  },
  {
   "cell_type": "code",
   "execution_count": 63,
   "id": "71d13996-102b-4573-9a65-044b8da96604",
   "metadata": {},
   "outputs": [
    {
     "data": {
      "text/plain": [
       "False"
      ]
     },
     "execution_count": 63,
     "metadata": {},
     "output_type": "execute_result"
    }
   ],
   "source": [
    "b or b"
   ]
  },
  {
   "cell_type": "code",
   "execution_count": 64,
   "id": "ef53a582-f319-4e41-946b-c80566c4ed86",
   "metadata": {},
   "outputs": [],
   "source": [
    "# Quando uma expressão tiver mais de um operador lógico, avalia-se o operador \"not\" primeiro,\n",
    "# depois o operador \"and\" e, então, o operador \"or\".\n",
    "# Operadores relacionais devem ser avaliados antes dos lógicos."
   ]
  },
  {
   "cell_type": "code",
   "execution_count": 65,
   "id": "f0827130-ad69-4a78-8642-cc0e9626bdab",
   "metadata": {},
   "outputs": [
    {
     "data": {
      "text/plain": [
       "False"
      ]
     },
     "execution_count": 65,
     "metadata": {},
     "output_type": "execute_result"
    }
   ],
   "source": [
    "# Exercício 3.4\n",
    "salário > 1200"
   ]
  },
  {
   "cell_type": "code",
   "execution_count": 69,
   "id": "69df07d9-3131-4d9d-874e-c77fe270b65f",
   "metadata": {},
   "outputs": [
    {
     "data": {
      "text/plain": [
       "False"
      ]
     },
     "execution_count": 69,
     "metadata": {},
     "output_type": "execute_result"
    }
   ],
   "source": [
    "# Exercício 3.5\n",
    "A = 1\n",
    "B = 2\n",
    "C = True\n",
    "D = False\n",
    "\n",
    "A > B and C or D"
   ]
  },
  {
   "cell_type": "code",
   "execution_count": 67,
   "id": "0633f3ad-4e57-469e-9dcd-3de3be739e12",
   "metadata": {},
   "outputs": [
    {
     "data": {
      "text/plain": [
       "True"
      ]
     },
     "execution_count": 67,
     "metadata": {},
     "output_type": "execute_result"
    }
   ],
   "source": [
    "A = 10\n",
    "B = 3\n",
    "C = False\n",
    "D = True\n",
    "\n",
    "A > B and C or D"
   ]
  },
  {
   "cell_type": "code",
   "execution_count": 68,
   "id": "48633b49-de17-4a86-9390-59fa9f31933f",
   "metadata": {},
   "outputs": [
    {
     "data": {
      "text/plain": [
       "True"
      ]
     },
     "execution_count": 68,
     "metadata": {},
     "output_type": "execute_result"
    }
   ],
   "source": [
    "A = 5\n",
    "B = 1\n",
    "C = True\n",
    "D = True\n",
    "\n",
    "A > B and C or D"
   ]
  },
  {
   "cell_type": "code",
   "execution_count": 90,
   "id": "7dfc5c4f-6ed1-4516-9205-aaac33d2c29e",
   "metadata": {},
   "outputs": [
    {
     "name": "stdin",
     "output_type": "stream",
     "text": [
      " 7\n",
      " 7\n",
      " 7\n"
     ]
    },
    {
     "name": "stdout",
     "output_type": "stream",
     "text": [
      "Reprovado\n"
     ]
    }
   ],
   "source": [
    "# Exercício 3.6\n",
    "matéria1 = float(input())\n",
    "matéria2 = float(input())\n",
    "matéria3 = float(input())\n",
    "\n",
    "if matéria1 > 7 and matéria2 > 7 and matéria3 > 7:\n",
    "    print(\"Aprovado\")\n",
    "\n",
    "else:\n",
    "    print(\"Reprovado\")"
   ]
  },
  {
   "cell_type": "code",
   "execution_count": 53,
   "id": "46180aa8-b910-4f9f-b476-c5d9c8bbbe75",
   "metadata": {},
   "outputs": [
    {
     "name": "stdin",
     "output_type": "stream",
     "text": [
      "Digite a primeira parcela:  1\n",
      "Digite a segunda parcela:  2\n"
     ]
    },
    {
     "name": "stdout",
     "output_type": "stream",
     "text": [
      "Este é o resultado da adição: 3.\n"
     ]
    }
   ],
   "source": [
    "# Exercício 3.7\n",
    "a = int(input(\"Digite a primeira parcela: \"))\n",
    "b = int(input(\"Digite a segunda parcela: \"))\n",
    "soma = a+b\n",
    "\n",
    "print(\"Este é o resultado da adição: %d.\" % soma)"
   ]
  },
  {
   "cell_type": "code",
   "execution_count": 60,
   "id": "465490f4-1472-472d-8e5a-dd3ba146f59a",
   "metadata": {},
   "outputs": [
    {
     "name": "stdin",
     "output_type": "stream",
     "text": [
      "Digite o comprimento em metros (utilize ponto para separar a parte decimal):  1.68\n"
     ]
    },
    {
     "name": "stdout",
     "output_type": "stream",
     "text": [
      "Este é o comprimento equivalente em centímetros: 168\n"
     ]
    }
   ],
   "source": [
    "# Exercício 3.8\n",
    "a = float(input(\"Digite o comprimento em metros (utilize ponto para separar a parte decimal): \"))\n",
    "b = a*100\n",
    "\n",
    "print(\"Este é o comprimento equivalente em centímetros: %d\" % b)"
   ]
  },
  {
   "cell_type": "code",
   "execution_count": 63,
   "id": "1133f75a-90a9-4264-92fa-1e86520bc966",
   "metadata": {},
   "outputs": [
    {
     "name": "stdout",
     "output_type": "stream",
     "text": [
      "Este programa calcula a quantidade de segundos decorridos dado o tempo em dias, horas, minutos e segundos.\n"
     ]
    },
    {
     "name": "stdin",
     "output_type": "stream",
     "text": [
      "Digite o número de dias:  1\n",
      "Digite o número de horas:  2\n",
      "Digite o número de minutos:  4\n",
      "Digite o número de segundos:  7\n"
     ]
    },
    {
     "name": "stdout",
     "output_type": "stream",
     "text": [
      "Este é o tempo equivalente em segundos: 93847\n"
     ]
    }
   ],
   "source": [
    "# Exercício 3.9\n",
    "print(\"Este programa calcula a quantidade de segundos decorridos dado o tempo em dias, horas, minutos e segundos.\")\n",
    "d = int(input(\"Digite o número de dias: \"))\n",
    "h = int(input(\"Digite o número de horas: \"))\n",
    "m = int(input(\"Digite o número de minutos: \"))\n",
    "s = int(input(\"Digite o número de segundos: \"))\n",
    "\n",
    "s2 = 24*60*60*d + 60*60*h + 60*m + s\n",
    "\n",
    "print(\"Este é o tempo equivalente em segundos: %d\" % s2)"
   ]
  },
  {
   "cell_type": "code",
   "execution_count": 68,
   "id": "de020fe1-1311-4d40-b62e-f277dfabf6ab",
   "metadata": {},
   "outputs": [
    {
     "name": "stdin",
     "output_type": "stream",
     "text": [
      "Salário atual: R$  1000\n",
      "Aumento percentual:  12.5\n"
     ]
    },
    {
     "name": "stdout",
     "output_type": "stream",
     "text": [
      "Valor do aumento: R$ 125.00\n",
      "Valor do novo salário: R$ 1125.00\n"
     ]
    }
   ],
   "source": [
    "# Exercício 3.10\n",
    "salario_i = float(input(\"Salário atual: R$ \"))\n",
    "aumento_percentual = float(input(\"Aumento percentual: \"))\n",
    "\n",
    "valor_do_aumento = salario_i * aumento_percentual/100\n",
    "salario_f = salario_i * (1 + aumento_percentual/100)\n",
    "\n",
    "print(\"Valor do aumento: R$ %.2f\" % valor_do_aumento)\n",
    "print(\"Valor do novo salário: R$ %.2f\" % salario_f)\n"
   ]
  },
  {
   "cell_type": "code",
   "execution_count": 72,
   "id": "a8e8dbcc-25d7-4912-9d59-fc932a81310e",
   "metadata": {},
   "outputs": [
    {
     "name": "stdin",
     "output_type": "stream",
     "text": [
      "Preço original da mercadoria: R$ 100\n",
      "Desconto em %: 15\n"
     ]
    },
    {
     "name": "stdout",
     "output_type": "stream",
     "text": [
      "Valor do desconto: R$ 15.00\n",
      "Preço a pagar: R$ 85.00\n"
     ]
    }
   ],
   "source": [
    "# Exercício 3.11\n",
    "preco_i = float(input(\"Preço original da mercadoria: R$\"))\n",
    "desconto_rel = float(input(\"Desconto em %:\"))\n",
    "\n",
    "desconto_abs = preco_i * desconto_rel/100\n",
    "preco_f = preco_i * (1 - desconto_rel/100)\n",
    "\n",
    "print(\"Valor do desconto: R$ %.2f\" % desconto_abs)\n",
    "print(\"Preço a pagar: R$ %.2f\" % preco_f)"
   ]
  },
  {
   "cell_type": "code",
   "execution_count": 77,
   "id": "ba76f3ac-62b8-4b11-a315-932dd9b92ffd",
   "metadata": {},
   "outputs": [
    {
     "name": "stdin",
     "output_type": "stream",
     "text": [
      "Digite a distância percorrida, em km: 1000\n",
      "Digite a velocidade média, em km/h, ao longo do percurso: 500\n"
     ]
    },
    {
     "name": "stdout",
     "output_type": "stream",
     "text": [
      "O tempo decorrido do início ao término da viagem é de 2 horas, 0 minutos e 0 segundos.\n"
     ]
    }
   ],
   "source": [
    "# Exercício 3.12\n",
    "d = float(input(\"Digite a distância percorrida, em km:\"))\n",
    "v_m = float(input(\"Digite a velocidade média, em km/h, ao longo do percurso:\"))\n",
    "\n",
    "t = d/v_m\n",
    "\n",
    "t_s = int(t * 3600)\n",
    "t_h = int(t_s / 3600) # função parte inteira\n",
    "t_s = int(t_s % 3600) # resto\n",
    "t_m = int(t_s / 60) # função parte inteira\n",
    "t_s = int(t_s % 60) # resto\n",
    "\n",
    "print(\"O tempo decorrido do início ao término da viagem é de %d horas, %d minutos e %d segundos.\" % (t_h, t_m, t_s))"
   ]
  },
  {
   "cell_type": "code",
   "execution_count": 83,
   "id": "867b2ade-cab1-4a00-948a-a1da7369daca",
   "metadata": {},
   "outputs": [
    {
     "name": "stdin",
     "output_type": "stream",
     "text": [
      "Digite a temperatura em °C: 18\n"
     ]
    },
    {
     "name": "stdout",
     "output_type": "stream",
     "text": [
      "A temperatura em °F é: 64.4.\n"
     ]
    }
   ],
   "source": [
    "# Exercício 3.13\n",
    "C = float(input(\"Digite a temperatura em °C:\"))\n",
    "\n",
    "F = 9*C/5 + 32\n",
    "\n",
    "print(\"A temperatura em °F é: %.1f.\" % F)"
   ]
  },
  {
   "cell_type": "code",
   "execution_count": 84,
   "id": "1b2fa5f1-add4-4425-a866-eff78b320390",
   "metadata": {},
   "outputs": [
    {
     "name": "stdin",
     "output_type": "stream",
     "text": [
      "Digite a distância percorrida, em km, com o veículo alugado: 300\n",
      "Digite o número de dias do aluguel do veículo: 2\n"
     ]
    },
    {
     "name": "stdout",
     "output_type": "stream",
     "text": [
      "O preço a pagar pelo aluguel do veículo é R$ 165.00.\n"
     ]
    }
   ],
   "source": [
    "# Exercício 3.14\n",
    "distancia = float(input(\"Digite a distância percorrida, em km, com o veículo alugado:\"))\n",
    "dias = float(input(\"Digite o número de dias do aluguel do veículo:\"))\n",
    "\n",
    "preco = 60*dias + 0.15*distancia\n",
    "\n",
    "print(\"O preço a pagar pelo aluguel do veículo é R$ %.2f.\" % preco)"
   ]
  },
  {
   "cell_type": "code",
   "execution_count": 87,
   "id": "ee514320-f4c3-46b2-bd03-64d8f6663cf4",
   "metadata": {},
   "outputs": [
    {
     "name": "stdin",
     "output_type": "stream",
     "text": [
      "Quantos cigarros você fuma por dia? 3\n",
      "Há quantos anos você fuma? 4\n"
     ]
    },
    {
     "name": "stdout",
     "output_type": "stream",
     "text": [
      "Cada cigarro consumido subtrai 10 minutos da sua expectativa de vida, que já declinou 43800 minutos desde que você começou a fumar. Procure o serviço de saúde mais próximo para receber orientação médica sobre como parar de fumar.\n"
     ]
    }
   ],
   "source": [
    "# Exercício 3.15\n",
    "cigarros_dia = int(input(\"Quantos cigarros você fuma por dia?\"))\n",
    "anos = int(input(\"Há quantos anos você fuma?\"))\n",
    "\n",
    "cigarros_total = cigarros_dia * anos * 365\n",
    "tempo_perdido = cigarros_total * 10\n",
    "\n",
    "print(\"Cada cigarro consumido subtrai 10 minutos da sua expectativa de vida, que já declinou %d minutos desde que você começou a fumar. Procure o serviço de saúde mais próximo para receber orientação médica sobre como parar de fumar.\" % tempo_perdido)"
   ]
  },
  {
   "cell_type": "code",
   "execution_count": 89,
   "id": "4be0a6e3-23bf-4136-a4e5-b0fd42c0231f",
   "metadata": {},
   "outputs": [
    {
     "name": "stdin",
     "output_type": "stream",
     "text": [
      "Primeiro valor:  1\n",
      "Segundo valor:  1\n"
     ]
    }
   ],
   "source": [
    "# Exercício 4.1\n",
    "a = int(input(\"Primeiro valor: \"))\n",
    "b = int(input(\"Segundo valor: \"))\n",
    "\n",
    "if a > b:\n",
    "    print (\"O primeiro número é o maior!\")\n",
    "if b > a:\n",
    "    print (\"O segundo número é o maior!\")\n",
    "\n",
    "# Não há comando para a situação em que a = b. Nesse caso, o programa não imprimirá nenhum string."
   ]
  },
  {
   "cell_type": "code",
   "execution_count": 91,
   "id": "e404934f-7eac-41f3-b2cb-904130d62e5d",
   "metadata": {},
   "outputs": [
    {
     "name": "stdin",
     "output_type": "stream",
     "text": [
      "Qual é a velocidade, em km/h, a que você estava transitando? 100\n"
     ]
    },
    {
     "name": "stdout",
     "output_type": "stream",
     "text": [
      "Você foi multado em R$ 100.00.\n"
     ]
    }
   ],
   "source": [
    "# Exercício 4.2\n",
    "velocidade = float(input(\"Qual é a velocidade, em km/h, a que você estava transitando?\"))\n",
    "multa = 5 * (velocidade - 80)\n",
    "\n",
    "if velocidade > 80:\n",
    "    print(\"Você foi multado em R$ %.2f.\" % multa)\n",
    "\n",
    "if velocidade <= 80:\n",
    "    print(\"Você está dentro do limite de velocidade. Parabéns pela sua conduta.\")"
   ]
  },
  {
   "cell_type": "code",
   "execution_count": 13,
   "id": "6e5ad36c-de36-46b1-990b-294f2332d0d5",
   "metadata": {},
   "outputs": [
    {
     "name": "stdin",
     "output_type": "stream",
     "text": [
      "Digite um número: 1\n",
      "Digite mais um número: 1\n",
      "Digite outro número: 1\n"
     ]
    },
    {
     "name": "stdout",
     "output_type": "stream",
     "text": [
      "1 é o único número entre os três\n"
     ]
    }
   ],
   "source": [
    "# Exercício 4.3:\n",
    "a = int(input(\"Digite um número:\"))\n",
    "b = int(input(\"Digite mais um número:\"))\n",
    "c = int(input(\"Digite outro número:\"))\n",
    "\n",
    "if a<b<c:\n",
    "    print(\"%d é o menor número entre os três\" % a)\n",
    "    print(\"%d é o maior número entre os três\" % c)\n",
    "\n",
    "elif a<c<b:\n",
    "    print(\"%d é o menor número entre os três\" % a)\n",
    "    print(\"%d é o maior número entre os três\" % b)\n",
    "    \n",
    "elif b<c<a:\n",
    "    print(\"%d é o menor número entre os três\" % b)\n",
    "    print(\"%d é o maior número entre os três\" % a)\n",
    "\n",
    "elif b<a<c:\n",
    "    print(\"%d é o menor número entre os três\" % b)\n",
    "    print(\"%d é o maior número entre os três\" % c)\n",
    "    \n",
    "elif c<a<b:\n",
    "    print(\"%d é o menor número entre os três\" % c)\n",
    "    print(\"%d é o maior número entre os três\" % b)\n",
    "\n",
    "elif c<b<a:\n",
    "    print(\"%d é o menor número entre os três\" % c)\n",
    "    print(\"%d é o maior número entre os três\" % a)\n",
    "\n",
    "elif a==b<c or a<b==c:\n",
    "     print(\"%d é o menor número entre os três\" % a)\n",
    "     print(\"%d é o maior número entre os três\" % c)\n",
    "\n",
    "elif c<a==b or c==a<b:\n",
    "     print(\"%d é o menor número entre os três\" % c)\n",
    "     print(\"%d é o maior número entre os três\" % b)\n",
    "\n",
    "elif b==c<a or b<c==a:\n",
    "     print(\"%d é o menor número entre os três\" % b)\n",
    "     print(\"%d é o maior número entre os três\" % a)\n",
    "\n",
    "elif a==b==c:\n",
    "     print(\"%d é o único número entre os três\" % a)"
   ]
  },
  {
   "cell_type": "code",
   "execution_count": null,
   "id": "cb0354aa-a622-4392-9b44-64b3e8d818d7",
   "metadata": {},
   "outputs": [],
   "source": [
    "# Exercício 4.3: Solução do livro\n",
    "a = int(input(\"Digite o primeiro valor:\"))\n",
    "b = int(input(\"Digite o segundo valor:\"))\n",
    "c = int(input(\"Digite o terceiro valor:\"))\n",
    "maior = a\n",
    "if b > a and b > c:\n",
    "    maior = b\n",
    "if c > a and c >= b:\n",
    "    maior = c\n",
    "menor = a\n",
    "if b < c and b < a:\n",
    "    menor = b\n",
    "if c <= b and c < a:\n",
    "    menor = c\n",
    "print(f\"O menor número digitado foi {menor}\")\n",
    "print(f\"O maior número digitado foi {maior}\")"
   ]
  },
  {
   "cell_type": "code",
   "execution_count": 15,
   "id": "ebb9da52-8d22-467a-a3cd-3662822399af",
   "metadata": {},
   "outputs": [
    {
     "name": "stdin",
     "output_type": "stream",
     "text": [
      "Qual é o seu salário atual em reais? 1500\n"
     ]
    },
    {
     "name": "stdout",
     "output_type": "stream",
     "text": [
      "O seu salário será aumentado em R$ 150.00.\n"
     ]
    }
   ],
   "source": [
    "# Exercício 4.4:\n",
    "salario = float(input(\"Qual é o seu salário atual em reais?\"))\n",
    "if salario > 1250:\n",
    "    aumento = salario*0.1\n",
    "if salario <= 1250:\n",
    "    aumento = salario*0.15\n",
    "print(\"O seu salário será aumentado em R$ %.2f.\" % aumento)"
   ]
  },
  {
   "cell_type": "code",
   "execution_count": 5,
   "id": "58e756e0-19f3-4019-aae4-3ca58c418d2f",
   "metadata": {},
   "outputs": [
    {
     "name": "stdin",
     "output_type": "stream",
     "text": [
      "Digite a idade do seu carro:  3\n"
     ]
    },
    {
     "name": "stdout",
     "output_type": "stream",
     "text": [
      "Seu carro é novo\n"
     ]
    }
   ],
   "source": [
    "# Exercício 4.5 (opção 1):\n",
    "idade = int(input(\"Digite a idade do seu carro: \"))\n",
    "if idade <= 3:\n",
    "    print(\"Seu carro é novo\")\n",
    "if idade > 3:\n",
    "    print(\"Seu carro é velho\")"
   ]
  },
  {
   "cell_type": "code",
   "execution_count": 6,
   "id": "35c2d1fd-5890-4e8a-ad16-3a58bee173dd",
   "metadata": {},
   "outputs": [
    {
     "name": "stdin",
     "output_type": "stream",
     "text": [
      "Digite a idade do seu carro:  1\n"
     ]
    },
    {
     "name": "stdout",
     "output_type": "stream",
     "text": [
      "Seu carro é novo\n"
     ]
    }
   ],
   "source": [
    "# Exercício 4.5 (opção 2):\n",
    "idade = int(input(\"Digite a idade do seu carro: \"))\n",
    "if idade <= 3:\n",
    "    print(\"Seu carro é novo\")\n",
    "else:\n",
    "    print(\"Seu carro é velho\")"
   ]
  },
  {
   "cell_type": "code",
   "execution_count": 9,
   "id": "9eb6dd93-4a8f-4d7c-8af5-293ba5cbdc5b",
   "metadata": {},
   "outputs": [
    {
     "name": "stdin",
     "output_type": "stream",
     "text": [
      "Que distância, em km, você deseja percorrer? 1\n"
     ]
    },
    {
     "name": "stdout",
     "output_type": "stream",
     "text": [
      "O preço a ser pago é R$ 0.50.\n"
     ]
    }
   ],
   "source": [
    "# Exercício 4.6:\n",
    "distancia = float(input(\"Que distância, em km, você deseja percorrer?\"))\n",
    "if distancia <= 200:\n",
    "    preco = distancia*0.5\n",
    "else:\n",
    "    preco = distancia*0.45\n",
    "print(f\"O preço a ser pago é R$ {preco:.2f}.\")"
   ]
  },
  {
   "cell_type": "code",
   "execution_count": 2,
   "id": "f00f528e-6e35-4cb8-b291-ec27597c6b7a",
   "metadata": {},
   "outputs": [
    {
     "name": "stdin",
     "output_type": "stream",
     "text": [
      "Qual é o seu salário-base para cálculo do IR? 3200\n"
     ]
    },
    {
     "name": "stdout",
     "output_type": "stream",
     "text": [
      "Salário: R$ 3200.00 Imposto a pagar: R$ 470.00\n"
     ]
    }
   ],
   "source": [
    "# Listagem 4.4:\n",
    "salario = float(input(\"Qual é o seu salário-base para cálculo do IR?\"))\n",
    "base = salario\n",
    "imposto = 0\n",
    "if base > 3000:\n",
    "    imposto = imposto + (base - 3000) * 0.35\n",
    "    base = 3000\n",
    "if base > 1000:\n",
    "    imposto = imposto + (base - 1000) * 0.2\n",
    "print(\"Salário: R$ %.2f Imposto a pagar: R$ %.2f\" % (salario, imposto))"
   ]
  },
  {
   "cell_type": "code",
   "execution_count": 7,
   "id": "6e2891cd-c0b4-4bba-980a-95e9898684e3",
   "metadata": {},
   "outputs": [
    {
     "name": "stdin",
     "output_type": "stream",
     "text": [
      "Digite o primeiro número: 5\n",
      "Digite o segundo número: 0\n",
      "Que operação você deseja realizar: adição, subtração, multiplicação ou divisão? Divisão\n"
     ]
    },
    {
     "ename": "ZeroDivisionError",
     "evalue": "float division by zero",
     "output_type": "error",
     "traceback": [
      "\u001b[1;31m---------------------------------------------------------------------------\u001b[0m",
      "\u001b[1;31mZeroDivisionError\u001b[0m                         Traceback (most recent call last)",
      "Cell \u001b[1;32mIn[7], line 13\u001b[0m\n\u001b[0;32m     11\u001b[0m     \u001b[38;5;28mprint\u001b[39m(a\u001b[38;5;241m*\u001b[39mb)\n\u001b[0;32m     12\u001b[0m \u001b[38;5;28;01melif\u001b[39;00m c \u001b[38;5;241m==\u001b[39m \u001b[38;5;124m\"\u001b[39m\u001b[38;5;124mDivisão\u001b[39m\u001b[38;5;124m\"\u001b[39m \u001b[38;5;129;01mor\u001b[39;00m c \u001b[38;5;241m==\u001b[39m \u001b[38;5;124m\"\u001b[39m\u001b[38;5;124mdivisão\u001b[39m\u001b[38;5;124m\"\u001b[39m:\n\u001b[1;32m---> 13\u001b[0m     \u001b[38;5;28mprint\u001b[39m(a\u001b[38;5;241m/\u001b[39mb)\n\u001b[0;32m     14\u001b[0m \u001b[38;5;28;01melse\u001b[39;00m:\n\u001b[0;32m     15\u001b[0m     \u001b[38;5;28mprint\u001b[39m(\u001b[38;5;124m\"\u001b[39m\u001b[38;5;124mOperação inválida\u001b[39m\u001b[38;5;124m\"\u001b[39m)\n",
      "\u001b[1;31mZeroDivisionError\u001b[0m: float division by zero"
     ]
    }
   ],
   "source": [
    "# Exercício 4.8 (2ª ed.)/4.10 (4ª ed.):\n",
    "a = float(input(\"Digite o primeiro número:\"))\n",
    "b = float(input(\"Digite o segundo número:\"))\n",
    "c = input(\"Que operação você deseja realizar: adição, subtração, multiplicação ou divisão?\")\n",
    "\n",
    "if c == \"Soma\" or c == \"soma\" or c == \"Adição\" or c == \"adição\" or c == \"Mais\" or c == \"mais\":\n",
    "    print(a+b)\n",
    "elif c == \"Subtração\" or c == \"subtração\" or c == \"Menos\" or c == \"menos\":\n",
    "    print(a-b)\n",
    "elif c == \"Multiplicação\" or c == \"multiplicação\" or c == \"Vezes\" or c == \"vezes\":\n",
    "    print(a*b)\n",
    "elif c == \"Divisão\" or c == \"divisão\":\n",
    "    print(a/b)\n",
    "else:\n",
    "    print(\"Operação inválida\")"
   ]
  },
  {
   "cell_type": "code",
   "execution_count": 10,
   "id": "a3231143-9627-4cc1-b57e-23545d41e5dc",
   "metadata": {},
   "outputs": [
    {
     "name": "stdin",
     "output_type": "stream",
     "text": [
      "Qual é o valor da casa? 150000\n",
      "Qual é o seu salário? 5000\n",
      "Em quantos anos você pretende pagar? 50\n"
     ]
    },
    {
     "name": "stdout",
     "output_type": "stream",
     "text": [
      "Seu empréstimo foi aprovado! Suas prestações serão de R$ 250.00 ao mês.\n"
     ]
    }
   ],
   "source": [
    "# Exercício 4.9 (2ª ed.)/4.11 (4ª ed.):\n",
    "casa = float(input(\"Qual é o valor da casa?\"))\n",
    "salario = float(input(\"Qual é o seu salário?\"))\n",
    "anos = int(input(\"Em quantos anos você pretende pagar?\"))\n",
    "\n",
    "prestacao = casa / (anos*12)\n",
    "\n",
    "if prestacao <= (0.3*salario):\n",
    "    print(f\"Seu empréstimo foi aprovado! Suas prestações serão de R$ {prestacao:.2f} ao mês.\")\n",
    "\n",
    "else:\n",
    "    print(\"Desculpe, você não está elegível para o empréstimo.\")"
   ]
  },
  {
   "cell_type": "code",
   "execution_count": 24,
   "id": "3a1103b2-834f-4ca7-8621-9c48c7a0e164",
   "metadata": {},
   "outputs": [
    {
     "name": "stdin",
     "output_type": "stream",
     "text": [
      "Informe seu consumo em kWh: 1001\n",
      "Qual o seu tipo de instalação? Informe R para residencial, I para industrial ou C para comercial. C\n"
     ]
    },
    {
     "name": "stdout",
     "output_type": "stream",
     "text": [
      "O valor final a pagar é de R$ 600.60.\n"
     ]
    }
   ],
   "source": [
    "# Exercício 4.10 (2ª ed.)/4.12 (4ª ed.):\n",
    "consumo = float(input(\"Informe seu consumo em kWh:\"))\n",
    "tipo = str(input(\"Qual o seu tipo de instalação? Informe R para residencial, I para industrial ou C para comercial.\"))\n",
    "\n",
    "preco = 0\n",
    "\n",
    "if tipo == \"R\":\n",
    "    if consumo <= 500:\n",
    "        preco = 0.4\n",
    "    elif consumo > 500:\n",
    "        preco = 0.65\n",
    "\n",
    "if tipo == \"C\":\n",
    "    if consumo <= 1000:\n",
    "        preco = 0.55\n",
    "    elif consumo > 1000:\n",
    "        preco = 0.6\n",
    "   \n",
    "if tipo == \"I\":\n",
    "    if consumo <= 5000:\n",
    "        preco = 0.55\n",
    "    elif consumo > 5000:\n",
    "        preco = 0.6\n",
    "\n",
    "valor_final = preco*consumo\n",
    "\n",
    "if consumo >= 0:\n",
    "    print(f\"O valor final a pagar é de R$ {valor_final:.2f}.\")\n",
    "    \n",
    "else:\n",
    "    print(\"Consumo inválido\")"
   ]
  },
  {
   "cell_type": "code",
   "execution_count": 35,
   "id": "a2e53fd0-70d7-41f9-bd32-95d70f9687f6",
   "metadata": {},
   "outputs": [
    {
     "name": "stdin",
     "output_type": "stream",
     "text": [
      "a = 1\n",
      "b = 1\n"
     ]
    },
    {
     "name": "stdout",
     "output_type": "stream",
     "text": [
      "a é igual a b\n"
     ]
    }
   ],
   "source": [
    "# Exercício 4.13 (4ª ed.):\n",
    "a = int(input(\"a =\"))\n",
    "b = int(input(\"b =\"))\n",
    "\n",
    "if not a <= b:\n",
    "    print(\"a é maior que b\")\n",
    "elif not a >= b:\n",
    "    print(\"b é maior que a\")\n",
    "else:\n",
    "    print(\"a é igual a b\")"
   ]
  },
  {
   "cell_type": "code",
   "execution_count": 39,
   "id": "d75ea6e6-3ad2-4882-9d91-ac8f42a624bb",
   "metadata": {},
   "outputs": [
    {
     "name": "stdin",
     "output_type": "stream",
     "text": [
      " 21\n"
     ]
    },
    {
     "name": "stdout",
     "output_type": "stream",
     "text": [
      "a é maior que 20\n"
     ]
    }
   ],
   "source": [
    "# Exercício 4.14 (4ª ed.):\n",
    "a = int(input())\n",
    "\n",
    "if a < 10:\n",
    "    print(\"a é menor que 10\")\n",
    "elif a >= 10 and a < 20:\n",
    "    print(\"a é maior que 10 e menor que 20\")\n",
    "else:\n",
    "    print(\"a é maior que 20\")"
   ]
  },
  {
   "cell_type": "code",
   "execution_count": 40,
   "id": "974ee6fe-6192-4732-8a54-70bee021e4a2",
   "metadata": {},
   "outputs": [
    {
     "name": "stdin",
     "output_type": "stream",
     "text": [
      "Digite a hora atual: 19\n"
     ]
    },
    {
     "name": "stdout",
     "output_type": "stream",
     "text": [
      "Boa noite!\n"
     ]
    }
   ],
   "source": [
    "# Exercício 4.15 (4ª ed.):\n",
    "hora = int(input(\"Digite a hora atual:\"))\n",
    "\n",
    "if hora < 12:\n",
    "    print(\"Bom dia!\")\n",
    "elif hora >= 12 and hora <= 18:\n",
    "    print(\"Boa tarde!\")\n",
    "else:\n",
    "    print(\"Boa noite!\")"
   ]
  },
  {
   "cell_type": "code",
   "execution_count": 47,
   "id": "efe2498c-a711-474d-b8b3-68ce9419cce9",
   "metadata": {},
   "outputs": [
    {
     "name": "stdin",
     "output_type": "stream",
     "text": [
      "Digite sua média: 6.99999\n"
     ]
    },
    {
     "name": "stdout",
     "output_type": "stream",
     "text": [
      "Você ficou de recuperação\n"
     ]
    }
   ],
   "source": [
    "# Exercício 4.16 (4ª ed.):\n",
    "média = float(input(\"Digite sua média:\"))\n",
    "\n",
    "if média < 4:\n",
    "    print(\"Infelizmente você reprovou\")\n",
    "elif média < 7:\n",
    "    print(\"Você ficou de recuperação\")\n",
    "else: # Entenda-se que o aluno está aprovado com média >= 7, para abarcar o caso média = 7\n",
    "    print(\"Você passou de ano\")"
   ]
  }
 ],
 "metadata": {
  "kernelspec": {
   "display_name": "Python 3 (ipykernel)",
   "language": "python",
   "name": "python3"
  },
  "language_info": {
   "codemirror_mode": {
    "name": "ipython",
    "version": 3
   },
   "file_extension": ".py",
   "mimetype": "text/x-python",
   "name": "python",
   "nbconvert_exporter": "python",
   "pygments_lexer": "ipython3",
   "version": "3.11.7"
  }
 },
 "nbformat": 4,
 "nbformat_minor": 5
}
