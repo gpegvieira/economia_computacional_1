{
 "cells": [
  {
   "cell_type": "code",
   "execution_count": 1,
   "id": "e46515bb-2d82-4c50-a38d-0ac09d7cf48e",
   "metadata": {},
   "outputs": [],
   "source": [
    "def soma(a,b):\n",
    "    print(a+b)"
   ]
  },
  {
   "cell_type": "code",
   "execution_count": 2,
   "id": "98834034",
   "metadata": {},
   "outputs": [
    {
     "name": "stdout",
     "output_type": "stream",
     "text": [
      "11\n"
     ]
    }
   ],
   "source": [
    "soma(2,9)"
   ]
  },
  {
   "cell_type": "code",
   "execution_count": 3,
   "id": "8233e17f",
   "metadata": {},
   "outputs": [
    {
     "name": "stdout",
     "output_type": "stream",
     "text": [
      "15\n"
     ]
    }
   ],
   "source": [
    "soma(7,8)"
   ]
  },
  {
   "cell_type": "code",
   "execution_count": 4,
   "id": "a65f3dcc",
   "metadata": {},
   "outputs": [
    {
     "name": "stdout",
     "output_type": "stream",
     "text": [
      "25\n"
     ]
    }
   ],
   "source": [
    "soma(10,15)"
   ]
  },
  {
   "cell_type": "code",
   "execution_count": 5,
   "id": "047085ad",
   "metadata": {},
   "outputs": [],
   "source": [
    "def soma(a,b):\n",
    "    return(a+b)"
   ]
  },
  {
   "cell_type": "code",
   "execution_count": 6,
   "id": "8d3c5919",
   "metadata": {},
   "outputs": [
    {
     "name": "stdout",
     "output_type": "stream",
     "text": [
      "11\n"
     ]
    }
   ],
   "source": [
    "print(soma(2,9))"
   ]
  },
  {
   "cell_type": "code",
   "execution_count": 7,
   "id": "a4511942",
   "metadata": {},
   "outputs": [
    {
     "name": "stdout",
     "output_type": "stream",
     "text": [
      "True\n",
      "False\n",
      "True\n"
     ]
    }
   ],
   "source": [
    "def épar(x):\n",
    "    return(x%2==0)\n",
    "print(épar(2))\n",
    "print(épar(3))\n",
    "print(épar(10))"
   ]
  },
  {
   "cell_type": "code",
   "execution_count": 9,
   "id": "596fbccd",
   "metadata": {},
   "outputs": [
    {
     "name": "stdout",
     "output_type": "stream",
     "text": [
      "par\n",
      "ímpar\n"
     ]
    }
   ],
   "source": [
    "def épar(x):\n",
    "    return(x%2==0)\n",
    "def par_ou_ímpar(x):\n",
    "    if épar(x):\n",
    "        return \"par\"\n",
    "    else:\n",
    "        return 'ímpar'\n",
    "print(par_ou_ímpar(4))\n",
    "print(par_ou_ímpar(5))"
   ]
  },
  {
   "cell_type": "code",
   "execution_count": 10,
   "id": "8bf0d97d",
   "metadata": {},
   "outputs": [
    {
     "name": "stdout",
     "output_type": "stream",
     "text": [
      "2\n",
      "None\n"
     ]
    }
   ],
   "source": [
    "def pesquise(lista, valor):\n",
    "    for x,e in enumerate(lista):\n",
    "        if e == valor:\n",
    "            return x\n",
    "    return None\n",
    "L = [10,20,25,30]\n",
    "print(pesquise(L,25))\n",
    "print(pesquise(L,27))"
   ]
  },
  {
   "cell_type": "code",
   "execution_count": 1,
   "id": "3616590c",
   "metadata": {},
   "outputs": [],
   "source": [
    "def soma(L):\n",
    "    total = 0\n",
    "    for e in L:\n",
    "        total = total + e\n",
    "    return total\n",
    "def media(L):\n",
    "    return(soma(L)/len(L))"
   ]
  },
  {
   "cell_type": "code",
   "execution_count": 2,
   "id": "bb9e7295",
   "metadata": {},
   "outputs": [],
   "source": [
    "L = [1,2,3,4,5]"
   ]
  },
  {
   "cell_type": "code",
   "execution_count": 3,
   "id": "7a0f1aed",
   "metadata": {},
   "outputs": [
    {
     "name": "stdout",
     "output_type": "stream",
     "text": [
      "15\n"
     ]
    }
   ],
   "source": [
    "print(soma(L))"
   ]
  },
  {
   "cell_type": "code",
   "execution_count": 4,
   "id": "4f09e1f1",
   "metadata": {},
   "outputs": [
    {
     "name": "stdout",
     "output_type": "stream",
     "text": [
      "3.0\n"
     ]
    }
   ],
   "source": [
    "print(media(L))"
   ]
  },
  {
   "cell_type": "code",
   "execution_count": 5,
   "id": "155cfbe7",
   "metadata": {},
   "outputs": [],
   "source": [
    "def media(L):\n",
    "    total = 0\n",
    "    for e in L:\n",
    "        total = total + e\n",
    "    return total/len(L)"
   ]
  },
  {
   "cell_type": "code",
   "execution_count": 6,
   "id": "c485ca94",
   "metadata": {},
   "outputs": [
    {
     "name": "stdout",
     "output_type": "stream",
     "text": [
      "3.0\n"
     ]
    }
   ],
   "source": [
    "print(media(L))"
   ]
  },
  {
   "cell_type": "code",
   "execution_count": 9,
   "id": "b8fbaf4e",
   "metadata": {},
   "outputs": [
    {
     "name": "stdout",
     "output_type": "stream",
     "text": [
      "34\n",
      "131\n"
     ]
    }
   ],
   "source": [
    "def soma(L):\n",
    "    total = 0\n",
    "    x = 0\n",
    "    while x < 5:\n",
    "        total = total + L[x]\n",
    "        x = x + 1\n",
    "    return total\n",
    "L = [1,7,2,9,15]\n",
    "print(soma(L))\n",
    "print(soma([7,9,12,3,100,20,4]))"
   ]
  },
  {
   "cell_type": "code",
   "execution_count": 10,
   "id": "df066d35",
   "metadata": {},
   "outputs": [],
   "source": [
    "def fatorial(n):\n",
    "    fat = 1\n",
    "    while n > 1:\n",
    "        fat = fat*n\n",
    "        n = n-1\n",
    "    return fat"
   ]
  },
  {
   "cell_type": "code",
   "execution_count": 11,
   "id": "0fefd25a",
   "metadata": {},
   "outputs": [
    {
     "data": {
      "text/plain": [
       "3628800"
      ]
     },
     "execution_count": 11,
     "metadata": {},
     "output_type": "execute_result"
    }
   ],
   "source": [
    "fatorial(10)"
   ]
  },
  {
   "cell_type": "code",
   "execution_count": 12,
   "id": "6b1a5270",
   "metadata": {},
   "outputs": [
    {
     "data": {
      "text/plain": [
       "120"
      ]
     },
     "execution_count": 12,
     "metadata": {},
     "output_type": "execute_result"
    }
   ],
   "source": [
    "fatorial(5)"
   ]
  },
  {
   "cell_type": "code",
   "execution_count": 13,
   "id": "af577ee7",
   "metadata": {},
   "outputs": [],
   "source": [
    "def fatorial(n):\n",
    "    fat = 1\n",
    "    x = 1\n",
    "    while x <= n:\n",
    "        fat*=x\n",
    "        x+=1\n",
    "    return fat"
   ]
  },
  {
   "cell_type": "code",
   "execution_count": 14,
   "id": "152a82f5",
   "metadata": {},
   "outputs": [],
   "source": [
    "L = [5,7,8]"
   ]
  },
  {
   "cell_type": "code",
   "execution_count": 15,
   "id": "2da9709e",
   "metadata": {},
   "outputs": [
    {
     "data": {
      "text/plain": [
       "20"
      ]
     },
     "execution_count": 15,
     "metadata": {},
     "output_type": "execute_result"
    }
   ],
   "source": [
    "sum(L)"
   ]
  },
  {
   "cell_type": "code",
   "execution_count": 16,
   "id": "cd32ea9e",
   "metadata": {},
   "outputs": [
    {
     "data": {
      "text/plain": [
       "8"
      ]
     },
     "execution_count": 16,
     "metadata": {},
     "output_type": "execute_result"
    }
   ],
   "source": [
    "max(L)"
   ]
  },
  {
   "cell_type": "code",
   "execution_count": 17,
   "id": "ddb60b9e",
   "metadata": {},
   "outputs": [
    {
     "data": {
      "text/plain": [
       "5"
      ]
     },
     "execution_count": 17,
     "metadata": {},
     "output_type": "execute_result"
    }
   ],
   "source": [
    "min(L)"
   ]
  },
  {
   "cell_type": "code",
   "execution_count": 1,
   "id": "04bc4cb9",
   "metadata": {},
   "outputs": [],
   "source": [
    "EMPRESA=\"Unidos Venceremos Ltda\"\n",
    "def imprime_cabeçalho():\n",
    "    print(EMPRESA)\n",
    "    print(\"-\" * len(EMPRESA))"
   ]
  },
  {
   "cell_type": "code",
   "execution_count": 2,
   "id": "7f272806",
   "metadata": {},
   "outputs": [
    {
     "name": "stdout",
     "output_type": "stream",
     "text": [
      "Unidos Venceremos Ltda\n",
      "----------------------\n"
     ]
    }
   ],
   "source": [
    "imprime_cabeçalho()"
   ]
  },
  {
   "cell_type": "code",
   "execution_count": 4,
   "id": "f8616022",
   "metadata": {},
   "outputs": [
    {
     "name": "stdout",
     "output_type": "stream",
     "text": [
      "a antes de mudar: 5\n",
      "a dentro da função: 7\n",
      "a depois de mudar: 5\n"
     ]
    }
   ],
   "source": [
    "# Exemplo incorreto: a só muda dentro da função\n",
    "a=5\n",
    "def muda_e_imprime():\n",
    "    a=7\n",
    "    print(\"a dentro da função: %d\" % a)\n",
    "print(\"a antes de mudar: %d\" % a)\n",
    "muda_e_imprime()\n",
    "print(\"a depois de mudar: %d\" % a)"
   ]
  },
  {
   "cell_type": "code",
   "execution_count": 5,
   "id": "28638c63",
   "metadata": {},
   "outputs": [
    {
     "name": "stdout",
     "output_type": "stream",
     "text": [
      "a antes de mudar: 5\n",
      "a dentro da função: 7\n",
      "a depois de mudar: 7\n"
     ]
    }
   ],
   "source": [
    "# Exemplo corrigido\n",
    "a=5\n",
    "def muda_e_imprime():\n",
    "    global a\n",
    "    a=7\n",
    "    print(\"a dentro da função: %d\" % a)\n",
    "print(\"a antes de mudar: %d\" % a)\n",
    "muda_e_imprime()\n",
    "print(\"a depois de mudar: %d\" % a)"
   ]
  },
  {
   "cell_type": "code",
   "execution_count": 6,
   "id": "0035876b",
   "metadata": {},
   "outputs": [],
   "source": [
    "def fatorial(n):\n",
    "    if n==0 or n==1:\n",
    "        return 1\n",
    "    else:\n",
    "        return n*fatorial(n-1)"
   ]
  },
  {
   "cell_type": "code",
   "execution_count": 7,
   "id": "ba934260",
   "metadata": {},
   "outputs": [
    {
     "data": {
      "text/plain": [
       "120"
      ]
     },
     "execution_count": 7,
     "metadata": {},
     "output_type": "execute_result"
    }
   ],
   "source": [
    "fatorial(5)"
   ]
  },
  {
   "cell_type": "code",
   "execution_count": 13,
   "id": "28453884",
   "metadata": {},
   "outputs": [],
   "source": [
    "def fatorial(n):\n",
    "    print(\"Calculando o fatorial de %d\" % n)\n",
    "    if n==0 or n==1:\n",
    "        print(\"Fatorial de %d = 1\" % n)\n",
    "        return 1\n",
    "    else:\n",
    "        fat = n*fatorial(n-1)\n",
    "        print(\" fatorial de %d = %d\" % (n, fat))\n",
    "    return fat"
   ]
  },
  {
   "cell_type": "code",
   "execution_count": 14,
   "id": "f077e259",
   "metadata": {},
   "outputs": [
    {
     "name": "stdout",
     "output_type": "stream",
     "text": [
      "Calculando o fatorial de 4\n",
      "Calculando o fatorial de 3\n",
      "Calculando o fatorial de 2\n",
      "Calculando o fatorial de 1\n",
      "Fatorial de 1 = 1\n",
      " fatorial de 2 = 2\n",
      " fatorial de 3 = 6\n",
      " fatorial de 4 = 24\n"
     ]
    },
    {
     "data": {
      "text/plain": [
       "24"
      ]
     },
     "execution_count": 14,
     "metadata": {},
     "output_type": "execute_result"
    }
   ],
   "source": [
    "fatorial(4)"
   ]
  },
  {
   "cell_type": "code",
   "execution_count": 10,
   "id": "ace435f8",
   "metadata": {},
   "outputs": [],
   "source": [
    "def fibonacci(n):\n",
    "    if n<=1:\n",
    "        return n\n",
    "    else:\n",
    "        return fibonacci(n-1)+fibonacci(n-2)"
   ]
  },
  {
   "cell_type": "code",
   "execution_count": 11,
   "id": "7ec110ba",
   "metadata": {},
   "outputs": [
    {
     "data": {
      "text/plain": [
       "3"
      ]
     },
     "execution_count": 11,
     "metadata": {},
     "output_type": "execute_result"
    }
   ],
   "source": [
    "fibonacci(4)"
   ]
  },
  {
   "cell_type": "code",
   "execution_count": 17,
   "id": "92049756",
   "metadata": {},
   "outputs": [
    {
     "data": {
      "text/plain": [
       "1"
      ]
     },
     "execution_count": 17,
     "metadata": {},
     "output_type": "execute_result"
    }
   ],
   "source": [
    "fibonacci(2)"
   ]
  },
  {
   "cell_type": "code",
   "execution_count": 19,
   "id": "0ab36051",
   "metadata": {},
   "outputs": [
    {
     "name": "stdout",
     "output_type": "stream",
     "text": [
      "Digite um valor entre 0 e 5: -1\n",
      "Valor inválido.\n",
      "Digite um valor entre 0 e 5: k\n"
     ]
    },
    {
     "ename": "ValueError",
     "evalue": "invalid literal for int() with base 10: 'k'",
     "output_type": "error",
     "traceback": [
      "\u001b[1;31m---------------------------------------------------------------------------\u001b[0m",
      "\u001b[1;31mValueError\u001b[0m                                Traceback (most recent call last)",
      "Cell \u001b[1;32mIn[19], line 2\u001b[0m\n\u001b[0;32m      1\u001b[0m \u001b[38;5;28;01mwhile\u001b[39;00m \u001b[38;5;28;01mTrue\u001b[39;00m:\n\u001b[1;32m----> 2\u001b[0m     v \u001b[38;5;241m=\u001b[39m \u001b[38;5;28mint\u001b[39m(\u001b[38;5;28minput\u001b[39m(\u001b[38;5;124m\"\u001b[39m\u001b[38;5;124mDigite um valor entre 0 e 5: \u001b[39m\u001b[38;5;124m\"\u001b[39m))\n\u001b[0;32m      3\u001b[0m     \u001b[38;5;28;01mif\u001b[39;00m v\u001b[38;5;241m<\u001b[39m\u001b[38;5;241m0\u001b[39m \u001b[38;5;129;01mor\u001b[39;00m v\u001b[38;5;241m>\u001b[39m\u001b[38;5;241m5\u001b[39m:\n\u001b[0;32m      4\u001b[0m         \u001b[38;5;28mprint\u001b[39m(\u001b[38;5;124m\"\u001b[39m\u001b[38;5;124mValor inválido.\u001b[39m\u001b[38;5;124m\"\u001b[39m)\n",
      "\u001b[1;31mValueError\u001b[0m: invalid literal for int() with base 10: 'k'"
     ]
    }
   ],
   "source": [
    "while True:\n",
    "    v = int(input(\"Digite um valor entre 0 e 5: \"))\n",
    "    if v<0 or v>5:\n",
    "        print(\"Valor inválido.\")\n",
    "    else:\n",
    "        break"
   ]
  },
  {
   "cell_type": "code",
   "execution_count": 1,
   "id": "3f16e35b",
   "metadata": {},
   "outputs": [],
   "source": [
    "def faixa_int(pergunta, minimo, maximo):\n",
    "    while True:\n",
    "        v = int(input(pergunta))\n",
    "        if v<minimo or v>maximo:\n",
    "            print(\"Valor inválido. Digite um valor entre %d e %d.\" % (minimo, maximo))\n",
    "        else:\n",
    "            return v"
   ]
  },
  {
   "cell_type": "code",
   "execution_count": 2,
   "id": "54b848df",
   "metadata": {},
   "outputs": [],
   "source": [
    "def barra():\n",
    "    print(\"*\" * 40)"
   ]
  },
  {
   "cell_type": "code",
   "execution_count": 3,
   "id": "2968b8e2",
   "metadata": {},
   "outputs": [
    {
     "name": "stdout",
     "output_type": "stream",
     "text": [
      "****************************************\n"
     ]
    }
   ],
   "source": [
    "barra()"
   ]
  },
  {
   "cell_type": "code",
   "execution_count": 4,
   "id": "beca7497",
   "metadata": {},
   "outputs": [],
   "source": [
    "def barra(n=40, caractere=\"*\"):\n",
    "    print(caractere * n)"
   ]
  },
  {
   "cell_type": "code",
   "execution_count": 5,
   "id": "bb92f1ef",
   "metadata": {},
   "outputs": [
    {
     "name": "stdout",
     "output_type": "stream",
     "text": [
      "****************************************\n"
     ]
    }
   ],
   "source": [
    "barra()"
   ]
  },
  {
   "cell_type": "code",
   "execution_count": 7,
   "id": "afbea36a",
   "metadata": {},
   "outputs": [
    {
     "name": "stdout",
     "output_type": "stream",
     "text": [
      "----------\n"
     ]
    }
   ],
   "source": [
    "barra(10, \"-\")"
   ]
  },
  {
   "cell_type": "code",
   "execution_count": 8,
   "id": "5a8d2e69",
   "metadata": {},
   "outputs": [
    {
     "name": "stdout",
     "output_type": "stream",
     "text": [
      "****************************************\n"
     ]
    }
   ],
   "source": [
    "barra()"
   ]
  },
  {
   "cell_type": "code",
   "execution_count": 9,
   "id": "3962352a",
   "metadata": {},
   "outputs": [
    {
     "name": "stdout",
     "output_type": "stream",
     "text": [
      "**********\n"
     ]
    }
   ],
   "source": [
    "barra(10)"
   ]
  },
  {
   "cell_type": "code",
   "execution_count": 10,
   "id": "b32470d1",
   "metadata": {},
   "outputs": [],
   "source": [
    "def soma(a, b, imprime=False): # Parâmetros opcionais devem ser sempre os últimos\n",
    "    s = a + b\n",
    "    if imprime:\n",
    "        print(s)\n",
    "    return s"
   ]
  },
  {
   "cell_type": "code",
   "execution_count": 11,
   "id": "d1aa8c11",
   "metadata": {},
   "outputs": [
    {
     "data": {
      "text/plain": [
       "5"
      ]
     },
     "execution_count": 11,
     "metadata": {},
     "output_type": "execute_result"
    }
   ],
   "source": [
    "soma(2,3)"
   ]
  },
  {
   "cell_type": "code",
   "execution_count": 12,
   "id": "d528b7b4",
   "metadata": {},
   "outputs": [
    {
     "name": "stdout",
     "output_type": "stream",
     "text": [
      "7\n"
     ]
    },
    {
     "data": {
      "text/plain": [
       "7"
      ]
     },
     "execution_count": 12,
     "metadata": {},
     "output_type": "execute_result"
    }
   ],
   "source": [
    "soma(3,4,True)"
   ]
  },
  {
   "cell_type": "code",
   "execution_count": 13,
   "id": "64bf0c98",
   "metadata": {},
   "outputs": [
    {
     "data": {
      "text/plain": [
       "13"
      ]
     },
     "execution_count": 13,
     "metadata": {},
     "output_type": "execute_result"
    }
   ],
   "source": [
    "soma(5,8,False)"
   ]
  },
  {
   "cell_type": "code",
   "execution_count": 14,
   "id": "978aeac6",
   "metadata": {},
   "outputs": [],
   "source": [
    "def retangulo(largura, altura, caractere=\"*\"):\n",
    "    linha = caractere * largura\n",
    "    for i in range(altura):\n",
    "        print(linha)"
   ]
  },
  {
   "cell_type": "code",
   "execution_count": 15,
   "id": "9d0847ff",
   "metadata": {},
   "outputs": [
    {
     "name": "stdout",
     "output_type": "stream",
     "text": [
      "***\n",
      "***\n",
      "***\n",
      "***\n"
     ]
    }
   ],
   "source": [
    "retangulo(3,4)"
   ]
  },
  {
   "cell_type": "code",
   "execution_count": 16,
   "id": "f3a121ed",
   "metadata": {},
   "outputs": [
    {
     "name": "stdout",
     "output_type": "stream",
     "text": [
      "***\n",
      "***\n",
      "***\n",
      "***\n"
     ]
    }
   ],
   "source": [
    "retangulo(largura=3, altura=4)"
   ]
  },
  {
   "cell_type": "code",
   "execution_count": 17,
   "id": "9a6d3bcd",
   "metadata": {},
   "outputs": [
    {
     "name": "stdout",
     "output_type": "stream",
     "text": [
      "***\n",
      "***\n",
      "***\n",
      "***\n"
     ]
    }
   ],
   "source": [
    "retangulo(altura=4, largura=3)"
   ]
  },
  {
   "cell_type": "code",
   "execution_count": 18,
   "id": "4b8a9b4e",
   "metadata": {},
   "outputs": [
    {
     "name": "stdout",
     "output_type": "stream",
     "text": [
      "---\n",
      "---\n",
      "---\n",
      "---\n"
     ]
    }
   ],
   "source": [
    "retangulo(caractere=\"-\", altura=4, largura=3)"
   ]
  },
  {
   "cell_type": "code",
   "execution_count": 19,
   "id": "c4cd25aa",
   "metadata": {},
   "outputs": [
    {
     "ename": "SyntaxError",
     "evalue": "positional argument follows keyword argument (3611748744.py, line 1)",
     "output_type": "error",
     "traceback": [
      "\u001b[1;36m  Cell \u001b[1;32mIn[19], line 1\u001b[1;36m\u001b[0m\n\u001b[1;33m    retangulo(largura=3, 4)\u001b[0m\n\u001b[1;37m                          ^\u001b[0m\n\u001b[1;31mSyntaxError\u001b[0m\u001b[1;31m:\u001b[0m positional argument follows keyword argument\n"
     ]
    }
   ],
   "source": [
    "retangulo(largura=3, 4)"
   ]
  },
  {
   "cell_type": "code",
   "execution_count": 20,
   "id": "e4a237e7",
   "metadata": {},
   "outputs": [
    {
     "ename": "SyntaxError",
     "evalue": "positional argument follows keyword argument (2474510954.py, line 1)",
     "output_type": "error",
     "traceback": [
      "\u001b[1;36m  Cell \u001b[1;32mIn[20], line 1\u001b[1;36m\u001b[0m\n\u001b[1;33m    retangulo(largura=3,altura=4,\"*\")\u001b[0m\n\u001b[1;37m                                    ^\u001b[0m\n\u001b[1;31mSyntaxError\u001b[0m\u001b[1;31m:\u001b[0m positional argument follows keyword argument\n"
     ]
    }
   ],
   "source": [
    "retangulo(largura=3,altura=4,\"*\")"
   ]
  },
  {
   "cell_type": "code",
   "execution_count": 21,
   "id": "4338e534",
   "metadata": {},
   "outputs": [
    {
     "name": "stdout",
     "output_type": "stream",
     "text": [
      "***\n",
      "***\n",
      "***\n",
      "***\n"
     ]
    }
   ],
   "source": [
    "retangulo(3, altura=4)"
   ]
  },
  {
   "cell_type": "code",
   "execution_count": 22,
   "id": "3dde5095",
   "metadata": {},
   "outputs": [
    {
     "name": "stdout",
     "output_type": "stream",
     "text": [
      "9\n",
      "9\n"
     ]
    }
   ],
   "source": [
    "def soma(a,b):\n",
    "    return a+b\n",
    "def subtracao(a,b):\n",
    "    return a-b\n",
    "def imprime(a,b, foper):\n",
    "    print(foper(a,b))\n",
    "imprime(5,4, soma)\n",
    "imprime(10,1, subtracao)"
   ]
  },
  {
   "cell_type": "code",
   "execution_count": 25,
   "id": "b1fb5e22",
   "metadata": {},
   "outputs": [
    {
     "name": "stdout",
     "output_type": "stream",
     "text": [
      "Valor: 2\n",
      "Valor: 0\n",
      "Valor: 1\n",
      "Valor: 7\n",
      "Valor: 9\n",
      "Valor: 11\n"
     ]
    }
   ],
   "source": [
    "def imprime_lista(L, fimpressao, fcondicao):\n",
    "    for e in L:\n",
    "        if fcondicao(e):\n",
    "            fimpressao(e)\n",
    "def imprime_elemento(e):\n",
    "    print(\"Valor: %d\" % e)\n",
    "def epar(x):\n",
    "    return x%2==0\n",
    "def eimpar(x):\n",
    "    return not epar(x)\n",
    "L=[1,7,9,2,11,0]\n",
    "imprime_lista(L, imprime_elemento, epar)\n",
    "imprime_lista(L, imprime_elemento, eimpar)"
   ]
  },
  {
   "cell_type": "code",
   "execution_count": 30,
   "id": "b84bd2b8",
   "metadata": {},
   "outputs": [
    {
     "name": "stdout",
     "output_type": "stream",
     "text": [
      "5\n"
     ]
    }
   ],
   "source": [
    "def soma(a,b):\n",
    "    print(a+b)\n",
    "L=[2,3]\n",
    "soma(*L)"
   ]
  },
  {
   "cell_type": "code",
   "execution_count": 32,
   "id": "bad9077d",
   "metadata": {},
   "outputs": [
    {
     "name": "stdout",
     "output_type": "stream",
     "text": [
      "-----\n",
      "**********\n",
      "*****\n",
      "......\n"
     ]
    }
   ],
   "source": [
    "def barra(n=10, c=\"*\"):\n",
    "    print(c*n)\n",
    "L=[[5,'-'], [10, '*'], [5], [6,'.']]\n",
    "for e in L:\n",
    "    barra(*e)"
   ]
  },
  {
   "cell_type": "code",
   "execution_count": 34,
   "id": "1acf04f3",
   "metadata": {},
   "outputs": [],
   "source": [
    "def soma(*args):\n",
    "    s=0\n",
    "    for x in args:\n",
    "        s+=x\n",
    "    return s"
   ]
  },
  {
   "cell_type": "code",
   "execution_count": 35,
   "id": "3f5aea5f",
   "metadata": {},
   "outputs": [
    {
     "data": {
      "text/plain": [
       "3"
      ]
     },
     "execution_count": 35,
     "metadata": {},
     "output_type": "execute_result"
    }
   ],
   "source": [
    "soma(1,2)"
   ]
  },
  {
   "cell_type": "code",
   "execution_count": 36,
   "id": "7e2c848c",
   "metadata": {},
   "outputs": [
    {
     "data": {
      "text/plain": [
       "2"
      ]
     },
     "execution_count": 36,
     "metadata": {},
     "output_type": "execute_result"
    }
   ],
   "source": [
    "soma(2)"
   ]
  },
  {
   "cell_type": "code",
   "execution_count": 37,
   "id": "b2aa2e49",
   "metadata": {},
   "outputs": [
    {
     "data": {
      "text/plain": [
       "26"
      ]
     },
     "execution_count": 37,
     "metadata": {},
     "output_type": "execute_result"
    }
   ],
   "source": [
    "soma(5,6,7,8)"
   ]
  },
  {
   "cell_type": "code",
   "execution_count": 38,
   "id": "65faa8d2",
   "metadata": {},
   "outputs": [
    {
     "data": {
      "text/plain": [
       "109"
      ]
     },
     "execution_count": 38,
     "metadata": {},
     "output_type": "execute_result"
    }
   ],
   "source": [
    "soma(9,10,20,30,40)"
   ]
  },
  {
   "cell_type": "code",
   "execution_count": 41,
   "id": "261a60f0",
   "metadata": {},
   "outputs": [],
   "source": [
    "def imprime_maior(mensagem, *numeros):\n",
    "    maior = None\n",
    "    for e in numeros:\n",
    "        if maior == None or maior < e:\n",
    "            maior = e\n",
    "    print(mensagem, maior)\n"
   ]
  },
  {
   "cell_type": "code",
   "execution_count": 42,
   "id": "b54a1562",
   "metadata": {},
   "outputs": [
    {
     "name": "stdout",
     "output_type": "stream",
     "text": [
      "Maior: 5\n"
     ]
    }
   ],
   "source": [
    "imprime_maior(\"Maior:\", 5, 4, 3, 1)"
   ]
  },
  {
   "cell_type": "code",
   "execution_count": 43,
   "id": "a1bafc96",
   "metadata": {},
   "outputs": [
    {
     "name": "stdout",
     "output_type": "stream",
     "text": [
      "Max: 9\n"
     ]
    }
   ],
   "source": [
    "imprime_maior(\"Max:\", *[1,7,9])"
   ]
  },
  {
   "cell_type": "code",
   "execution_count": 44,
   "id": "64eda0d4",
   "metadata": {},
   "outputs": [
    {
     "ename": "TypeError",
     "evalue": "imprime_maior() missing 1 required positional argument: 'mensagem'",
     "output_type": "error",
     "traceback": [
      "\u001b[1;31m---------------------------------------------------------------------------\u001b[0m",
      "\u001b[1;31mTypeError\u001b[0m                                 Traceback (most recent call last)",
      "Cell \u001b[1;32mIn[44], line 1\u001b[0m\n\u001b[1;32m----> 1\u001b[0m imprime_maior()\n",
      "\u001b[1;31mTypeError\u001b[0m: imprime_maior() missing 1 required positional argument: 'mensagem'"
     ]
    }
   ],
   "source": [
    "imprime_maior()"
   ]
  },
  {
   "cell_type": "code",
   "execution_count": 45,
   "id": "07326092",
   "metadata": {},
   "outputs": [
    {
     "name": "stdout",
     "output_type": "stream",
     "text": [
      "Max: None\n"
     ]
    }
   ],
   "source": [
    "imprime_maior(\"Max:\")"
   ]
  },
  {
   "cell_type": "code",
   "execution_count": 46,
   "id": "e6016ab1",
   "metadata": {},
   "outputs": [
    {
     "name": "stdout",
     "output_type": "stream",
     "text": [
      "6\n"
     ]
    }
   ],
   "source": [
    "a=lambda x: x*2\n",
    "print(a(3))"
   ]
  },
  {
   "cell_type": "code",
   "execution_count": 47,
   "id": "ad1f9507",
   "metadata": {},
   "outputs": [],
   "source": [
    "aumento=lambda a,b: (a*b/100)"
   ]
  },
  {
   "cell_type": "code",
   "execution_count": 48,
   "id": "c31dfa18",
   "metadata": {},
   "outputs": [
    {
     "data": {
      "text/plain": [
       "5.0"
      ]
     },
     "execution_count": 48,
     "metadata": {},
     "output_type": "execute_result"
    }
   ],
   "source": [
    "aumento(100,5)"
   ]
  },
  {
   "cell_type": "code",
   "execution_count": null,
   "id": "1e261ece",
   "metadata": {},
   "outputs": [
    {
     "name": "stdout",
     "output_type": "stream",
     "text": [
      "Digite um número: 2\n",
      "Digite um número: -1\n",
      "Digire um valor entre 0 e 20\n"
     ]
    }
   ],
   "source": [
    "def valida_inteiro(mensagem, minimo, maximo):\n",
    "    while True:\n",
    "        try:\n",
    "            v = int(input(mensagem))\n",
    "            if v>= minimo and v <= maximo:\n",
    "                return v\n",
    "            else:\n",
    "                print(\"Digire um valor entre %d e %d\" % (minimo, maximo))\n",
    "        except:\n",
    "            print(\"Você deve digitar um número inteiro\")\n",
    "\n",
    "for x in range(10):\n",
    "    L.append(valida_inteiro(\"Digite um número: \", 0, 20))\n",
    "print(\"Soma: %d\" % (sum(L)))"
   ]
  },
  {
   "cell_type": "code",
   "execution_count": 53,
   "id": "4e58e45d",
   "metadata": {},
   "outputs": [
    {
     "ename": "ModuleNotFoundError",
     "evalue": "No module named 'entrada'",
     "output_type": "error",
     "traceback": [
      "\u001b[1;31m---------------------------------------------------------------------------\u001b[0m",
      "\u001b[1;31mModuleNotFoundError\u001b[0m                       Traceback (most recent call last)",
      "Cell \u001b[1;32mIn[53], line 1\u001b[0m\n\u001b[1;32m----> 1\u001b[0m \u001b[38;5;28;01mimport\u001b[39;00m \u001b[38;5;21;01mentrada\u001b[39;00m\n\u001b[0;32m      2\u001b[0m L \u001b[38;5;241m=\u001b[39m []\n\u001b[0;32m      3\u001b[0m \u001b[38;5;28;01mfor\u001b[39;00m x \u001b[38;5;129;01min\u001b[39;00m \u001b[38;5;28mrange\u001b[39m(\u001b[38;5;241m10\u001b[39m):\n",
      "\u001b[1;31mModuleNotFoundError\u001b[0m: No module named 'entrada'"
     ]
    }
   ],
   "source": [
    "import entrada\n",
    "L = []\n",
    "for x in range(10):\n",
    "    L.append(entrada.valida_inteiro(\"Digite um número: \", 0, 20))\n",
    "print(\"Soma: %d\" % (sum(L)))"
   ]
  },
  {
   "cell_type": "code",
   "execution_count": null,
   "id": "0c5a47d9",
   "metadata": {},
   "outputs": [],
   "source": [
    "from entrada import valida_inteiro\n",
    "# Para utilizar valida_inteiro sem precisar usar o prefixo do módulo (entrada.valida_inteiro)"
   ]
  },
  {
   "cell_type": "code",
   "execution_count": 4,
   "id": "fb75fdb7",
   "metadata": {},
   "outputs": [
    {
     "name": "stdout",
     "output_type": "stream",
     "text": [
      "13\n",
      "12\n",
      "8\n",
      "76\n",
      "70\n",
      "9\n",
      "6\n",
      "8\n",
      "97\n",
      "78\n"
     ]
    }
   ],
   "source": [
    "import random\n",
    "for x in range(10):\n",
    "    print(random.randint(1,100))"
   ]
  },
  {
   "cell_type": "code",
   "execution_count": 3,
   "id": "14b73411",
   "metadata": {},
   "outputs": [
    {
     "name": "stdout",
     "output_type": "stream",
     "text": [
      "0.30733273780952974\n",
      "0.46621800800027713\n",
      "0.26667047729936766\n",
      "0.6766309490906286\n",
      "0.8335901282934097\n",
      "0.48039655789656854\n",
      "0.7856865872957304\n",
      "0.6415321536366901\n",
      "0.4734358472891189\n",
      "0.6276836778462784\n"
     ]
    }
   ],
   "source": [
    "import random\n",
    "for x in range(10):\n",
    "    print(random.random())"
   ]
  },
  {
   "cell_type": "code",
   "execution_count": 2,
   "id": "a406ed9d",
   "metadata": {},
   "outputs": [
    {
     "name": "stdout",
     "output_type": "stream",
     "text": [
      "15.225570429639944\n",
      "15.342128212555393\n",
      "18.776230012088956\n",
      "17.741460367261\n",
      "15.321100089346029\n",
      "21.309617689953846\n",
      "16.21992602370682\n",
      "23.073822392870476\n",
      "16.8815124023584\n",
      "22.443426209807804\n"
     ]
    }
   ],
   "source": [
    "import random\n",
    "for x in range(10):\n",
    "    print(random.uniform(15,25))"
   ]
  },
  {
   "cell_type": "code",
   "execution_count": 5,
   "id": "680d1ccb",
   "metadata": {},
   "outputs": [
    {
     "name": "stdout",
     "output_type": "stream",
     "text": [
      "[11, 36, 59, 27, 25, 46]\n"
     ]
    }
   ],
   "source": [
    "import random\n",
    "print(random.sample(range(1,61),6))"
   ]
  },
  {
   "cell_type": "code",
   "execution_count": 6,
   "id": "d771f075",
   "metadata": {},
   "outputs": [
    {
     "name": "stdout",
     "output_type": "stream",
     "text": [
      "[8, 6, 7, 5, 2, 10, 4, 3, 9, 1]\n"
     ]
    }
   ],
   "source": [
    "import random\n",
    "a=list(range(1,11))\n",
    "random.shuffle(a)\n",
    "print(a)"
   ]
  },
  {
   "cell_type": "code",
   "execution_count": 7,
   "id": "fd2d695c",
   "metadata": {},
   "outputs": [],
   "source": [
    "a=5"
   ]
  },
  {
   "cell_type": "code",
   "execution_count": 8,
   "id": "6d06dbe6",
   "metadata": {},
   "outputs": [
    {
     "name": "stdout",
     "output_type": "stream",
     "text": [
      "<class 'int'>\n"
     ]
    }
   ],
   "source": [
    "print(type(a))"
   ]
  },
  {
   "cell_type": "code",
   "execution_count": 9,
   "id": "c51a99e9",
   "metadata": {},
   "outputs": [],
   "source": [
    "b=\"Olá\""
   ]
  },
  {
   "cell_type": "code",
   "execution_count": 10,
   "id": "0cd30b99",
   "metadata": {},
   "outputs": [
    {
     "name": "stdout",
     "output_type": "stream",
     "text": [
      "<class 'str'>\n"
     ]
    }
   ],
   "source": [
    "print(type(b))"
   ]
  },
  {
   "cell_type": "code",
   "execution_count": 11,
   "id": "85162f9a",
   "metadata": {},
   "outputs": [],
   "source": [
    "c=False"
   ]
  },
  {
   "cell_type": "code",
   "execution_count": 12,
   "id": "62714cb3",
   "metadata": {},
   "outputs": [
    {
     "data": {
      "text/plain": [
       "bool"
      ]
     },
     "execution_count": 12,
     "metadata": {},
     "output_type": "execute_result"
    }
   ],
   "source": [
    "type(c)"
   ]
  },
  {
   "cell_type": "code",
   "execution_count": 13,
   "id": "e07e8bf5",
   "metadata": {},
   "outputs": [
    {
     "name": "stdout",
     "output_type": "stream",
     "text": [
      "<class 'bool'>\n"
     ]
    }
   ],
   "source": [
    "print(type(c))"
   ]
  },
  {
   "cell_type": "code",
   "execution_count": 14,
   "id": "69e8c370",
   "metadata": {},
   "outputs": [],
   "source": [
    "d=0.5"
   ]
  },
  {
   "cell_type": "code",
   "execution_count": 15,
   "id": "97d7afff",
   "metadata": {},
   "outputs": [
    {
     "name": "stdout",
     "output_type": "stream",
     "text": [
      "<class 'float'>\n"
     ]
    }
   ],
   "source": [
    "print(type(d))"
   ]
  },
  {
   "cell_type": "code",
   "execution_count": 16,
   "id": "a98401ba",
   "metadata": {},
   "outputs": [],
   "source": [
    "f=print"
   ]
  },
  {
   "cell_type": "code",
   "execution_count": 17,
   "id": "d881c45c",
   "metadata": {},
   "outputs": [
    {
     "name": "stdout",
     "output_type": "stream",
     "text": [
      "<class 'builtin_function_or_method'>\n"
     ]
    }
   ],
   "source": [
    "print(type(f))"
   ]
  },
  {
   "cell_type": "code",
   "execution_count": 18,
   "id": "5aa931fa",
   "metadata": {},
   "outputs": [],
   "source": [
    "g=[]"
   ]
  },
  {
   "cell_type": "code",
   "execution_count": 19,
   "id": "bf891787",
   "metadata": {},
   "outputs": [
    {
     "name": "stdout",
     "output_type": "stream",
     "text": [
      "<class 'list'>\n"
     ]
    }
   ],
   "source": [
    "print(type(g))"
   ]
  },
  {
   "cell_type": "code",
   "execution_count": 20,
   "id": "17f21f2d",
   "metadata": {},
   "outputs": [],
   "source": [
    "h={}"
   ]
  },
  {
   "cell_type": "code",
   "execution_count": 21,
   "id": "a04fa15c",
   "metadata": {},
   "outputs": [
    {
     "name": "stdout",
     "output_type": "stream",
     "text": [
      "<class 'dict'>\n"
     ]
    }
   ],
   "source": [
    "print(type(h))"
   ]
  },
  {
   "cell_type": "code",
   "execution_count": 22,
   "id": "fc6eda5d",
   "metadata": {},
   "outputs": [],
   "source": [
    "def funcao():\n",
    "    pass"
   ]
  },
  {
   "cell_type": "code",
   "execution_count": 23,
   "id": "30adeed8",
   "metadata": {},
   "outputs": [
    {
     "name": "stdout",
     "output_type": "stream",
     "text": [
      "<class 'function'>\n"
     ]
    }
   ],
   "source": [
    "print(type(funcao))"
   ]
  },
  {
   "cell_type": "code",
   "execution_count": 25,
   "id": "d3af123d",
   "metadata": {},
   "outputs": [],
   "source": [
    "import types\n",
    "def diz_o_tipo(a):\n",
    "    tipo = type(a)\n",
    "    if tipo == str:\n",
    "        return(\"String\")\n",
    "    elif tipo == list:\n",
    "        return(\"Lista\")\n",
    "    elif tipo == dict:\n",
    "        return(\"Dicionário\")\n",
    "    elif tipo == int:\n",
    "        return(\"Número inteiro\")\n",
    "    elif tipo == float:\n",
    "        return(\"Número decimal\")\n",
    "    elif tipo == types.FunctionType:\n",
    "        return(\"Função\")\n",
    "    elif tipo == types.BuiltinFunctionType:\n",
    "        return(\"Função interna\")\n",
    "    else:\n",
    "        return(str(tipo))"
   ]
  },
  {
   "cell_type": "code",
   "execution_count": 26,
   "id": "81903a8d",
   "metadata": {},
   "outputs": [
    {
     "name": "stdout",
     "output_type": "stream",
     "text": [
      "Número inteiro\n"
     ]
    }
   ],
   "source": [
    "print(diz_o_tipo(10))"
   ]
  },
  {
   "cell_type": "code",
   "execution_count": 27,
   "id": "d567fea7",
   "metadata": {},
   "outputs": [
    {
     "name": "stdout",
     "output_type": "stream",
     "text": [
      "Número decimal\n"
     ]
    }
   ],
   "source": [
    "print(diz_o_tipo(10.5))"
   ]
  },
  {
   "cell_type": "code",
   "execution_count": 28,
   "id": "9773dc6b",
   "metadata": {},
   "outputs": [
    {
     "name": "stdout",
     "output_type": "stream",
     "text": [
      "String\n"
     ]
    }
   ],
   "source": [
    "print(diz_o_tipo(\"Alô\"))"
   ]
  },
  {
   "cell_type": "code",
   "execution_count": 29,
   "id": "c87461c2",
   "metadata": {},
   "outputs": [
    {
     "name": "stdout",
     "output_type": "stream",
     "text": [
      "Lista\n"
     ]
    }
   ],
   "source": [
    "print(diz_o_tipo([1,2,3]))"
   ]
  },
  {
   "cell_type": "code",
   "execution_count": 30,
   "id": "b327141a",
   "metadata": {},
   "outputs": [
    {
     "name": "stdout",
     "output_type": "stream",
     "text": [
      "Dicionário\n"
     ]
    }
   ],
   "source": [
    "print(diz_o_tipo({\"a\":1, \"b\":50}))"
   ]
  },
  {
   "cell_type": "code",
   "execution_count": 31,
   "id": "f56e495a",
   "metadata": {},
   "outputs": [
    {
     "name": "stdout",
     "output_type": "stream",
     "text": [
      "Função interna\n"
     ]
    }
   ],
   "source": [
    "print(diz_o_tipo(print))"
   ]
  },
  {
   "cell_type": "code",
   "execution_count": 32,
   "id": "cef6260e",
   "metadata": {},
   "outputs": [
    {
     "name": "stdout",
     "output_type": "stream",
     "text": [
      "<class 'NoneType'>\n"
     ]
    }
   ],
   "source": [
    "print(diz_o_tipo(None))"
   ]
  },
  {
   "cell_type": "code",
   "execution_count": 33,
   "id": "3f895e33",
   "metadata": {},
   "outputs": [],
   "source": [
    "L = [2, \"Alô\", [\"!\"], {\"a\":1, \"b\":2}]"
   ]
  },
  {
   "cell_type": "code",
   "execution_count": 34,
   "id": "ec1b05f2",
   "metadata": {},
   "outputs": [
    {
     "name": "stdout",
     "output_type": "stream",
     "text": [
      "<class 'int'>\n",
      "<class 'str'>\n",
      "<class 'list'>\n",
      "<class 'dict'>\n"
     ]
    }
   ],
   "source": [
    "for e in L:\n",
    "    print(type(e))"
   ]
  },
  {
   "cell_type": "code",
   "execution_count": 35,
   "id": "d2aef252",
   "metadata": {},
   "outputs": [
    {
     "name": "stdout",
     "output_type": "stream",
     "text": [
      "a\n",
      "Lista:\n",
      "b\n",
      "c\n",
      "d\n",
      "e\n"
     ]
    }
   ],
   "source": [
    "import types\n",
    "L=[\"a\", ['b','c','d'], 'e']\n",
    "for x in L:\n",
    "    if type(x)==str:\n",
    "        print(x)\n",
    "    else:\n",
    "        print(\"Lista:\")\n",
    "        for z in x:\n",
    "            print(z)"
   ]
  },
  {
   "cell_type": "code",
   "execution_count": null,
   "id": "07c0b141",
   "metadata": {},
   "outputs": [],
   "source": []
  }
 ],
 "metadata": {
  "kernelspec": {
   "display_name": "Python 3 (ipykernel)",
   "language": "python",
   "name": "python3"
  },
  "language_info": {
   "codemirror_mode": {
    "name": "ipython",
    "version": 3
   },
   "file_extension": ".py",
   "mimetype": "text/x-python",
   "name": "python",
   "nbconvert_exporter": "python",
   "pygments_lexer": "ipython3",
   "version": "3.11.7"
  }
 },
 "nbformat": 4,
 "nbformat_minor": 5
}
