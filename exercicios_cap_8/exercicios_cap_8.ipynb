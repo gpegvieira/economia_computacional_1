{
 "cells": [
  {
   "cell_type": "code",
   "execution_count": 4,
   "id": "5a5fc37d",
   "metadata": {},
   "outputs": [
    {
     "name": "stdout",
     "output_type": "stream",
     "text": [
      "6\n",
      "2\n",
      "7\n"
     ]
    }
   ],
   "source": [
    "# Exercício 8.1\n",
    "\"\"\"\n",
    "Escreva uma função que retorne o maior de dois números.\n",
    "Valores esperados:\n",
    "máximo(5,6) == 6\n",
    "máximo(2,1) == 2\n",
    "máximo(7,7) == 7\n",
    "\"\"\"\n",
    "\n",
    "def maximo(a,b):\n",
    "    if a>=b:\n",
    "        return a\n",
    "    if b>a:\n",
    "        return b\n",
    "\n",
    "print(maximo(5,6))\n",
    "print(maximo(2,1))\n",
    "print(maximo(7,7))"
   ]
  },
  {
   "cell_type": "code",
   "execution_count": 5,
   "id": "dbe1df51",
   "metadata": {},
   "outputs": [
    {
     "name": "stdout",
     "output_type": "stream",
     "text": [
      "True\n",
      "False\n",
      "True\n"
     ]
    }
   ],
   "source": [
    "# Exercício 8.2\n",
    "\"\"\"\n",
    "Escreva uma função que receba dois números e retorne True se o \n",
    "primeiro número for múltiplo do segundo.\n",
    "Valores esperados:\n",
    "múltiplo(8,4) == True\n",
    "múltiplo(7,3) == False\n",
    "múltiplo(5,5) == True\n",
    "\"\"\"\n",
    "\n",
    "def multiplo(a,b):\n",
    "    if a%b==0:\n",
    "        return True\n",
    "    else:\n",
    "        return False\n",
    "\n",
    "print(multiplo(8,4))\n",
    "print(multiplo(7,3))\n",
    "print(multiplo(5,5))"
   ]
  },
  {
   "cell_type": "code",
   "execution_count": 6,
   "id": "0743cc44",
   "metadata": {},
   "outputs": [
    {
     "name": "stdout",
     "output_type": "stream",
     "text": [
      "16\n",
      "81\n"
     ]
    }
   ],
   "source": [
    "# Exercício 8.3\n",
    "\"\"\"\n",
    "Escreva uma função que receba o lado (l) de um quadrado e retorne \n",
    "sua área (A = lado2\n",
    ").\n",
    "Valores esperados:\n",
    "área_quadrado(4) == 16\n",
    "área_quadrado(9) == 81\n",
    "\"\"\"\n",
    "\n",
    "def area_quadrado(l):\n",
    "    return(l**2)\n",
    "\n",
    "print(area_quadrado(4))\n",
    "print(area_quadrado(9))"
   ]
  },
  {
   "cell_type": "code",
   "execution_count": 7,
   "id": "5ba73161",
   "metadata": {},
   "outputs": [
    {
     "name": "stdout",
     "output_type": "stream",
     "text": [
      "27.0\n",
      "20.0\n"
     ]
    }
   ],
   "source": [
    "# Exercício 8.4\n",
    "\"\"\"\n",
    "Escreva uma função que receba a base e a altura de um triângulo e \n",
    "retorne sua área (A = (base x altura)/2).\n",
    "Valores esperados:\n",
    "área_triângulo(6, 9) == 27\n",
    "área_triângulo(5, 8) == 20\n",
    "\"\"\"\n",
    "\n",
    "def area_triangulo(b,h):\n",
    "    return(b*h/2)\n",
    "\n",
    "print(area_triangulo(6,9))\n",
    "print(area_triangulo(5,8))"
   ]
  },
  {
   "cell_type": "code",
   "execution_count": 3,
   "id": "f4715dc2",
   "metadata": {},
   "outputs": [
    {
     "name": "stdout",
     "output_type": "stream",
     "text": [
      "2\n",
      "None\n"
     ]
    }
   ],
   "source": [
    "# Exercício 8.5\n",
    "\"\"\"Reescreva a função da listagem 8.5 de forma a utilizar os métodos de \n",
    "pesquisa em lista, vistos no capítulo 7.\"\"\"\n",
    "def pesquise(lista, valor):\n",
    "    if valor in lista:\n",
    "        return lista.index(valor)\n",
    "    return None\n",
    "L = [10,20,25,30]\n",
    "print(pesquise(L,25))\n",
    "print(pesquise(L,27))"
   ]
  },
  {
   "cell_type": "code",
   "execution_count": 6,
   "id": "b5b1d8d4",
   "metadata": {},
   "outputs": [
    {
     "name": "stdout",
     "output_type": "stream",
     "text": [
      "34\n",
      "155\n"
     ]
    }
   ],
   "source": [
    "# Exercício 8.6\n",
    "\"\"\"Reescreva o programa da listagem 8.8 de forma a utilizar for em vez \n",
    "de while.\n",
    "\"\"\"\n",
    "def soma(L):\n",
    "    total = 0\n",
    "    x = 1\n",
    "    for x in range(len(L)):\n",
    "        total += L[x]\n",
    "    return total\n",
    "L = [1,7,2,9,15]\n",
    "print(soma(L))\n",
    "print(soma([7,9,12,3,100,20,4]))"
   ]
  },
  {
   "cell_type": "code",
   "execution_count": 5,
   "id": "4980b241",
   "metadata": {},
   "outputs": [],
   "source": [
    "# Exercício 8.7\n",
    "\"\"\"Defina uma função recursiva que calcule o maior divisor comum\n",
    "(M.D.C.) entre dois números a e b, onde a > b.\"\"\"\n",
    "\n",
    "def mdc(a,b):\n",
    "    if b == 0:\n",
    "        return a\n",
    "    else:\n",
    "        return mdc(b, a%b)"
   ]
  },
  {
   "cell_type": "code",
   "execution_count": 6,
   "id": "474c2f34",
   "metadata": {},
   "outputs": [
    {
     "data": {
      "text/plain": [
       "4"
      ]
     },
     "execution_count": 6,
     "metadata": {},
     "output_type": "execute_result"
    }
   ],
   "source": [
    "mdc(20,8)"
   ]
  },
  {
   "cell_type": "code",
   "execution_count": 9,
   "id": "1f5399ab",
   "metadata": {},
   "outputs": [],
   "source": [
    "# Exercício 8.8\n",
    "\"\"\"Usando a função mdc definida no exercício anterior, defina uma \n",
    "função para calcular o menor múltiplo comum (M.M.C.) entre dois números.\"\"\"\n",
    "\n",
    "def mdc(a,b):\n",
    "    if b == 0:\n",
    "        return a\n",
    "    else:\n",
    "        return mdc(b, a%b)\n",
    "    \n",
    "def mmc(a,b):\n",
    "    return int(abs(a*b)/mdc(a,b))"
   ]
  },
  {
   "cell_type": "code",
   "execution_count": 10,
   "id": "58fb6d94",
   "metadata": {},
   "outputs": [
    {
     "data": {
      "text/plain": [
       "40"
      ]
     },
     "execution_count": 10,
     "metadata": {},
     "output_type": "execute_result"
    }
   ],
   "source": [
    "mmc(20,8)"
   ]
  },
  {
   "cell_type": "code",
   "execution_count": 13,
   "id": "f895e4b1",
   "metadata": {},
   "outputs": [
    {
     "name": "stdout",
     "output_type": "stream",
     "text": [
      "Calculando o fatorial de 4\n",
      "Calculando o fatorial de 3\n",
      "Calculando o fatorial de 2\n",
      "Calculando o fatorial de 1\n",
      "Fatorial de 1 = 1\n",
      " fatorial de 2 = 2\n",
      " fatorial de 3 = 6\n",
      " fatorial de 4 = 24\n"
     ]
    },
    {
     "data": {
      "text/plain": [
       "24"
      ]
     },
     "execution_count": 13,
     "metadata": {},
     "output_type": "execute_result"
    }
   ],
   "source": [
    "# Exercício 8.9\n",
    "\"\"\"Rastreie o programa da listagem 8.12 e compare o resultado com o \n",
    "apresentado na listagem 8.13.\"\"\"\n",
    "\n",
    "def fatorial(n):\n",
    "    print(\"Calculando o fatorial de %d\" % n)\n",
    "    if n==0 or n==1:\n",
    "        print(\"Fatorial de %d = 1\" % n)\n",
    "        return 1\n",
    "    else:\n",
    "        fat = n*fatorial(n-1)\n",
    "        print(\" fatorial de %d = %d\" % (n, fat))\n",
    "    return fat\n",
    "fatorial(4)\n",
    "\n",
    "# Calculando o fatorial de 4\n",
    "# Calculando o fatorial de 3\n",
    "# Calculando o fatorial de 2\n",
    "# Calculando o fatorial de 1\n",
    "# Fatorial de 1 = 1\n",
    "#  fatorial de 2 = 2\n",
    "#  fatorial de 3 = 6\n",
    "#  fatorial de 4 = 24"
   ]
  },
  {
   "cell_type": "code",
   "execution_count": 23,
   "id": "55b79189",
   "metadata": {},
   "outputs": [
    {
     "name": "stdout",
     "output_type": "stream",
     "text": [
      "fibonacci(0) = 0\n",
      "fibonacci(1) = 1\n",
      "fibonacci(2) = 1\n",
      "fibonacci(3) = 2\n",
      "fibonacci(4) = 3\n",
      "fibonacci(5) = 5\n",
      "fibonacci(6) = 8\n",
      "fibonacci(7) = 13\n",
      "fibonacci(8) = 21\n",
      "fibonacci(9) = 34\n"
     ]
    }
   ],
   "source": [
    "# Exercício 8.10\n",
    "\"\"\"Reescreva a função para cálculo da sequência de Fibonacci, sem \n",
    "utilizar recursão.\"\"\"\n",
    "# Solução do livro\n",
    "\n",
    "def fibonacci(n):\n",
    "    p = 0\n",
    "    s = 1\n",
    "    while n > 0:\n",
    "        p, s = s, s + p\n",
    "        n = n - 1\n",
    "    return p\n",
    "\n",
    "for x in range(10):\n",
    "    print(f\"fibonacci({x}) = {fibonacci(x)}\")"
   ]
  },
  {
   "cell_type": "code",
   "execution_count": 35,
   "id": "5925b060",
   "metadata": {},
   "outputs": [],
   "source": [
    "# Exercício 8.11\n",
    "\"\"\"Escreva uma função para validar uma variável string. Essa função \n",
    "recebe como parâmetro a string, o número mínimo e máximo de caracteres. Retorne \n",
    "verdadeiro se o tamanho da string estiver entre os valores de máximo e mínimo, \n",
    "e falso em caso contrário.\"\"\"\n",
    "\n",
    "def faixa_str(string, minimo, maximo):\n",
    "    if len(string) >= minimo and len(string) <= maximo:\n",
    "        return True\n",
    "    else:\n",
    "        return False"
   ]
  },
  {
   "cell_type": "code",
   "execution_count": 37,
   "id": "43b0ae97",
   "metadata": {},
   "outputs": [
    {
     "data": {
      "text/plain": [
       "False"
      ]
     },
     "execution_count": 37,
     "metadata": {},
     "output_type": "execute_result"
    }
   ],
   "source": [
    "faixa_str(\"Lewis Hamilton\", 5, 10)"
   ]
  },
  {
   "cell_type": "code",
   "execution_count": 38,
   "id": "ed4545e4",
   "metadata": {},
   "outputs": [
    {
     "data": {
      "text/plain": [
       "True"
      ]
     },
     "execution_count": 38,
     "metadata": {},
     "output_type": "execute_result"
    }
   ],
   "source": [
    "faixa_str(\"Lewis Hamilton\", 5, 20)"
   ]
  },
  {
   "cell_type": "code",
   "execution_count": 3,
   "id": "a6f40134",
   "metadata": {},
   "outputs": [],
   "source": [
    "# Exercício 8.12\n",
    "\"\"\"Escreva uma função que receba uma string e uma lista. A função \n",
    "deve comparar a string passada com os elementos da lista, também passada como \n",
    "parâmetro. Retorne verdadeiro se a string for encontrada dentro da lista, e falso \n",
    "em caso contrário.\"\"\"\n",
    "\n",
    "def str_list(string, lista):\n",
    "    return string in lista"
   ]
  },
  {
   "cell_type": "code",
   "execution_count": 5,
   "id": "e68671a3",
   "metadata": {},
   "outputs": [
    {
     "data": {
      "text/plain": [
       "True"
      ]
     },
     "execution_count": 5,
     "metadata": {},
     "output_type": "execute_result"
    }
   ],
   "source": [
    "str_list(\"AA\", [\"AA\", \"AAA\", \"AAAA\"])"
   ]
  },
  {
   "cell_type": "code",
   "execution_count": 8,
   "id": "2db8a7e8",
   "metadata": {},
   "outputs": [
    {
     "name": "stdout",
     "output_type": "stream",
     "text": [
      "Escolha um número entre 1 e 10: 6\n",
      "Você errou.\n",
      "Escolha um número entre 1 e 10: 9\n",
      "Você errou.\n",
      "Escolha um número entre 1 e 10: 20\n",
      "Você errou.\n"
     ]
    }
   ],
   "source": [
    "# Exercício 8.13\n",
    "\"\"\"Altere o programa da listagem 8.37 de forma que o usuário tenha \n",
    "três chances de acertar o número. O programa termina se o usuário acertar ou \n",
    "errar três vezes.\"\"\"\n",
    "\n",
    "import random\n",
    "n=random.randint(1,10)\n",
    "for k in range(3):\n",
    "    x=int(input(\"Escolha um número entre 1 e 10: \"))\n",
    "    if (x==n):\n",
    "        print(\"Você acertou!\")\n",
    "    else:\n",
    "        print(\"Você errou.\")"
   ]
  },
  {
   "cell_type": "code",
   "execution_count": 13,
   "id": "4e654fc6",
   "metadata": {},
   "outputs": [
    {
     "name": "stdout",
     "output_type": "stream",
     "text": [
      "               \n",
      "\n",
      "Digite uma letra:a\n",
      "X==:==\n",
      "X  :  \n",
      "X\n",
      "X\n",
      "X\n",
      "           a   \n",
      "\n",
      "Digite uma letra:b\n",
      "Você errou!\n",
      "X==:==\n",
      "X  :  \n",
      "X  O  \n",
      "X\n",
      "X\n",
      "           a   \n",
      "\n",
      "Digite uma letra:c\n",
      "X==:==\n",
      "X  :  \n",
      "X  O  \n",
      "X\n",
      "X\n",
      "       c   a   \n",
      "\n",
      "Digite uma letra:d\n",
      "X==:==\n",
      "X  :  \n",
      "X  O  \n",
      "X\n",
      "X\n",
      "    d  c   a   \n",
      "\n",
      "Digite uma letra:e\n",
      "X==:==\n",
      "X  :  \n",
      "X  O  \n",
      "X\n",
      "X\n",
      "   ed  c   a e \n",
      "\n",
      "Digite uma letra:f\n",
      "X==:==\n",
      "X  :  \n",
      "X  O  \n",
      "X\n",
      "X\n",
      "f  ed  c   a e \n",
      "\n",
      "Digite uma letra:g\n",
      "Você errou!\n",
      "X==:==\n",
      "X  :  \n",
      "X  O  \n",
      "X  |  \n",
      "X\n",
      "f  ed  c   a e \n",
      "\n",
      "Digite uma letra:h\n",
      "X==:==\n",
      "X  :  \n",
      "X  O  \n",
      "X  |  \n",
      "X\n",
      "f  ed  ch ha e \n",
      "\n",
      "Digite uma letra:i\n",
      "X==:==\n",
      "X  :  \n",
      "X  O  \n",
      "X  |  \n",
      "X\n",
      "f ied ich ha e \n",
      "\n",
      "Digite uma letra:j\n",
      "Você errou!\n",
      "X==:==\n",
      "X  :  \n",
      "X  O  \n",
      "X \\|  \n",
      "X\n",
      "f ied ich ha e \n",
      "\n",
      "Digite uma letra:k\n",
      "X==:==\n",
      "X  :  \n",
      "X  O  \n",
      "X \\|  \n",
      "X\n",
      "f ied ich ha ek\n",
      "\n",
      "Digite uma letra:l\n",
      "Você errou!\n",
      "X==:==\n",
      "X  :  \n",
      "X  O  \n",
      "X \\|/ \n",
      "X\n",
      "f ied ich ha ek\n",
      "\n",
      "Digite uma letra:m\n",
      "Você errou!\n",
      "X==:==\n",
      "X  :  \n",
      "X  O  \n",
      "X\n",
      "X /   \n",
      "f ied ich ha ek\n",
      "\n",
      "Digite uma letra:n\n",
      "Você errou!\n",
      "X==:==\n",
      "X  :  \n",
      "X  O  \n",
      "X\n",
      "X / \\ \n",
      "Enforcado! O nome correto é friedrich hayek.\n"
     ]
    }
   ],
   "source": [
    "# Exercício 8.14\n",
    "\"\"\"Altere o programa da listagem 7.45, o jogo da forca. Escolha a palavra \n",
    "a adivinhar utilizando números aleatórios.\"\"\"\n",
    "\n",
    "lista_de_palavras = [\n",
    "    'Adam Smith',\n",
    "    'David Ricardo',\n",
    "    'John Stuart Mill',\n",
    "    'Karl Marx',\n",
    "    'Léon Walras',\n",
    "    'Alfred Marshall',\n",
    "    'John Maynard Keynes',\n",
    "    'Friedrich List',\n",
    "    'Joan Robinson',\n",
    "    'Thorstein Veblen',\n",
    "    'Friedrich Hayek',\n",
    "    'Milton Friedman',\n",
    "    'John Nash',\n",
    "    'Vilfredo Pareto',\n",
    "]\n",
    "\n",
    "import random\n",
    "indice = random.randint(1,len(lista_de_palavras))\n",
    "\n",
    "palavra = lista_de_palavras[indice].lower()\n",
    "digitadas = []\n",
    "acertos = []\n",
    "erros = 0\n",
    "while True:\n",
    "    senha = \"\"\n",
    "    for letra in palavra:\n",
    "        senha += letra if letra in acertos else \" \"\n",
    "    print(senha)\n",
    "    if senha == palavra.lower():\n",
    "        print(\"Você acertou!\")\n",
    "        break\n",
    "    tentativa = input(\"\\nDigite uma letra:\").lower().strip()\n",
    "    if tentativa in digitadas:\n",
    "        print(\"Você já tentou esta letra!\")\n",
    "        continue\n",
    "    else:\n",
    "        digitadas += tentativa\n",
    "        if tentativa in palavra:\n",
    "            acertos += tentativa\n",
    "        else:\n",
    "            erros += 1\n",
    "            print(\"Você errou!\")\n",
    "    print(\"X==:==\\nX  :  \")\n",
    "    print(\"X  O  \" if erros >=1 else \"X\")\n",
    "    linha2=\"\"\n",
    "    if erros == 2:\n",
    "        linha2 = \"  |  \"\n",
    "    elif erros == 3:\n",
    "        linha2 = \" \\|  \"\n",
    "    elif erros == 4:\n",
    "        linha2 = \" \\|/ \"\n",
    "    print(\"X%s\" % linha2)\n",
    "    linha3 = \"\"    \n",
    "    if erros == 5:\n",
    "        linha3 += \" /   \"\n",
    "    elif erros >= 6:\n",
    "        linha3 += \" / \\ \"\n",
    "    print(\"X%s\" % linha3)\n",
    "    if erros == 6:\n",
    "        print(f\"Enforcado! O nome correto é {palavra}.\")\n",
    "        break"
   ]
  },
  {
   "cell_type": "code",
   "execution_count": 14,
   "id": "b22a6a75",
   "metadata": {},
   "outputs": [],
   "source": [
    "# Exercício 8.15 (da solução do livro)\n",
    "\"\"\"Utilizando a função type, escreva uma função recursiva que imprima \n",
    "os elementos de uma lista. Cada elemento deve ser impresso separadamente, um \n",
    "por linha. Considere o caso de listas dentro de listas, como L=[1, [2,3,4,[5,6,7]]]. \n",
    "A cada nível, imprima a lista mais à direita, como fazemos ao indentar blocos \n",
    "em Python. Dica: envie o nível atual como parâmetro e utilize-o para calcular a \n",
    "quantidade de espaços em branco à esquerda de cada elemento.\n",
    "\"\"\"\n",
    "\n",
    "import types\n",
    "\n",
    "def print_lista(L, n_recuos=0):\n",
    "    recuo_de_paragrafo = \"    \"\n",
    "    recuos = recuo_de_paragrafo*n_recuos\n",
    "    if type(L)==list:\n",
    "        print(recuos, '[')\n",
    "        for elemento in L:\n",
    "            print_lista(elemento, n_recuos+1)\n",
    "        print(recuos, ']')\n",
    "    else:\n",
    "        print(recuos, L)"
   ]
  },
  {
   "cell_type": "code",
   "execution_count": 16,
   "id": "46baa77a",
   "metadata": {},
   "outputs": [
    {
     "name": "stdout",
     "output_type": "stream",
     "text": [
      " [\n",
      "     1\n",
      "     [\n",
      "         2\n",
      "         3\n",
      "         4\n",
      "         [\n",
      "             5\n",
      "             6\n",
      "             7\n",
      "         ]\n",
      "         8\n",
      "     ]\n",
      " ]\n"
     ]
    }
   ],
   "source": [
    "a = [1,[2,3,4,[5,6,7], 8]]\n",
    "print_lista(a)"
   ]
  }
 ],
 "metadata": {
  "kernelspec": {
   "display_name": "Python 3 (ipykernel)",
   "language": "python",
   "name": "python3"
  },
  "language_info": {
   "codemirror_mode": {
    "name": "ipython",
    "version": 3
   },
   "file_extension": ".py",
   "mimetype": "text/x-python",
   "name": "python",
   "nbconvert_exporter": "python",
   "pygments_lexer": "ipython3",
   "version": "3.11.7"
  }
 },
 "nbformat": 4,
 "nbformat_minor": 5
}
