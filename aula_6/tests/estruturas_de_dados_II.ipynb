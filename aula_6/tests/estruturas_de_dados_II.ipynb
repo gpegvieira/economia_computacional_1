{
 "cells": [
  {
   "cell_type": "markdown",
   "id": "98999792-9dc3-46cd-8a5d-6c6ba69b4d21",
   "metadata": {},
   "source": [
    "# Estruturas de Dados II"
   ]
  },
  {
   "cell_type": "markdown",
   "id": "a220679e-0bee-4f06-a81a-1ad3ef7bfe31",
   "metadata": {},
   "source": [
    "## Strings\n",
    "\n",
    "String é a estrutura de dados utilizada para armazenar **textos**.\n",
    "\n",
    "Confira a listagem a seguir:"
   ]
  },
  {
   "cell_type": "code",
   "execution_count": 15,
   "id": "9f22b40e-4b84-45dc-8e62-a6cf054677a3",
   "metadata": {
    "tags": []
   },
   "outputs": [],
   "source": [
    "# Listagem 1: Definindo uma variável ou alocando memória para um tipo string\n",
    "# ou instanciando um objeto do tipo string, ou criando uma variável do tipo string.\n",
    "\n",
    "texto = \"A casa de João é grande.\""
   ]
  },
  {
   "cell_type": "code",
   "execution_count": 19,
   "id": "f40f01ee-8ecb-42d3-bd76-5df25749fc4b",
   "metadata": {
    "tags": []
   },
   "outputs": [
    {
     "name": "stdout",
     "output_type": "stream",
     "text": [
      "A\n"
     ]
    }
   ],
   "source": [
    "# Listagem 2: Alterando uma string.\n",
    "\n",
    "texto = \"A casa de João é pequena.\"\n",
    "print(texto[0])"
   ]
  },
  {
   "cell_type": "code",
   "execution_count": 23,
   "id": "c3f647af-9116-43ee-a9f1-4514b508cefb",
   "metadata": {
    "tags": []
   },
   "outputs": [
    {
     "ename": "TypeError",
     "evalue": "'str' object does not support item assignment",
     "output_type": "error",
     "traceback": [
      "\u001b[1;31m---------------------------------------------------------------------------\u001b[0m",
      "\u001b[1;31mTypeError\u001b[0m                                 Traceback (most recent call last)",
      "Cell \u001b[1;32mIn[23], line 3\u001b[0m\n\u001b[0;32m      1\u001b[0m \u001b[38;5;66;03m# Listagem 3: Alterando um caracter de uma string.\u001b[39;00m\n\u001b[1;32m----> 3\u001b[0m texto[\u001b[38;5;241m0\u001b[39m] \u001b[38;5;241m=\u001b[39m \u001b[38;5;124m'\u001b[39m\u001b[38;5;124ma\u001b[39m\u001b[38;5;124m'\u001b[39m\n\u001b[0;32m      4\u001b[0m \u001b[38;5;28mprint\u001b[39m(texto)\n",
      "\u001b[1;31mTypeError\u001b[0m: 'str' object does not support item assignment"
     ]
    }
   ],
   "source": [
    "# Listagem 3: Alterando um caracter de uma string.\n",
    "\n",
    "texto[0] = 'a'\n",
    "print(texto)"
   ]
  },
  {
   "cell_type": "code",
   "execution_count": 25,
   "id": "9879cd18-3d4b-4c6c-ab9e-f89a53f6a1d9",
   "metadata": {
    "tags": []
   },
   "outputs": [
    {
     "data": {
      "text/plain": [
       "'A casa de João é pequena.'"
      ]
     },
     "execution_count": 25,
     "metadata": {},
     "output_type": "execute_result"
    }
   ],
   "source": [
    "texto"
   ]
  },
  {
   "cell_type": "code",
   "execution_count": 27,
   "id": "69da9749-abe6-412e-b260-4ccb51859b77",
   "metadata": {
    "tags": []
   },
   "outputs": [
    {
     "data": {
      "text/plain": [
       "2348733419504"
      ]
     },
     "execution_count": 27,
     "metadata": {},
     "output_type": "execute_result"
    }
   ],
   "source": [
    "id(texto)"
   ]
  },
  {
   "cell_type": "code",
   "execution_count": 29,
   "id": "c0f7dddb-0c6e-4964-8d23-f501cd050608",
   "metadata": {
    "tags": []
   },
   "outputs": [
    {
     "name": "stdout",
     "output_type": "stream",
     "text": [
      "['A', ' ', 'c', 'a', 's', 'a', ' ', 'd', 'e', ' ', 'J', 'o', 'ã', 'o', ' ', 'é', ' ', 'p', 'e', 'q', 'u', 'e', 'n', 'a', '.']\n",
      "A casa de João é pequena.\n"
     ]
    }
   ],
   "source": [
    "# Listagem 4: convertendo um string em lista\n",
    "\n",
    "lista_texto = list(texto)\n",
    "print(lista_texto)\n",
    "print(texto)"
   ]
  },
  {
   "cell_type": "code",
   "execution_count": 33,
   "id": "c00ada89-8915-4490-a6b2-f43744b369d4",
   "metadata": {
    "tags": []
   },
   "outputs": [
    {
     "name": "stdout",
     "output_type": "stream",
     "text": [
      "['a', ' ', 'c', 'a', 's', 'a', ' ', 'd', 'e', ' ', 'J', 'o', 'ã', 'o', ' ', 'é', ' ', 'p', 'e', 'q', 'u', 'e', 'n', 'a', '.']\n"
     ]
    }
   ],
   "source": [
    "# Listagem 5: alterando lista_texto\n",
    "\n",
    "lista_texto[0] = \"a\"\n",
    "print(lista_texto)"
   ]
  },
  {
   "cell_type": "code",
   "execution_count": 35,
   "id": "e703c8bb-8209-4057-977a-8b505d9b195c",
   "metadata": {
    "tags": []
   },
   "outputs": [
    {
     "ename": "AttributeError",
     "evalue": "'list' object has no attribute 'join'",
     "output_type": "error",
     "traceback": [
      "\u001b[1;31m---------------------------------------------------------------------------\u001b[0m",
      "\u001b[1;31mAttributeError\u001b[0m                            Traceback (most recent call last)",
      "Cell \u001b[1;32mIn[35], line 3\u001b[0m\n\u001b[0;32m      1\u001b[0m \u001b[38;5;66;03m# Listagem 6: convertendo lista em string\u001b[39;00m\n\u001b[1;32m----> 3\u001b[0m texto2 \u001b[38;5;241m=\u001b[39m lista_texto\u001b[38;5;241m.\u001b[39mjoin()\n\u001b[0;32m      4\u001b[0m \u001b[38;5;28mprint\u001b[39m(texto2)\n",
      "\u001b[1;31mAttributeError\u001b[0m: 'list' object has no attribute 'join'"
     ]
    }
   ],
   "source": [
    "# Listagem 6: convertendo lista em string\n",
    "\n",
    "texto2 = lista_texto.join()\n",
    "print(texto2)"
   ]
  },
  {
   "cell_type": "code",
   "execution_count": 39,
   "id": "8dc8ae6f-ab5e-4337-a67b-692b026aca95",
   "metadata": {
    "tags": []
   },
   "outputs": [
    {
     "data": {
      "text/plain": [
       "True"
      ]
     },
     "execution_count": 39,
     "metadata": {},
     "output_type": "execute_result"
    }
   ],
   "source": [
    "# Listagem 7: verificação inicial de strings\n",
    "\n",
    "nome = \"João da Silva\"\n",
    "\n",
    "nome.startswith(\"J\")"
   ]
  },
  {
   "cell_type": "code",
   "execution_count": 41,
   "id": "610410c8-80d7-4c79-87c7-b522576365c3",
   "metadata": {
    "tags": []
   },
   "outputs": [
    {
     "data": {
      "text/plain": [
       "True"
      ]
     },
     "execution_count": 41,
     "metadata": {},
     "output_type": "execute_result"
    }
   ],
   "source": [
    "nome.startswith(\"João\")"
   ]
  },
  {
   "cell_type": "code",
   "execution_count": 43,
   "id": "ae548e4d-ee68-4f37-8459-9615c39fddcc",
   "metadata": {
    "tags": []
   },
   "outputs": [
    {
     "name": "stdout",
     "output_type": "stream",
     "text": [
      "True\n",
      "True\n"
     ]
    }
   ],
   "source": [
    "# Listagem 8:\n",
    "outro_nome = \"João da Silva Antônio\"\n",
    "print(outro_nome.startswith(\"J\"))\n",
    "print(nome.startswith(\"João\"))"
   ]
  },
  {
   "cell_type": "code",
   "execution_count": 45,
   "id": "62be663d-23c2-4d17-b0d8-079491031faf",
   "metadata": {
    "tags": []
   },
   "outputs": [
    {
     "name": "stdout",
     "output_type": "stream",
     "text": [
      "2\n"
     ]
    }
   ],
   "source": [
    "# Listagem 9: Determinando quantos alunos em uma turma possuem nomes iniciando\n",
    "# com o nome Pedro\n",
    "\n",
    "lista_alunos = [\"Pedro Antônio\", \"Pedro da Silva\", \"Márcia\"]\n",
    "contador = 0\n",
    "for aluno in lista_alunos:\n",
    "    if aluno.startswith(\"Pedro\"):\n",
    "        contador+=1\n",
    "print(contador)"
   ]
  },
  {
   "cell_type": "code",
   "execution_count": 47,
   "id": "e491aac9-473e-4a2c-af30-454c4bf3bf15",
   "metadata": {
    "tags": []
   },
   "outputs": [
    {
     "name": "stdout",
     "output_type": "stream",
     "text": [
      "A CASA DE JOÃO É PEQUENA.\n"
     ]
    }
   ],
   "source": [
    "# Listagem 10: Colocando todos os textos de uma string em maiúsculas\n",
    "texto3 = texto.upper()\n",
    "print(texto3)"
   ]
  },
  {
   "cell_type": "code",
   "execution_count": 49,
   "id": "4716cbef-cad3-4eb6-971d-167626d61463",
   "metadata": {
    "tags": []
   },
   "outputs": [
    {
     "name": "stdout",
     "output_type": "stream",
     "text": [
      "a casa de joão é pequena.\n"
     ]
    }
   ],
   "source": [
    "# Listagem 11: Colocando todos os textos de uma string em minúsculas.\n",
    "texto4 = texto.lower()\n",
    "print(texto4)"
   ]
  },
  {
   "cell_type": "markdown",
   "id": "61974cc1-a1d7-4853-9680-d73dc812e450",
   "metadata": {},
   "source": [
    "## Dicionários"
   ]
  },
  {
   "cell_type": "code",
   "execution_count": 53,
   "id": "ac9fe1bc-d4c5-4cf4-b105-4ab57d19d881",
   "metadata": {
    "tags": []
   },
   "outputs": [
    {
     "name": "stdout",
     "output_type": "stream",
     "text": [
      "{'arroz': 0.5, 'batata': 0.7, 'carne': 0.9, 'damascos': 0.1}\n"
     ]
    }
   ],
   "source": [
    "# Listagem 12: Instanciando um dicionário.\n",
    "\n",
    "tabela = {\"arroz\": 0.5, \"batata\": 0.7, \"carne\": 0.9, \"damascos\": 0.1}\n",
    "print(tabela)"
   ]
  },
  {
   "cell_type": "code",
   "execution_count": 57,
   "id": "3ed5f206-8c32-473b-b97e-dd1c9195f0ec",
   "metadata": {
    "tags": []
   },
   "outputs": [
    {
     "data": {
      "text/plain": [
       "0.5"
      ]
     },
     "execution_count": 57,
     "metadata": {},
     "output_type": "execute_result"
    }
   ],
   "source": [
    "# Listagem 13: Acessando dados no dicionário.\n",
    "\n",
    "tabela[\"arroz\"]"
   ]
  },
  {
   "cell_type": "code",
   "execution_count": 61,
   "id": "34d4ca47-e16a-4dbc-9ca5-cb9370885364",
   "metadata": {
    "tags": []
   },
   "outputs": [
    {
     "name": "stdout",
     "output_type": "stream",
     "text": [
      "{'arroz': 0.5, 'batata': 1.2, 'carne': 0.9, 'damascos': 0.1}\n"
     ]
    }
   ],
   "source": [
    "# Listagem 14: Alterando um valor na tabela.\n",
    "\n",
    "tabela[\"batata\"] = 1.2\n",
    "print(tabela)"
   ]
  },
  {
   "cell_type": "code",
   "execution_count": 65,
   "id": "a4cd660a-9720-42e5-88f0-0ef498483e71",
   "metadata": {
    "tags": []
   },
   "outputs": [
    {
     "name": "stdout",
     "output_type": "stream",
     "text": [
      "True\n",
      "False\n"
     ]
    }
   ],
   "source": [
    "# Listagem 15: Verificando se uma chave está na tabela.\n",
    "\n",
    "print(\"arroz\" in tabela)\n",
    "print(\"casa\" in tabela)"
   ]
  },
  {
   "cell_type": "code",
   "execution_count": 67,
   "id": "a379776b-aad6-4fd9-bfbb-2b6cdb332b7e",
   "metadata": {
    "tags": []
   },
   "outputs": [],
   "source": [
    "# Listagem 16: Usando dicionários como planilhas.\n",
    "\n",
    "planilha = {'a1': 'Nome', 'b1': 'Sobrenome', 'a2': 'Gabriel', 'b2': 'Vieira'}"
   ]
  },
  {
   "cell_type": "markdown",
   "id": "1d8f62eb-387c-465c-9208-2e5315bff05c",
   "metadata": {},
   "source": [
    "## Conjuntos"
   ]
  },
  {
   "cell_type": "code",
   "execution_count": 77,
   "id": "199513fe-7b3b-4f49-8917-522072a1826a",
   "metadata": {
    "tags": []
   },
   "outputs": [
    {
     "name": "stdout",
     "output_type": "stream",
     "text": [
      "{1, 2, 3}\n",
      "{1, 2, 3}\n"
     ]
    },
    {
     "data": {
      "text/plain": [
       "True"
      ]
     },
     "execution_count": 77,
     "metadata": {},
     "output_type": "execute_result"
    }
   ],
   "source": [
    "# Listagem 17: Instanciando conjuntos.\n",
    "\n",
    "conjunto_1 = set([1, 2, 3, 3])\n",
    "print(conjunto_1)\n",
    "\n",
    "conjunto_2 = {1, 2, 2, 3}\n",
    "print(conjunto_2)\n",
    "\n",
    "conjunto_1 == conjunto_2"
   ]
  },
  {
   "cell_type": "code",
   "execution_count": null,
   "id": "d1e451f2-d123-4797-99f6-067c511b2100",
   "metadata": {},
   "outputs": [],
   "source": []
  }
 ],
 "metadata": {
  "kernelspec": {
   "display_name": "Python 3 (ipykernel)",
   "language": "python",
   "name": "python3"
  },
  "language_info": {
   "codemirror_mode": {
    "name": "ipython",
    "version": 3
   },
   "file_extension": ".py",
   "mimetype": "text/x-python",
   "name": "python",
   "nbconvert_exporter": "python",
   "pygments_lexer": "ipython3",
   "version": "3.11.7"
  }
 },
 "nbformat": 4,
 "nbformat_minor": 5
}
