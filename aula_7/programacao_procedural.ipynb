{
 "cells": [
  {
   "cell_type": "markdown",
   "id": "d8a2845b-dfeb-4c66-a3d2-093f92e2fb20",
   "metadata": {},
   "source": [
    "# Programação procedural"
   ]
  },
  {
   "cell_type": "code",
   "execution_count": 2,
   "id": "c45b76ae-1469-412c-9aca-bca4d73f881d",
   "metadata": {
    "tags": []
   },
   "outputs": [
    {
     "data": {
      "text/plain": [
       "5"
      ]
     },
     "execution_count": 2,
     "metadata": {},
     "output_type": "execute_result"
    }
   ],
   "source": [
    "# Listagem 1: definição da função Python soma (função pura)\n",
    "\n",
    "def soma(x,y):\n",
    "    resultado = x + y\n",
    "    return resultado\n",
    "\n",
    "soma(2,3)"
   ]
  },
  {
   "cell_type": "code",
   "execution_count": 4,
   "id": "52cbec3d-0f98-4fb8-8e30-cafbc14f03ff",
   "metadata": {
    "tags": []
   },
   "outputs": [
    {
     "data": {
      "text/plain": [
       "7"
      ]
     },
     "execution_count": 4,
     "metadata": {},
     "output_type": "execute_result"
    }
   ],
   "source": [
    "soma(3,4)"
   ]
  },
  {
   "cell_type": "code",
   "execution_count": 6,
   "id": "cac032a8-449d-4788-977a-4cc684e01dec",
   "metadata": {
    "tags": []
   },
   "outputs": [],
   "source": [
    "# Listagem 2: definição da função Python imprimidora7 (procedimento):\n",
    "\n",
    "def imprimidora7():\n",
    "    print(7)"
   ]
  },
  {
   "cell_type": "code",
   "execution_count": 8,
   "id": "51cf5da2-d5aa-465f-a4fc-4d8aaec93c4e",
   "metadata": {
    "tags": []
   },
   "outputs": [
    {
     "name": "stdout",
     "output_type": "stream",
     "text": [
      "7\n"
     ]
    }
   ],
   "source": [
    "imprimidora7()"
   ]
  },
  {
   "cell_type": "code",
   "execution_count": 16,
   "id": "46cf4b46-9ddc-4206-9932-3f8588ae9bce",
   "metadata": {
    "tags": []
   },
   "outputs": [],
   "source": [
    "# Listagem 3: definição da função Python importadora numpy (procedimento):\n",
    "\n",
    "def importadora_numpy():\n",
    "    import numpy"
   ]
  },
  {
   "cell_type": "code",
   "execution_count": 21,
   "id": "fd69850a-c8c7-4b76-9b6d-572b7bf975b0",
   "metadata": {
    "tags": []
   },
   "outputs": [],
   "source": [
    "importadora_numpy()"
   ]
  },
  {
   "cell_type": "code",
   "execution_count": 25,
   "id": "b1417e59-9704-46a1-a42a-ed73c6776c4d",
   "metadata": {
    "tags": []
   },
   "outputs": [],
   "source": [
    "# Listagem 4: definição da função Python inutil (procedimento):\n",
    "\n",
    "def inutil():\n",
    "    2 + 3\n",
    "    4 + 5\n",
    "    23 + 56"
   ]
  },
  {
   "cell_type": "code",
   "execution_count": 27,
   "id": "63b194ea-c0e6-4b94-b19e-af901eed4016",
   "metadata": {
    "tags": []
   },
   "outputs": [],
   "source": [
    "inutil()"
   ]
  },
  {
   "cell_type": "code",
   "execution_count": 29,
   "id": "7f41274c-650e-46f2-8910-7b749973c1c1",
   "metadata": {
    "tags": []
   },
   "outputs": [],
   "source": [
    "# Listagem 5: definição da função Python imprimidora_com_:\n",
    "\n",
    "x = 7\n",
    "def imprimidora():\n",
    "    print(x)"
   ]
  },
  {
   "cell_type": "code",
   "execution_count": 31,
   "id": "24d7e276-297f-44e3-95cd-f4ba35f9cd36",
   "metadata": {
    "tags": []
   },
   "outputs": [
    {
     "name": "stdout",
     "output_type": "stream",
     "text": [
      "7\n"
     ]
    }
   ],
   "source": [
    "imprimidora()"
   ]
  },
  {
   "cell_type": "code",
   "execution_count": 33,
   "id": "a0ca37e9-8d02-4264-b30f-61c8bc74ec71",
   "metadata": {
    "tags": []
   },
   "outputs": [],
   "source": [
    "# Listagem 6: função somaproduto((x,y),(z,w))\n",
    "\n",
    "def somaproduto(x,y,z,w):\n",
    "   resultado = x*z + y*w\n",
    "   return resultado"
   ]
  },
  {
   "cell_type": "markdown",
   "id": "0affdc18-3ee8-4dea-bb90-7a7ed785567d",
   "metadata": {},
   "source": [
    "# Exemplo de uso da função somaproduto\n",
    "\n",
    "### Considere os vetores (1,3) e (4,5). Determine seu produto escalar."
   ]
  },
  {
   "cell_type": "code",
   "execution_count": 36,
   "id": "68b15b48-3155-4685-bed9-c7988c008abb",
   "metadata": {
    "tags": []
   },
   "outputs": [
    {
     "data": {
      "text/plain": [
       "19"
      ]
     },
     "execution_count": 36,
     "metadata": {},
     "output_type": "execute_result"
    }
   ],
   "source": [
    "somaproduto(1,3,4,5)"
   ]
  },
  {
   "cell_type": "markdown",
   "id": "5f167fd3-0d52-4990-9ddc-f325a225593f",
   "metadata": {
    "tags": []
   },
   "source": [
    "### Suponha um indivíduo que adquiriu uma cesta de consumo (1,3) aos preços p1 = 4 e p2 = 5. Determine a despesa do indivíduo."
   ]
  },
  {
   "cell_type": "code",
   "execution_count": 44,
   "id": "43bab53d-316a-48f8-8fd6-523177df319a",
   "metadata": {
    "tags": []
   },
   "outputs": [
    {
     "data": {
      "text/plain": [
       "19"
      ]
     },
     "execution_count": 44,
     "metadata": {},
     "output_type": "execute_result"
    }
   ],
   "source": [
    "somaproduto(1,3,4,5)"
   ]
  },
  {
   "cell_type": "code",
   "execution_count": 50,
   "id": "83142d0a-6aeb-4658-aa5a-5f2c664fb20e",
   "metadata": {
    "tags": []
   },
   "outputs": [],
   "source": [
    "# Listagem 7: função entrada_dados()\n",
    "\n",
    "def entrada_dados():\n",
    "    global dados\n",
    "    dados = input(\"Qual o dado?\")"
   ]
  },
  {
   "cell_type": "code",
   "execution_count": 52,
   "id": "03397231-5b36-4325-be15-3c27261c8ae9",
   "metadata": {
    "tags": []
   },
   "outputs": [
    {
     "name": "stdin",
     "output_type": "stream",
     "text": [
      "Qual o dado? 5\n"
     ]
    }
   ],
   "source": [
    "entrada_dados()"
   ]
  },
  {
   "cell_type": "code",
   "execution_count": 54,
   "id": "b3eb46ef-2a15-44fc-a6bb-2a51d36a338b",
   "metadata": {
    "tags": []
   },
   "outputs": [
    {
     "data": {
      "text/plain": [
       "'5'"
      ]
     },
     "execution_count": 54,
     "metadata": {},
     "output_type": "execute_result"
    }
   ],
   "source": [
    "dados"
   ]
  },
  {
   "cell_type": "markdown",
   "id": "d8e230c6-98fc-4928-af68-861c21592e5f",
   "metadata": {},
   "source": [
    "# Escopo local da função\n",
    "\n",
    "Escopo local da função é tudo aquilo que está dentro do seu código ou no seu parâmetro. Existem basicamente dois escopos:\n",
    "- local, e\n",
    "- global."
   ]
  },
  {
   "cell_type": "code",
   "execution_count": null,
   "id": "7118cd05-17ea-474d-ab50-c544d363b44a",
   "metadata": {},
   "outputs": [],
   "source": []
  }
 ],
 "metadata": {
  "kernelspec": {
   "display_name": "Python 3 (ipykernel)",
   "language": "python",
   "name": "python3"
  },
  "language_info": {
   "codemirror_mode": {
    "name": "ipython",
    "version": 3
   },
   "file_extension": ".py",
   "mimetype": "text/x-python",
   "name": "python",
   "nbconvert_exporter": "python",
   "pygments_lexer": "ipython3",
   "version": "3.11.7"
  }
 },
 "nbformat": 4,
 "nbformat_minor": 5
}
