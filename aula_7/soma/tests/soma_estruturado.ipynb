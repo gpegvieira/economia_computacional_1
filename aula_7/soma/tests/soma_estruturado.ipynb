{
 "cells": [
  {
   "cell_type": "markdown",
   "id": "c3f06b9d-d81b-4da5-a0c8-4555d2565d09",
   "metadata": {},
   "source": [
    "# Soma estruturado"
   ]
  },
  {
   "cell_type": "code",
   "execution_count": 4,
   "id": "cc1d501e-cd3d-4d6c-8952-f095d81d3ce2",
   "metadata": {
    "tags": []
   },
   "outputs": [],
   "source": [
    "# Definição de variáveis\n",
    "\n",
    "i = 0\n",
    "numeros = [0,0]\n",
    "soma = 0"
   ]
  },
  {
   "cell_type": "code",
   "execution_count": 6,
   "id": "ec073b46-a1fe-46d2-b180-4ea87280f6eb",
   "metadata": {
    "tags": []
   },
   "outputs": [
    {
     "name": "stdin",
     "output_type": "stream",
     "text": [
      "\n",
      "Digite a 1ª parcela:  5\n",
      "\n",
      "Digite a 2ª parcela:  6\n"
     ]
    }
   ],
   "source": [
    "# Entrada de dados\n",
    "\n",
    "while i < 2:\n",
    "    numeros[i] = int(input(f\"\\nDigite a {i+1}ª parcela: \"))\n",
    "    i+=1"
   ]
  },
  {
   "cell_type": "code",
   "execution_count": 8,
   "id": "bbc70d0f-0d12-4b2b-8e48-41a0e2efccb0",
   "metadata": {
    "tags": []
   },
   "outputs": [],
   "source": [
    "# Processamento de dados\n",
    "\n",
    "for numero in numeros:\n",
    "    soma+=numero"
   ]
  },
  {
   "cell_type": "code",
   "execution_count": 18,
   "id": "636a52cf-d713-4552-b261-91e7ca33fe65",
   "metadata": {
    "tags": []
   },
   "outputs": [
    {
     "name": "stdout",
     "output_type": "stream",
     "text": [
      "\n",
      "A soma do número 5 com o número 6 é 11.\n"
     ]
    }
   ],
   "source": [
    "# Saída de dados\n",
    "\n",
    "print(f\"\\nA soma do número {numeros[0]} com o número {numeros[1]} é {soma}.\")"
   ]
  },
  {
   "cell_type": "code",
   "execution_count": null,
   "id": "03e06fa8-5317-427e-8bb1-9c51c926301d",
   "metadata": {},
   "outputs": [],
   "source": []
  }
 ],
 "metadata": {
  "kernelspec": {
   "display_name": "Python 3 (ipykernel)",
   "language": "python",
   "name": "python3"
  },
  "language_info": {
   "codemirror_mode": {
    "name": "ipython",
    "version": 3
   },
   "file_extension": ".py",
   "mimetype": "text/x-python",
   "name": "python",
   "nbconvert_exporter": "python",
   "pygments_lexer": "ipython3",
   "version": "3.11.7"
  }
 },
 "nbformat": 4,
 "nbformat_minor": 5
}
