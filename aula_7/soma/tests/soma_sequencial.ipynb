{
 "cells": [
  {
   "cell_type": "markdown",
   "id": "204bdd34-dfda-4b1b-a68e-e5479cb3ec47",
   "metadata": {},
   "source": [
    "# Teste do programa soma_sequencial"
   ]
  },
  {
   "cell_type": "code",
   "execution_count": 8,
   "id": "7f356453-f74f-4db7-9f64-7a34fad7be0f",
   "metadata": {
    "tags": []
   },
   "outputs": [],
   "source": [
    "# Definição de variáveis\n",
    "\n",
    "numero_1 = 0\n",
    "numero_2 = 0\n",
    "soma = 0"
   ]
  },
  {
   "cell_type": "code",
   "execution_count": 12,
   "id": "3a8e7bd7-74d6-4cc5-aa0d-07f7a563c8ef",
   "metadata": {
    "tags": []
   },
   "outputs": [
    {
     "name": "stdin",
     "output_type": "stream",
     "text": [
      "\n",
      "Digite o primeiro número: 2\n",
      "\n",
      "Digite o segundo número: 5\n"
     ]
    }
   ],
   "source": [
    "# Entrada de dados\n",
    "\n",
    "numero_1 = int(input(\"\\nDigite o primeiro número:\"))\n",
    "numero_2 = int(input(\"\\nDigite o segundo número:\"))"
   ]
  },
  {
   "cell_type": "code",
   "execution_count": 14,
   "id": "a6c2bace-ee6c-4e28-bf9c-0b3305f2372f",
   "metadata": {
    "tags": []
   },
   "outputs": [],
   "source": [
    "# Processamento de dados\n",
    "\n",
    "soma = numero_1 + numero_2"
   ]
  },
  {
   "cell_type": "code",
   "execution_count": 16,
   "id": "ba012a56-5dd8-4558-9e73-ef75dd39696c",
   "metadata": {
    "tags": []
   },
   "outputs": [
    {
     "name": "stdout",
     "output_type": "stream",
     "text": [
      "A soma dos dois números é 7\n"
     ]
    }
   ],
   "source": [
    "# Saída de dados\n",
    "\n",
    "print(\"A soma dos dois números é\", soma)"
   ]
  },
  {
   "cell_type": "code",
   "execution_count": null,
   "id": "6c0ffcf1-6a4a-478a-b61c-e8372ba24512",
   "metadata": {},
   "outputs": [],
   "source": []
  }
 ],
 "metadata": {
  "kernelspec": {
   "display_name": "Python 3 (ipykernel)",
   "language": "python",
   "name": "python3"
  },
  "language_info": {
   "codemirror_mode": {
    "name": "ipython",
    "version": 3
   },
   "file_extension": ".py",
   "mimetype": "text/x-python",
   "name": "python",
   "nbconvert_exporter": "python",
   "pygments_lexer": "ipython3",
   "version": "3.11.7"
  }
 },
 "nbformat": 4,
 "nbformat_minor": 5
}
