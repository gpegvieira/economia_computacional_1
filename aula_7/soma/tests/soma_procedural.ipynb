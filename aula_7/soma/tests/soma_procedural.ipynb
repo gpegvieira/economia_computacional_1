{
 "cells": [
  {
   "cell_type": "markdown",
   "id": "e7986aef-5321-42ca-b691-2cce30a9e7de",
   "metadata": {},
   "source": [
    "# Soma procedural"
   ]
  },
  {
   "cell_type": "code",
   "execution_count": 42,
   "id": "9b142b95-b4b1-48ea-8fa2-f0cd8ec041f8",
   "metadata": {
    "tags": []
   },
   "outputs": [],
   "source": [
    "# Definição da função de entrada\n",
    "\n",
    "def entrada_dados():\n",
    "    dados = []\n",
    "    i = 0\n",
    "    while i < 2:\n",
    "        dados.append(int(input(f'\\nDigite a parcela {i+1}:')))\n",
    "        i+=1\n",
    "    return dados"
   ]
  },
  {
   "cell_type": "code",
   "execution_count": 36,
   "id": "7f1489c4-8421-4b6d-8965-abc28d26d552",
   "metadata": {
    "tags": []
   },
   "outputs": [],
   "source": [
    "# Definição da função soma\n",
    "\n",
    "def soma(numero_1, numero_2):\n",
    "    resultado = numero_1 + numero_2\n",
    "    return resultado"
   ]
  },
  {
   "cell_type": "code",
   "execution_count": 24,
   "id": "52bbb5af-f44f-4245-b119-f19fea4d22cf",
   "metadata": {
    "tags": []
   },
   "outputs": [],
   "source": [
    "# Definição da função de saída\n",
    "\n",
    "def saida_dados(x):\n",
    "    print(x)"
   ]
  },
  {
   "cell_type": "code",
   "execution_count": 32,
   "id": "19153d9e-6a3d-4ea3-99f0-4323a53e331b",
   "metadata": {
    "tags": []
   },
   "outputs": [],
   "source": [
    "def main():\n",
    "    dados = entrada_dados()\n",
    "    resultado = soma(dados[0], dados[1])\n",
    "    saida_dados(resultado)"
   ]
  },
  {
   "cell_type": "code",
   "execution_count": 68,
   "id": "47507327-5ba4-408e-946a-87e28536bc1c",
   "metadata": {
    "tags": []
   },
   "outputs": [
    {
     "name": "stdin",
     "output_type": "stream",
     "text": [
      "\n",
      "Digite a parcela 1: 1\n",
      "\n",
      "Digite a parcela 2: 2\n"
     ]
    },
    {
     "name": "stdout",
     "output_type": "stream",
     "text": [
      "3\n"
     ]
    }
   ],
   "source": [
    "main()"
   ]
  },
  {
   "cell_type": "code",
   "execution_count": null,
   "id": "0bae9280-0f24-4f9a-be75-9bd9575eba8c",
   "metadata": {},
   "outputs": [],
   "source": []
  }
 ],
 "metadata": {
  "kernelspec": {
   "display_name": "Python 3 (ipykernel)",
   "language": "python",
   "name": "python3"
  },
  "language_info": {
   "codemirror_mode": {
    "name": "ipython",
    "version": 3
   },
   "file_extension": ".py",
   "mimetype": "text/x-python",
   "name": "python",
   "nbconvert_exporter": "python",
   "pygments_lexer": "ipython3",
   "version": "3.11.7"
  }
 },
 "nbformat": 4,
 "nbformat_minor": 5
}
