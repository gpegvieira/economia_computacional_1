{
 "cells": [
  {
   "cell_type": "code",
   "execution_count": 15,
   "id": "5a3c48cf-65c3-4c1e-8d85-5b086a70e3a3",
   "metadata": {
    "tags": []
   },
   "outputs": [],
   "source": [
    "# Definição da função de entrada de dados\n",
    "def entrada_dados():\n",
    "    dados = [1, 7, 15, 31]\n",
    "    return dados"
   ]
  },
  {
   "cell_type": "code",
   "execution_count": 6,
   "id": "4595fe96-debd-49cd-af8c-6dee6d460000",
   "metadata": {
    "tags": []
   },
   "outputs": [],
   "source": [
    "# Definição da função de processamento de dados (média)\n",
    "def media(a1,a2,a3,a4):\n",
    "    media = (a1+a2+a3+a4)/4\n",
    "    return media"
   ]
  },
  {
   "cell_type": "code",
   "execution_count": 8,
   "id": "9938f7a7-b53e-4eca-8ff9-9627c4bf9cbf",
   "metadata": {
    "tags": []
   },
   "outputs": [],
   "source": [
    "# Definição da função de saída de dados\n",
    "def saida_dados(x):\n",
    "    print(x)"
   ]
  },
  {
   "cell_type": "code",
   "execution_count": 11,
   "id": "5d9fad09-7c7d-41a3-8cac-16a44fa222f0",
   "metadata": {
    "tags": []
   },
   "outputs": [],
   "source": [
    "# Definição da função principal\n",
    "def main():\n",
    "    dados = numeros = entrada_dados()\n",
    "    resultado = media(dados[0], dados[1], dados[2], dados[3])\n",
    "    saida_dados(resultado)"
   ]
  },
  {
   "cell_type": "code",
   "execution_count": 19,
   "id": "c20ce3fe-7bd0-4f17-8660-6d2264b8b4d7",
   "metadata": {
    "tags": []
   },
   "outputs": [
    {
     "name": "stdout",
     "output_type": "stream",
     "text": [
      "13.5\n"
     ]
    }
   ],
   "source": [
    "main()"
   ]
  }
 ],
 "metadata": {
  "kernelspec": {
   "display_name": "Python 3 (ipykernel)",
   "language": "python",
   "name": "python3"
  },
  "language_info": {
   "codemirror_mode": {
    "name": "ipython",
    "version": 3
   },
   "file_extension": ".py",
   "mimetype": "text/x-python",
   "name": "python",
   "nbconvert_exporter": "python",
   "pygments_lexer": "ipython3",
   "version": "3.11.7"
  }
 },
 "nbformat": 4,
 "nbformat_minor": 5
}
