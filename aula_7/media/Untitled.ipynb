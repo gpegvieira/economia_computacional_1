{
 "cells": [
  {
   "cell_type": "code",
   "execution_count": 2,
   "id": "8b852ca5-c785-46dd-b30e-f1fe67bc334a",
   "metadata": {
    "tags": []
   },
   "outputs": [],
   "source": [
    "# Definição da função de entrada de dados\n",
    "def entrada_dados():\n",
    "    dados = []\n",
    "    i = 0\n",
    "    while i < 4:\n",
    "        dados.append(int(input(f\"Digite o {i+1}º número.\")))\n",
    "        i+=1\n",
    "    return dados"
   ]
  },
  {
   "cell_type": "code",
   "execution_count": null,
   "id": "54708e0b-cf25-417c-beeb-8b99bdcfd4a5",
   "metadata": {},
   "outputs": [],
   "source": []
  },
  {
   "cell_type": "code",
   "execution_count": null,
   "id": "24970fce-4bde-444a-b42b-84eedccfcf72",
   "metadata": {},
   "outputs": [],
   "source": []
  }
 ],
 "metadata": {
  "kernelspec": {
   "display_name": "Python 3 (ipykernel)",
   "language": "python",
   "name": "python3"
  },
  "language_info": {
   "codemirror_mode": {
    "name": "ipython",
    "version": 3
   },
   "file_extension": ".py",
   "mimetype": "text/x-python",
   "name": "python",
   "nbconvert_exporter": "python",
   "pygments_lexer": "ipython3",
   "version": "3.11.7"
  }
 },
 "nbformat": 4,
 "nbformat_minor": 5
}
