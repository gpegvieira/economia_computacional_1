{
 "cells": [
  {
   "cell_type": "code",
   "execution_count": 100,
   "id": "24d02c3e-123d-4329-a7f8-0f95eb68fa9a",
   "metadata": {
    "tags": []
   },
   "outputs": [],
   "source": [
    "# Definição da função de entrada de dados\n",
    "def entrada_dados():\n",
    "    dados = []\n",
    "    i = 0\n",
    "    while i < 4:\n",
    "        dados.append(int(input(f\"Digite o {i+1}º número.\")))\n",
    "        i+=1\n",
    "    return dados"
   ]
  },
  {
   "cell_type": "code",
   "execution_count": 102,
   "id": "0c726689-d000-43a4-b5b5-43f5fd158558",
   "metadata": {
    "tags": []
   },
   "outputs": [],
   "source": [
    "# Definição da função de processamento de dados (média)\n",
    "def media(a1,a2,a3,a4):\n",
    "    media = (a1+a2+a3+a4)/4\n",
    "    return media"
   ]
  },
  {
   "cell_type": "code",
   "execution_count": 104,
   "id": "f1c6a6db-89ca-4a10-a43b-600528e23802",
   "metadata": {
    "tags": []
   },
   "outputs": [],
   "source": [
    "# Definição da função de saída de dados\n",
    "def saida_dados(x):\n",
    "    print(x)"
   ]
  },
  {
   "cell_type": "code",
   "execution_count": 110,
   "id": "72b80973-93d8-4a9d-927e-fc6fc836aab5",
   "metadata": {
    "tags": []
   },
   "outputs": [],
   "source": [
    "def main():\n",
    "    dados = numeros = entrada_dados()\n",
    "    resultado = media(dados[0], dados[1], dados[2], dados[3])\n",
    "    saida_dados(resultado)"
   ]
  },
  {
   "cell_type": "code",
   "execution_count": 114,
   "id": "99b8fe96-c696-45b2-9d91-25fa3e4c2a8a",
   "metadata": {
    "tags": []
   },
   "outputs": [
    {
     "name": "stdin",
     "output_type": "stream",
     "text": [
      "Digite o 1º número. 1\n",
      "Digite o 2º número. 7\n",
      "Digite o 3º número. 15\n",
      "Digite o 4º número. 31\n"
     ]
    },
    {
     "name": "stdout",
     "output_type": "stream",
     "text": [
      "13.5\n"
     ]
    }
   ],
   "source": [
    "main()"
   ]
  },
  {
   "cell_type": "code",
   "execution_count": null,
   "id": "8b278517-fefa-4ffd-ae99-0e8115d34086",
   "metadata": {},
   "outputs": [],
   "source": []
  }
 ],
 "metadata": {
  "kernelspec": {
   "display_name": "Python 3 (ipykernel)",
   "language": "python",
   "name": "python3"
  },
  "language_info": {
   "codemirror_mode": {
    "name": "ipython",
    "version": 3
   },
   "file_extension": ".py",
   "mimetype": "text/x-python",
   "name": "python",
   "nbconvert_exporter": "python",
   "pygments_lexer": "ipython3",
   "version": "3.11.7"
  }
 },
 "nbformat": 4,
 "nbformat_minor": 5
}
