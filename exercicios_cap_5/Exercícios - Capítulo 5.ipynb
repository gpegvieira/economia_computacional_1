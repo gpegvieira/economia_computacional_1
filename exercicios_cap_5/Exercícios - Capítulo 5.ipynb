{
 "cells": [
  {
   "cell_type": "code",
   "execution_count": 2,
   "id": "cdfd9e72-5022-4ed2-89f2-788327c6e334",
   "metadata": {},
   "outputs": [
    {
     "name": "stdout",
     "output_type": "stream",
     "text": [
      "1\n",
      "2\n",
      "3\n",
      "4\n",
      "5\n",
      "6\n",
      "7\n",
      "8\n",
      "9\n",
      "10\n",
      "11\n",
      "12\n",
      "13\n",
      "14\n",
      "15\n",
      "16\n",
      "17\n",
      "18\n",
      "19\n",
      "20\n",
      "21\n",
      "22\n",
      "23\n",
      "24\n",
      "25\n",
      "26\n",
      "27\n",
      "28\n",
      "29\n",
      "30\n",
      "31\n",
      "32\n",
      "33\n",
      "34\n",
      "35\n",
      "36\n",
      "37\n",
      "38\n",
      "39\n",
      "40\n",
      "41\n",
      "42\n",
      "43\n",
      "44\n",
      "45\n",
      "46\n",
      "47\n",
      "48\n",
      "49\n",
      "50\n",
      "51\n",
      "52\n",
      "53\n",
      "54\n",
      "55\n",
      "56\n",
      "57\n",
      "58\n",
      "59\n",
      "60\n",
      "61\n",
      "62\n",
      "63\n",
      "64\n",
      "65\n",
      "66\n",
      "67\n",
      "68\n",
      "69\n",
      "70\n",
      "71\n",
      "72\n",
      "73\n",
      "74\n",
      "75\n",
      "76\n",
      "77\n",
      "78\n",
      "79\n",
      "80\n",
      "81\n",
      "82\n",
      "83\n",
      "84\n",
      "85\n",
      "86\n",
      "87\n",
      "88\n",
      "89\n",
      "90\n",
      "91\n",
      "92\n",
      "93\n",
      "94\n",
      "95\n",
      "96\n",
      "97\n",
      "98\n",
      "99\n",
      "100\n"
     ]
    }
   ],
   "source": [
    "# Exercício 5.1:\n",
    "x = 1\n",
    "\n",
    "while x <= 100:\n",
    "    print(x)\n",
    "    x = x+1"
   ]
  },
  {
   "cell_type": "code",
   "execution_count": 3,
   "id": "c3dfd951",
   "metadata": {},
   "outputs": [
    {
     "name": "stdout",
     "output_type": "stream",
     "text": [
      "50\n",
      "51\n",
      "52\n",
      "53\n",
      "54\n",
      "55\n",
      "56\n",
      "57\n",
      "58\n",
      "59\n",
      "60\n",
      "61\n",
      "62\n",
      "63\n",
      "64\n",
      "65\n",
      "66\n",
      "67\n",
      "68\n",
      "69\n",
      "70\n",
      "71\n",
      "72\n",
      "73\n",
      "74\n",
      "75\n",
      "76\n",
      "77\n",
      "78\n",
      "79\n",
      "80\n",
      "81\n",
      "82\n",
      "83\n",
      "84\n",
      "85\n",
      "86\n",
      "87\n",
      "88\n",
      "89\n",
      "90\n",
      "91\n",
      "92\n",
      "93\n",
      "94\n",
      "95\n",
      "96\n",
      "97\n",
      "98\n",
      "99\n",
      "100\n"
     ]
    }
   ],
   "source": [
    "# Exercício 5.2:\n",
    "x = 50\n",
    "\n",
    "while x <= 100:\n",
    "    print(x)\n",
    "    x = x+1"
   ]
  },
  {
   "cell_type": "code",
   "execution_count": 4,
   "id": "8e1906bb",
   "metadata": {},
   "outputs": [
    {
     "name": "stdout",
     "output_type": "stream",
     "text": [
      "10\n",
      "9\n",
      "8\n",
      "7\n",
      "6\n",
      "5\n",
      "4\n",
      "3\n",
      "2\n",
      "1\n",
      "0\n",
      "Fogo!\n"
     ]
    }
   ],
   "source": [
    "# Exercício 5.3:\n",
    "x = 10\n",
    "\n",
    "while x >= 0:\n",
    "    print(x)\n",
    "    x = x-1\n",
    "\n",
    "print(\"Fogo!\")"
   ]
  },
  {
   "cell_type": "code",
   "execution_count": 6,
   "id": "a76d985b",
   "metadata": {},
   "outputs": [
    {
     "name": "stdout",
     "output_type": "stream",
     "text": [
      "Digite o último número a imprimir (este programa imprime apenas números ímpares):9\n",
      "1\n",
      "3\n",
      "5\n",
      "7\n",
      "9\n"
     ]
    }
   ],
   "source": []
  },
  {
   "cell_type": "code",
   "execution_count": 7,
   "id": "6aac7bf7",
   "metadata": {},
   "outputs": [
    {
     "name": "stdout",
     "output_type": "stream",
     "text": [
      "3\n",
      "6\n",
      "9\n",
      "12\n",
      "15\n",
      "18\n",
      "21\n",
      "24\n",
      "27\n",
      "30\n"
     ]
    }
   ],
   "source": [
    "# Exercício 5.5:\n",
    "fim = 30\n",
    "x = 3\n",
    "while x <= fim:\n",
    "    print(x)\n",
    "    x = x + 3"
   ]
  },
  {
   "cell_type": "code",
   "execution_count": 8,
   "id": "0035ae0b",
   "metadata": {},
   "outputs": [
    {
     "name": "stdout",
     "output_type": "stream",
     "text": [
      "Tabuada do:9\n",
      "9x1=9\n",
      "9x2=18\n",
      "9x3=27\n",
      "9x4=36\n",
      "9x5=45\n",
      "9x6=54\n",
      "9x7=63\n",
      "9x8=72\n",
      "9x9=81\n",
      "9x10=90\n"
     ]
    }
   ],
   "source": [
    "# Exercício 5.6:\n",
    "n = int(input(\"Tabuada do:\"))\n",
    "x = 1\n",
    "while x <= 10:\n",
    "    print(f\"{n}x{x}={n*x}\")\n",
    "    x = x+1"
   ]
  },
  {
   "cell_type": "code",
   "execution_count": 9,
   "id": "06849eba",
   "metadata": {},
   "outputs": [
    {
     "name": "stdout",
     "output_type": "stream",
     "text": [
      "Tabuada do:3\n",
      "Iniciando com o fator:5\n",
      "E terminando com o fator:8\n",
      "3x5=15\n",
      "3x6=18\n",
      "3x7=21\n",
      "3x8=24\n"
     ]
    }
   ],
   "source": [
    "# Exercício 5.7:\n",
    "n = int(input(\"Tabuada do:\"))\n",
    "a = int(input(\"Iniciando com o fator:\"))\n",
    "b = int(input(\"E terminando com o fator:\"))\n",
    "x = a\n",
    "while x <= b:\n",
    "    print(f\"{n}x{x}={n*x}\")\n",
    "    x = x+1"
   ]
  },
  {
   "cell_type": "code",
   "execution_count": 10,
   "id": "c47342f9",
   "metadata": {},
   "outputs": [
    {
     "name": "stdout",
     "output_type": "stream",
     "text": [
      "60\n",
      "30\n",
      "60 x 30 = 1800\n"
     ]
    }
   ],
   "source": [
    "# Exercício 5.8:\n",
    "x = int(input())\n",
    "y = int(input())\n",
    "a = 1\n",
    "b = 0\n",
    "while a <= x:\n",
    "    b = b + y\n",
    "    a = a + 1\n",
    "print(f\"{x} x {y} = {b}\")    "
   ]
  },
  {
   "cell_type": "code",
   "execution_count": null,
   "id": "6d02f9d4",
   "metadata": {},
   "outputs": [],
   "source": [
    "# Exercício 5.9:\n",
    "dividendo = int(input(\"Dividendo:\"))\n",
    "divisor = int(input(\"Divisor:\"))\n",
    "quociente = 0\n",
    "x = dividendo\n",
    "\n",
    "while x >= divisor:\n",
    "    x = x - divisor\n",
    "    quociente = quociente + 1\n",
    "resto = x\n",
    "\n",
    "print(f\"{dividendo} / {divisor} = {quociente} (quociente) {resto} (resto)\")"
   ]
  },
  {
   "cell_type": "code",
   "execution_count": 1,
   "id": "013a1752",
   "metadata": {},
   "outputs": [
    {
     "name": "stdout",
     "output_type": "stream",
     "text": [
      "Resposta da questão 1: b\n",
      "Resposta da questão 2: a\n",
      "Resposta da questão 3: e\n",
      "O aluno fez 2 ponto(s)\n"
     ]
    }
   ],
   "source": [
    "# Exercício 5.10:\n",
    "pontos = 0\n",
    "questão = 1\n",
    "while questão <= 3:\n",
    "    resposta = input(\"Resposta da questão %d: \" % questão)\n",
    "    if questão == 1 and (resposta == \"b\" or resposta == \"B\"):\n",
    "        pontos = pontos + 1\n",
    "    if questão == 2 and (resposta == \"a\" or resposta == \"A\"):\n",
    "        pontos = pontos + 1\n",
    "    if questão == 3 and (resposta == \"d\" or resposta == \"D\"):\n",
    "        pontos = pontos + 1\n",
    "    questão += 1\n",
    "print(\"O aluno fez %d ponto(s)\" % pontos)"
   ]
  },
  {
   "cell_type": "code",
   "execution_count": 12,
   "id": "552bdb93-14c9-4c72-8db9-a08e4effa0a4",
   "metadata": {},
   "outputs": [
    {
     "name": "stdin",
     "output_type": "stream",
     "text": [
      "Depósito inicial: 1000\n",
      "Taxa de juros da poupança: 10\n"
     ]
    },
    {
     "name": "stdout",
     "output_type": "stream",
     "text": [
      "O montante ao fim do mês 1 é de 1100.00 reais.\n",
      "O montante ao fim do mês 2 é de 1200.00 reais.\n",
      "O montante ao fim do mês 3 é de 1300.00 reais.\n",
      "O montante ao fim do mês 4 é de 1400.00 reais.\n",
      "O montante ao fim do mês 5 é de 1500.00 reais.\n",
      "O montante ao fim do mês 6 é de 1600.00 reais.\n",
      "O montante ao fim do mês 7 é de 1700.00 reais.\n",
      "O montante ao fim do mês 8 é de 1800.00 reais.\n",
      "O montante ao fim do mês 9 é de 1900.00 reais.\n",
      "O montante ao fim do mês 10 é de 2000.00 reais.\n",
      "O montante ao fim do mês 11 é de 2100.00 reais.\n",
      "O montante ao fim do mês 12 é de 2200.00 reais.\n",
      "O montante ao fim do mês 13 é de 2300.00 reais.\n",
      "O montante ao fim do mês 14 é de 2400.00 reais.\n",
      "O montante ao fim do mês 15 é de 2500.00 reais.\n",
      "O montante ao fim do mês 16 é de 2600.00 reais.\n",
      "O montante ao fim do mês 17 é de 2700.00 reais.\n",
      "O montante ao fim do mês 18 é de 2800.00 reais.\n",
      "O montante ao fim do mês 19 é de 2900.00 reais.\n",
      "O montante ao fim do mês 20 é de 3000.00 reais.\n",
      "O montante ao fim do mês 21 é de 3100.00 reais.\n",
      "O montante ao fim do mês 22 é de 3200.00 reais.\n",
      "O montante ao fim do mês 23 é de 3300.00 reais.\n",
      "O montante ao fim do mês 24 é de 3400.00 reais.\n",
      "O total ganho com juros é de 2400.00 reais.\n"
     ]
    }
   ],
   "source": [
    "# Exercício 5.11:\n",
    "deposito = float(input(\"Depósito inicial:\"))\n",
    "taxa = float(input(\"Taxa de juros da poupança:\"))\n",
    "\n",
    "valor = deposito\n",
    "mes = 1\n",
    "rendimento = valor*mes*taxa/100\n",
    "\n",
    "while mes <= 24:\n",
    "    print(\"O montante ao fim do mês %d é de %.2f reais.\" % (mes, valor+rendimento))\n",
    "    mes = mes + 1\n",
    "    valor = valor + rendimento\n",
    "juros = deposito*24*taxa/100\n",
    "print(f\"O total ganho com juros é de %.2f reais.\" % juros)"
   ]
  },
  {
   "cell_type": "code",
   "execution_count": 18,
   "id": "e3f79f44-06a3-4bd6-b2c2-8b6fbc3bbd5d",
   "metadata": {},
   "outputs": [
    {
     "name": "stdin",
     "output_type": "stream",
     "text": [
      "Depósito inicial: 1000\n",
      "Taxa de juros da poupança: 10\n",
      "Valor de depósito mensal, a partir do início do 2º mês: 1000\n"
     ]
    },
    {
     "name": "stdout",
     "output_type": "stream",
     "text": [
      "O montante ao fim do mês 1 é de 2100.00 reais.\n",
      "O montante ao fim do mês 2 é de 3310.00 reais.\n",
      "O montante ao fim do mês 3 é de 4641.00 reais.\n",
      "O montante ao fim do mês 4 é de 6105.10 reais.\n",
      "O montante ao fim do mês 5 é de 7715.61 reais.\n",
      "O montante ao fim do mês 6 é de 9487.17 reais.\n",
      "O montante ao fim do mês 7 é de 11435.89 reais.\n",
      "O montante ao fim do mês 8 é de 13579.48 reais.\n",
      "O montante ao fim do mês 9 é de 15937.42 reais.\n",
      "O montante ao fim do mês 10 é de 18531.17 reais.\n",
      "O montante ao fim do mês 11 é de 21384.28 reais.\n",
      "O montante ao fim do mês 12 é de 24522.71 reais.\n",
      "O montante ao fim do mês 13 é de 27974.98 reais.\n",
      "O montante ao fim do mês 14 é de 31772.48 reais.\n",
      "O montante ao fim do mês 15 é de 35949.73 reais.\n",
      "O montante ao fim do mês 16 é de 40544.70 reais.\n",
      "O montante ao fim do mês 17 é de 45599.17 reais.\n",
      "O montante ao fim do mês 18 é de 51159.09 reais.\n",
      "O montante ao fim do mês 19 é de 57275.00 reais.\n",
      "O montante ao fim do mês 20 é de 64002.50 reais.\n",
      "O montante ao fim do mês 21 é de 71402.75 reais.\n",
      "O montante ao fim do mês 22 é de 79543.02 reais.\n",
      "O montante ao fim do mês 23 é de 88497.33 reais.\n",
      "O montante ao fim do mês 24 é de 98347.06 reais.\n",
      "O total ganho com juros é de 74347.06 reais.\n"
     ]
    }
   ],
   "source": [
    "# Exercício 5.12:\n",
    "deposito = float(input(\"Depósito inicial:\"))\n",
    "taxa = float(input(\"Taxa de juros da poupança:\"))\n",
    "deposito_mes = float(input(\"Valor de depósito mensal, a partir do início do 2º mês:\"))\n",
    "\n",
    "saldo = deposito\n",
    "mes = 1\n",
    "\n",
    "while mes <= 24:\n",
    "    saldo = saldo + saldo*taxa/100 + deposito_mes\n",
    "    print(\"O montante ao fim do mês %d é de %.2f reais.\" % (mes, saldo))\n",
    "    mes = mes + 1\n",
    "juros = saldo - deposito - 23*deposito_mes\n",
    "print(f\"O total ganho com juros é de %.2f reais.\" % juros)"
   ]
  },
  {
   "cell_type": "code",
   "execution_count": null,
   "id": "58b9df05-a118-4c9b-ab9c-87d417a986f0",
   "metadata": {
    "tags": []
   },
   "outputs": [],
   "source": [
    "# Exercício 5.13:\n",
    "pv = float(input(\"Valor inicial da dívida: \"))\n",
    "i = float(input(\"Taxa de juros mensal: \"))\n",
    "pmt = float(input(\"Valor mensal a ser pago: \"))\n",
    "\n",
    "saldo = pv\n",
    "juro_mensal = pv*i/100\n",
    "\n",
    "i = 0\n",
    "juros_pagos = 0\n",
    "\n",
    "if juro_mensal > pmt:\n",
    "    print(\"Pagamento insuficiente para quitar a dívida.\")\n",
    "else:\n",
    "    while saldo > pmt:\n",
    "        saldo = saldo + juro_mensal - pmt\n",
    "        juros_pagos = juros_pagos + juro_mensal\n",
    "        i = i + 1\n",
    "\n",
    "    print(f\"Número de meses até o pagamento da dívida: {i}\")\n",
    "    print(f\"Total pago: R$ {pv+juros_pagos:.2f}\")\n",
    "    print(f\"Total de juros pago: R$ {juros_pagos:.2f}\")\n",
    "    print(f\"Saldo residual: R$ {saldo:.2f}\")"
   ]
  },
  {
   "cell_type": "code",
   "execution_count": null,
   "id": "ffe2fb35-f5f9-4e31-a265-48269db7382a",
   "metadata": {},
   "outputs": [],
   "source": []
  }
 ],
 "metadata": {
  "kernelspec": {
   "display_name": "Python 3 (ipykernel)",
   "language": "python",
   "name": "python3"
  },
  "language_info": {
   "codemirror_mode": {
    "name": "ipython",
    "version": 3
   },
   "file_extension": ".py",
   "mimetype": "text/x-python",
   "name": "python",
   "nbconvert_exporter": "python",
   "pygments_lexer": "ipython3",
   "version": "3.11.7"
  }
 },
 "nbformat": 4,
 "nbformat_minor": 5
}
