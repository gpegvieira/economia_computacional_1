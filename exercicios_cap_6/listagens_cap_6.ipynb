{
 "cells": [
  {
   "cell_type": "code",
   "execution_count": 1,
   "id": "a074bb2e",
   "metadata": {},
   "outputs": [],
   "source": [
    "Z = [1,2,3,4,5]"
   ]
  },
  {
   "cell_type": "code",
   "execution_count": 2,
   "id": "520c41f6",
   "metadata": {},
   "outputs": [
    {
     "data": {
      "text/plain": [
       "1"
      ]
     },
     "execution_count": 2,
     "metadata": {},
     "output_type": "execute_result"
    }
   ],
   "source": [
    "Z[0]"
   ]
  },
  {
   "cell_type": "code",
   "execution_count": 3,
   "id": "7272a650",
   "metadata": {},
   "outputs": [
    {
     "data": {
      "text/plain": [
       "5"
      ]
     },
     "execution_count": 3,
     "metadata": {},
     "output_type": "execute_result"
    }
   ],
   "source": [
    "Z[4]"
   ]
  },
  {
   "cell_type": "code",
   "execution_count": 4,
   "id": "12f8f6e3",
   "metadata": {},
   "outputs": [],
   "source": [
    "V=Z"
   ]
  },
  {
   "cell_type": "code",
   "execution_count": 5,
   "id": "c7193a27",
   "metadata": {},
   "outputs": [],
   "source": [
    "V[0]=7"
   ]
  },
  {
   "cell_type": "code",
   "execution_count": 6,
   "id": "14f930e4",
   "metadata": {},
   "outputs": [
    {
     "data": {
      "text/plain": [
       "[7, 2, 3, 4, 5]"
      ]
     },
     "execution_count": 6,
     "metadata": {},
     "output_type": "execute_result"
    }
   ],
   "source": [
    "Z"
   ]
  },
  {
   "cell_type": "code",
   "execution_count": 8,
   "id": "40407c4f",
   "metadata": {},
   "outputs": [],
   "source": [
    "V=Z[:]"
   ]
  },
  {
   "cell_type": "code",
   "execution_count": 9,
   "id": "16bf7f85",
   "metadata": {},
   "outputs": [],
   "source": [
    "V[0]=9"
   ]
  },
  {
   "cell_type": "code",
   "execution_count": 10,
   "id": "a999aea9",
   "metadata": {},
   "outputs": [
    {
     "data": {
      "text/plain": [
       "[9, 2, 3, 4, 5]"
      ]
     },
     "execution_count": 10,
     "metadata": {},
     "output_type": "execute_result"
    }
   ],
   "source": [
    "V"
   ]
  },
  {
   "cell_type": "code",
   "execution_count": 11,
   "id": "92e27959",
   "metadata": {},
   "outputs": [
    {
     "data": {
      "text/plain": [
       "[7, 2, 3, 4, 5]"
      ]
     },
     "execution_count": 11,
     "metadata": {},
     "output_type": "execute_result"
    }
   ],
   "source": [
    "Z"
   ]
  },
  {
   "cell_type": "code",
   "execution_count": 12,
   "id": "c03aa882",
   "metadata": {},
   "outputs": [
    {
     "data": {
      "text/plain": [
       "5"
      ]
     },
     "execution_count": 12,
     "metadata": {},
     "output_type": "execute_result"
    }
   ],
   "source": [
    "len(Z)"
   ]
  },
  {
   "cell_type": "code",
   "execution_count": 17,
   "id": "902a7368",
   "metadata": {},
   "outputs": [],
   "source": [
    "L=[1,2,3,9,8]"
   ]
  },
  {
   "cell_type": "code",
   "execution_count": 18,
   "id": "15d62e60",
   "metadata": {},
   "outputs": [
    {
     "name": "stdout",
     "output_type": "stream",
     "text": [
      "1\n",
      "2\n",
      "3\n",
      "9\n",
      "8\n"
     ]
    }
   ],
   "source": [
    "x=0\n",
    "while x<len(L):\n",
    "    print(L[x])\n",
    "    x+=1"
   ]
  },
  {
   "cell_type": "code",
   "execution_count": 19,
   "id": "e3f11979",
   "metadata": {},
   "outputs": [],
   "source": [
    "L.append('a')"
   ]
  },
  {
   "cell_type": "code",
   "execution_count": 20,
   "id": "ec245913",
   "metadata": {},
   "outputs": [
    {
     "data": {
      "text/plain": [
       "[1, 2, 3, 9, 8, 'a']"
      ]
     },
     "execution_count": 20,
     "metadata": {},
     "output_type": "execute_result"
    }
   ],
   "source": [
    "L"
   ]
  },
  {
   "cell_type": "code",
   "execution_count": 21,
   "id": "7f2d6343",
   "metadata": {},
   "outputs": [],
   "source": [
    "L.append('b')"
   ]
  },
  {
   "cell_type": "code",
   "execution_count": 22,
   "id": "0392ca33",
   "metadata": {},
   "outputs": [
    {
     "data": {
      "text/plain": [
       "[1, 2, 3, 9, 8, 'a', 'b']"
      ]
     },
     "execution_count": 22,
     "metadata": {},
     "output_type": "execute_result"
    }
   ],
   "source": [
    "L"
   ]
  },
  {
   "cell_type": "code",
   "execution_count": 23,
   "id": "92fe8067",
   "metadata": {},
   "outputs": [
    {
     "data": {
      "text/plain": [
       "7"
      ]
     },
     "execution_count": 23,
     "metadata": {},
     "output_type": "execute_result"
    }
   ],
   "source": [
    "len(L)"
   ]
  },
  {
   "cell_type": "code",
   "execution_count": 24,
   "id": "b632689d",
   "metadata": {},
   "outputs": [],
   "source": [
    "L=[]"
   ]
  },
  {
   "cell_type": "code",
   "execution_count": 25,
   "id": "58b2fe05",
   "metadata": {},
   "outputs": [
    {
     "name": "stdout",
     "output_type": "stream",
     "text": [
      "Digite um número (0 para sair):9\n",
      "Digite um número (0 para sair):4\n",
      "Digite um número (0 para sair):5\n",
      "Digite um número (0 para sair):6\n",
      "Digite um número (0 para sair):0\n",
      "9\n",
      "4\n",
      "5\n",
      "6\n"
     ]
    }
   ],
   "source": [
    "while True:\n",
    "    n = int(input(\"Digite um número (0 para sair):\"))\n",
    "    if n == 0:\n",
    "        break\n",
    "    L.append(n)\n",
    "x = 0\n",
    "while x < len(L):\n",
    "    print(L[x])\n",
    "    x += 1"
   ]
  },
  {
   "cell_type": "code",
   "execution_count": 29,
   "id": "bca273dc",
   "metadata": {},
   "outputs": [],
   "source": [
    "L = [\"a\"]"
   ]
  },
  {
   "cell_type": "code",
   "execution_count": 30,
   "id": "09187918",
   "metadata": {},
   "outputs": [],
   "source": [
    "L.append(\"b\")"
   ]
  },
  {
   "cell_type": "code",
   "execution_count": 31,
   "id": "aa6e79de",
   "metadata": {},
   "outputs": [
    {
     "data": {
      "text/plain": [
       "['a', 'b']"
      ]
     },
     "execution_count": 31,
     "metadata": {},
     "output_type": "execute_result"
    }
   ],
   "source": [
    "L"
   ]
  },
  {
   "cell_type": "code",
   "execution_count": 33,
   "id": "0decf212",
   "metadata": {},
   "outputs": [],
   "source": [
    "L.extend(['c', 'd'])"
   ]
  },
  {
   "cell_type": "code",
   "execution_count": 34,
   "id": "d9e69a05",
   "metadata": {},
   "outputs": [
    {
     "data": {
      "text/plain": [
       "['a', 'b', 'c', 'd']"
      ]
     },
     "execution_count": 34,
     "metadata": {},
     "output_type": "execute_result"
    }
   ],
   "source": [
    "L"
   ]
  },
  {
   "cell_type": "code",
   "execution_count": 35,
   "id": "865cb900",
   "metadata": {},
   "outputs": [],
   "source": [
    "L.append([\"d\", \"e\", \"f\"])"
   ]
  },
  {
   "cell_type": "code",
   "execution_count": 36,
   "id": "c132c90c",
   "metadata": {},
   "outputs": [
    {
     "data": {
      "text/plain": [
       "['a', 'b', 'c', 'd', ['d', 'e', 'f']]"
      ]
     },
     "execution_count": 36,
     "metadata": {},
     "output_type": "execute_result"
    }
   ],
   "source": [
    "L"
   ]
  },
  {
   "cell_type": "code",
   "execution_count": 37,
   "id": "f42e7950",
   "metadata": {},
   "outputs": [],
   "source": [
    "L=['a']"
   ]
  },
  {
   "cell_type": "code",
   "execution_count": 38,
   "id": "b12fdb18",
   "metadata": {},
   "outputs": [],
   "source": [
    "L.append(['b'])"
   ]
  },
  {
   "cell_type": "code",
   "execution_count": 39,
   "id": "23879466",
   "metadata": {},
   "outputs": [],
   "source": [
    "L.append(['c', 'd'])"
   ]
  },
  {
   "cell_type": "code",
   "execution_count": 40,
   "id": "d38e8acf",
   "metadata": {},
   "outputs": [
    {
     "data": {
      "text/plain": [
       "3"
      ]
     },
     "execution_count": 40,
     "metadata": {},
     "output_type": "execute_result"
    }
   ],
   "source": [
    "len(L)"
   ]
  },
  {
   "cell_type": "code",
   "execution_count": 41,
   "id": "ea013ad4",
   "metadata": {},
   "outputs": [
    {
     "data": {
      "text/plain": [
       "['b']"
      ]
     },
     "execution_count": 41,
     "metadata": {},
     "output_type": "execute_result"
    }
   ],
   "source": [
    "L[1]"
   ]
  },
  {
   "cell_type": "code",
   "execution_count": 42,
   "id": "5d12ece0",
   "metadata": {},
   "outputs": [
    {
     "data": {
      "text/plain": [
       "['c', 'd']"
      ]
     },
     "execution_count": 42,
     "metadata": {},
     "output_type": "execute_result"
    }
   ],
   "source": [
    "L[2]"
   ]
  },
  {
   "cell_type": "code",
   "execution_count": 43,
   "id": "8e71f9a4",
   "metadata": {},
   "outputs": [
    {
     "data": {
      "text/plain": [
       "2"
      ]
     },
     "execution_count": 43,
     "metadata": {},
     "output_type": "execute_result"
    }
   ],
   "source": [
    "len(L[2])"
   ]
  },
  {
   "cell_type": "code",
   "execution_count": 44,
   "id": "b2b567f0",
   "metadata": {},
   "outputs": [
    {
     "data": {
      "text/plain": [
       "'d'"
      ]
     },
     "execution_count": 44,
     "metadata": {},
     "output_type": "execute_result"
    }
   ],
   "source": [
    "L[2][1]"
   ]
  },
  {
   "cell_type": "code",
   "execution_count": 45,
   "id": "91d52091",
   "metadata": {},
   "outputs": [
    {
     "data": {
      "text/plain": [
       "'c'"
      ]
     },
     "execution_count": 45,
     "metadata": {},
     "output_type": "execute_result"
    }
   ],
   "source": [
    "L[2][0]"
   ]
  },
  {
   "cell_type": "code",
   "execution_count": 58,
   "id": "b65ac831",
   "metadata": {},
   "outputs": [],
   "source": [
    "L=list(range(101))"
   ]
  },
  {
   "cell_type": "code",
   "execution_count": 59,
   "id": "eb058c67",
   "metadata": {},
   "outputs": [
    {
     "data": {
      "text/plain": [
       "[0,\n",
       " 1,\n",
       " 2,\n",
       " 3,\n",
       " 4,\n",
       " 5,\n",
       " 6,\n",
       " 7,\n",
       " 8,\n",
       " 9,\n",
       " 10,\n",
       " 11,\n",
       " 12,\n",
       " 13,\n",
       " 14,\n",
       " 15,\n",
       " 16,\n",
       " 17,\n",
       " 18,\n",
       " 19,\n",
       " 20,\n",
       " 21,\n",
       " 22,\n",
       " 23,\n",
       " 24,\n",
       " 25,\n",
       " 26,\n",
       " 27,\n",
       " 28,\n",
       " 29,\n",
       " 30,\n",
       " 31,\n",
       " 32,\n",
       " 33,\n",
       " 34,\n",
       " 35,\n",
       " 36,\n",
       " 37,\n",
       " 38,\n",
       " 39,\n",
       " 40,\n",
       " 41,\n",
       " 42,\n",
       " 43,\n",
       " 44,\n",
       " 45,\n",
       " 46,\n",
       " 47,\n",
       " 48,\n",
       " 49,\n",
       " 50,\n",
       " 51,\n",
       " 52,\n",
       " 53,\n",
       " 54,\n",
       " 55,\n",
       " 56,\n",
       " 57,\n",
       " 58,\n",
       " 59,\n",
       " 60,\n",
       " 61,\n",
       " 62,\n",
       " 63,\n",
       " 64,\n",
       " 65,\n",
       " 66,\n",
       " 67,\n",
       " 68,\n",
       " 69,\n",
       " 70,\n",
       " 71,\n",
       " 72,\n",
       " 73,\n",
       " 74,\n",
       " 75,\n",
       " 76,\n",
       " 77,\n",
       " 78,\n",
       " 79,\n",
       " 80,\n",
       " 81,\n",
       " 82,\n",
       " 83,\n",
       " 84,\n",
       " 85,\n",
       " 86,\n",
       " 87,\n",
       " 88,\n",
       " 89,\n",
       " 90,\n",
       " 91,\n",
       " 92,\n",
       " 93,\n",
       " 94,\n",
       " 95,\n",
       " 96,\n",
       " 97,\n",
       " 98,\n",
       " 99,\n",
       " 100]"
      ]
     },
     "execution_count": 59,
     "metadata": {},
     "output_type": "execute_result"
    }
   ],
   "source": [
    "L"
   ]
  },
  {
   "cell_type": "code",
   "execution_count": 60,
   "id": "3226ec2e",
   "metadata": {},
   "outputs": [],
   "source": [
    "del L[1:100]"
   ]
  },
  {
   "cell_type": "code",
   "execution_count": 61,
   "id": "c6072181",
   "metadata": {},
   "outputs": [
    {
     "data": {
      "text/plain": [
       "[0, 100]"
      ]
     },
     "execution_count": 61,
     "metadata": {},
     "output_type": "execute_result"
    }
   ],
   "source": [
    "L"
   ]
  },
  {
   "cell_type": "code",
   "execution_count": 62,
   "id": "c5864b96",
   "metadata": {},
   "outputs": [
    {
     "data": {
      "text/plain": [
       "0"
      ]
     },
     "execution_count": 62,
     "metadata": {},
     "output_type": "execute_result"
    }
   ],
   "source": [
    "L.pop(0)"
   ]
  },
  {
   "cell_type": "code",
   "execution_count": 63,
   "id": "0f3345e0",
   "metadata": {},
   "outputs": [
    {
     "data": {
      "text/plain": [
       "[100]"
      ]
     },
     "execution_count": 63,
     "metadata": {},
     "output_type": "execute_result"
    }
   ],
   "source": [
    "L"
   ]
  },
  {
   "cell_type": "code",
   "execution_count": 65,
   "id": "8bae5453",
   "metadata": {},
   "outputs": [
    {
     "name": "stdout",
     "output_type": "stream",
     "text": [
      "Digite o valor a procurar:5\n",
      "5 não encontrado\n"
     ]
    }
   ],
   "source": [
    "L = [15, 7, 27, 39]\n",
    "p = int(input(\"Digite o valor a procurar:\"))\n",
    "achou = False\n",
    "x = 0\n",
    "while x < len(L):\n",
    "    if L[x] == p:\n",
    "        achou = True\n",
    "        break\n",
    "    x += 1\n",
    "if achou:\n",
    "    print(\"%d achado na posição %d\" % (p, x))\n",
    "else:\n",
    "    print(\"%d não encontrado\" % p)"
   ]
  },
  {
   "cell_type": "code",
   "execution_count": 67,
   "id": "2bbbcece",
   "metadata": {},
   "outputs": [
    {
     "name": "stdout",
     "output_type": "stream",
     "text": [
      "8\n",
      "9\n",
      "15\n"
     ]
    }
   ],
   "source": [
    "L = [8,9,15]\n",
    "for a in L:\n",
    "    print(a)"
   ]
  },
  {
   "cell_type": "code",
   "execution_count": 68,
   "id": "d3ba2a59",
   "metadata": {},
   "outputs": [
    {
     "name": "stdout",
     "output_type": "stream",
     "text": [
      "8\n",
      "9\n",
      "15\n"
     ]
    }
   ],
   "source": [
    "L = [8,9,15]\n",
    "x = 0\n",
    "while x < len(L):\n",
    "    e = L[x]\n",
    "    print(e)\n",
    "    x+=1"
   ]
  },
  {
   "cell_type": "code",
   "execution_count": 74,
   "id": "cea4f2b1",
   "metadata": {},
   "outputs": [
    {
     "name": "stdout",
     "output_type": "stream",
     "text": [
      "Digite um número a pesquisar:12\n",
      "Elemento encontrado\n"
     ]
    }
   ],
   "source": [
    "L = [7,9,10,12]\n",
    "p = int(input(\"Digite um número a pesquisar:\"))\n",
    "for e in L:\n",
    "    if e == p:\n",
    "        print(\"Elemento encontrado\")\n",
    "        break\n",
    "else:\n",
    "    print(\"Elemento não encontrado\")"
   ]
  },
  {
   "cell_type": "code",
   "execution_count": 1,
   "id": "900fdb9e",
   "metadata": {},
   "outputs": [
    {
     "name": "stdout",
     "output_type": "stream",
     "text": [
      "0\n",
      "1\n",
      "2\n",
      "3\n",
      "4\n",
      "5\n",
      "6\n",
      "7\n",
      "8\n",
      "9\n"
     ]
    }
   ],
   "source": [
    "for v in range(10):\n",
    "    print(v)"
   ]
  },
  {
   "cell_type": "code",
   "execution_count": 2,
   "id": "af51c78b",
   "metadata": {},
   "outputs": [
    {
     "name": "stdout",
     "output_type": "stream",
     "text": [
      "5\n",
      "6\n",
      "7\n"
     ]
    }
   ],
   "source": [
    "for v in range(5,8):\n",
    "    print(v)"
   ]
  },
  {
   "cell_type": "code",
   "execution_count": 7,
   "id": "e39e7abd",
   "metadata": {},
   "outputs": [
    {
     "name": "stdout",
     "output_type": "stream",
     "text": [
      "3 6 9 12 15 18 21 24 27 30 "
     ]
    }
   ],
   "source": [
    "for t in range(3,33,3):\n",
    "    print(t, end=\" \")"
   ]
  },
  {
   "cell_type": "code",
   "execution_count": 8,
   "id": "dcd3e9e9",
   "metadata": {},
   "outputs": [
    {
     "name": "stdout",
     "output_type": "stream",
     "text": [
      "[100, 150, 200, 250, 300, 350, 400, 450, 500, 550, 600, 650, 700, 750, 800, 850, 900, 950, 1000, 1050]\n"
     ]
    }
   ],
   "source": [
    "L = list(range(100,1100,50))\n",
    "print(L)"
   ]
  },
  {
   "cell_type": "code",
   "execution_count": 9,
   "id": "854595fc",
   "metadata": {},
   "outputs": [
    {
     "name": "stdout",
     "output_type": "stream",
     "text": [
      "[0] 5\n",
      "[1] 9\n",
      "[2] 13\n"
     ]
    }
   ],
   "source": [
    "L = [5,9,13]\n",
    "x = 0\n",
    "for e in L:\n",
    "    print(\"[%d] %d\" % (x,e))\n",
    "    x+=1"
   ]
  },
  {
   "cell_type": "code",
   "execution_count": 17,
   "id": "a6d99303",
   "metadata": {},
   "outputs": [
    {
     "name": "stdout",
     "output_type": "stream",
     "text": [
      "[0] 5\n",
      "[1] 9\n",
      "[2] 13\n"
     ]
    }
   ],
   "source": [
    "L = [5,9,13]\n",
    "for x, e in enumerate(L):\n",
    "    print(\"[%d] %d\" % (x,e))"
   ]
  },
  {
   "cell_type": "code",
   "execution_count": 18,
   "id": "468e6496",
   "metadata": {},
   "outputs": [
    {
     "name": "stdout",
     "output_type": "stream",
     "text": [
      "7\n"
     ]
    }
   ],
   "source": [
    "L = [1,7,2,4]\n",
    "máximo = L[0]\n",
    "for e in L:\n",
    "    if e > máximo:\n",
    "        máximo = e\n",
    "print(máximo)"
   ]
  },
  {
   "cell_type": "code",
   "execution_count": 19,
   "id": "61314fa8",
   "metadata": {},
   "outputs": [
    {
     "name": "stdout",
     "output_type": "stream",
     "text": [
      "Pares:  [8, 12, 0]\n",
      "Ímpares:  [9, 7, 13, 21]\n"
     ]
    }
   ],
   "source": [
    "V = [9,8,7,12,0,13,21]\n",
    "P = []\n",
    "I = []\n",
    "for e in V:\n",
    "    if e % 2 == 0:\n",
    "        P.append(e)\n",
    "    else:\n",
    "        I.append(e)\n",
    "print(\"Pares: \", P)\n",
    "print(\"Ímpares: \", I)"
   ]
  },
  {
   "cell_type": "code",
   "execution_count": 1,
   "id": "38a311fc",
   "metadata": {},
   "outputs": [
    {
     "name": "stdout",
     "output_type": "stream",
     "text": [
      "Sala (0 sai): 4\n",
      "Quantos lugares você deseja (3 vagos):1\n",
      "1 lugares vendidos\n",
      "Sala (0 sai): 0\n",
      "Fim\n",
      "Utilização das salas\n",
      "Sala 1 - 10 lugar(es) vazio(s)\n",
      "Sala 2 - 2 lugar(es) vazio(s)\n",
      "Sala 3 - 1 lugar(es) vazio(s)\n",
      "Sala 4 - 2 lugar(es) vazio(s)\n",
      "Sala 5 - 0 lugar(es) vazio(s)\n"
     ]
    }
   ],
   "source": [
    "lugares_vagos = [10, 2, 1, 3, 0]\n",
    "while True:\n",
    "    sala = int(input(\"Sala (0 sai): \"))\n",
    "    if sala == 0:\n",
    "        print(\"Fim\")\n",
    "        break\n",
    "    if sala > len(lugares_vagos) or sala < 1:\n",
    "        print(\"Sala inválida\")\n",
    "    elif lugares_vagos[sala - 1] == 0:\n",
    "        print(\"Desculpe, sala lotada!\")\n",
    "    else:\n",
    "        lugares = int(\n",
    "            input(\"Quantos lugares você deseja (%d vagos):\" % lugares_vagos[sala - 1])\n",
    "        )\n",
    "        if lugares > lugares_vagos[sala - 1]:\n",
    "            print(\"Esse número de lugares não está disponível.\")\n",
    "        elif lugares < 0:\n",
    "            print(\"Número inválido\")\n",
    "        else:\n",
    "            lugares_vagos[sala - 1] -= lugares\n",
    "            print(\"%d lugares vendidos\" % lugares)\n",
    "print(\"Utilização das salas\")\n",
    "for x, l in enumerate(lugares_vagos):\n",
    "    print(\"Sala %d - %d lugar(es) vazio(s)\" % (x + 1, l))"
   ]
  },
  {
   "cell_type": "code",
   "execution_count": 1,
   "id": "9512b214",
   "metadata": {},
   "outputs": [],
   "source": [
    "S=[\"maçãs\", \"peras\", \"kiwis\"]"
   ]
  },
  {
   "cell_type": "code",
   "execution_count": 2,
   "id": "1ecfff4d",
   "metadata": {},
   "outputs": [
    {
     "name": "stdout",
     "output_type": "stream",
     "text": [
      "3\n"
     ]
    }
   ],
   "source": [
    "print(len(S))"
   ]
  },
  {
   "cell_type": "code",
   "execution_count": 3,
   "id": "269e7943",
   "metadata": {},
   "outputs": [
    {
     "data": {
      "text/plain": [
       "3"
      ]
     },
     "execution_count": 3,
     "metadata": {},
     "output_type": "execute_result"
    }
   ],
   "source": [
    "len(S)"
   ]
  },
  {
   "cell_type": "code",
   "execution_count": 4,
   "id": "244a9571",
   "metadata": {},
   "outputs": [
    {
     "data": {
      "text/plain": [
       "'maçãs'"
      ]
     },
     "execution_count": 4,
     "metadata": {},
     "output_type": "execute_result"
    }
   ],
   "source": [
    "S[0]"
   ]
  },
  {
   "cell_type": "code",
   "execution_count": 5,
   "id": "b3d93758",
   "metadata": {},
   "outputs": [
    {
     "data": {
      "text/plain": [
       "'peras'"
      ]
     },
     "execution_count": 5,
     "metadata": {},
     "output_type": "execute_result"
    }
   ],
   "source": [
    "S[1]"
   ]
  },
  {
   "cell_type": "code",
   "execution_count": 7,
   "id": "a7829836",
   "metadata": {},
   "outputs": [
    {
     "data": {
      "text/plain": [
       "'kiwis'"
      ]
     },
     "execution_count": 7,
     "metadata": {},
     "output_type": "execute_result"
    }
   ],
   "source": [
    "S[2]"
   ]
  },
  {
   "cell_type": "code",
   "execution_count": 1,
   "id": "8ed92bf3",
   "metadata": {},
   "outputs": [
    {
     "name": "stdout",
     "output_type": "stream",
     "text": [
      "Produto:1\n",
      "Produto:2\n",
      "Produto:googol\n",
      "Produto:oooooooo!\n",
      "Produto:fim\n",
      "1\n",
      "2\n",
      "googol\n",
      "oooooooo!\n"
     ]
    }
   ],
   "source": [
    "compras = []\n",
    "while True:\n",
    "    produto = input(\"Produto:\")\n",
    "    if produto == \"fim\":\n",
    "        break\n",
    "    compras.append(produto)\n",
    "for p in compras:\n",
    "    print(p)"
   ]
  },
  {
   "cell_type": "code",
   "execution_count": 3,
   "id": "4c9f91c2",
   "metadata": {},
   "outputs": [],
   "source": [
    "S=['maçãs', 'peras', 'kiwis']"
   ]
  },
  {
   "cell_type": "code",
   "execution_count": 4,
   "id": "33fe51f0",
   "metadata": {},
   "outputs": [
    {
     "data": {
      "text/plain": [
       "'maçãs'"
      ]
     },
     "execution_count": 4,
     "metadata": {},
     "output_type": "execute_result"
    }
   ],
   "source": [
    "S[0]"
   ]
  },
  {
   "cell_type": "code",
   "execution_count": 5,
   "id": "b749d3bb",
   "metadata": {},
   "outputs": [
    {
     "data": {
      "text/plain": [
       "'s'"
      ]
     },
     "execution_count": 5,
     "metadata": {},
     "output_type": "execute_result"
    }
   ],
   "source": [
    "S[0][4]"
   ]
  },
  {
   "cell_type": "code",
   "execution_count": 6,
   "id": "41ef0e96",
   "metadata": {},
   "outputs": [
    {
     "data": {
      "text/plain": [
       "'w'"
      ]
     },
     "execution_count": 6,
     "metadata": {},
     "output_type": "execute_result"
    }
   ],
   "source": [
    "S[2][2]"
   ]
  },
  {
   "cell_type": "code",
   "execution_count": 7,
   "id": "778198ce",
   "metadata": {},
   "outputs": [
    {
     "name": "stdout",
     "output_type": "stream",
     "text": [
      "m\n",
      "a\n",
      "ç\n",
      "ã\n",
      "s\n",
      "p\n",
      "e\n",
      "r\n",
      "a\n",
      "s\n",
      "k\n",
      "i\n",
      "w\n",
      "i\n",
      "s\n"
     ]
    }
   ],
   "source": [
    "for s in S:\n",
    "    for letra in s:\n",
    "        print(letra)"
   ]
  },
  {
   "cell_type": "code",
   "execution_count": 8,
   "id": "9696497f",
   "metadata": {},
   "outputs": [],
   "source": [
    "produto1 = [ \"maçã\", 10, 0.30]\n",
    "produto2 = [ \"pera\", 5, 0.75]\n",
    "produto3 = [ \"kiwi\", 4, 0.98]"
   ]
  },
  {
   "cell_type": "code",
   "execution_count": 9,
   "id": "61caf937",
   "metadata": {},
   "outputs": [
    {
     "name": "stdout",
     "output_type": "stream",
     "text": [
      "[['maçã', 10, 0.3], ['pera', 5, 0.75], ['kiwi', 4, 0.98]]\n"
     ]
    }
   ],
   "source": [
    "compras = [ produto1, produto2, produto3]\n",
    "print(compras)"
   ]
  },
  {
   "cell_type": "code",
   "execution_count": 12,
   "id": "34f01dda",
   "metadata": {},
   "outputs": [
    {
     "name": "stdout",
     "output_type": "stream",
     "text": [
      "Produto: 1\n",
      "Quantidade: 2\n",
      "Preço: 1.5\n",
      "Produto: 2\n",
      "Quantidade: 3\n",
      "Preço: 2\n",
      "Produto: fim\n",
      "                   1 x    2  1.50   3.00\n",
      "                   2 x    3  2.00   6.00\n",
      "Total:    9.00\n"
     ]
    }
   ],
   "source": [
    "compras = []\n",
    "while True:\n",
    "    produto = input(\"Produto: \")\n",
    "    if produto == \"fim\":\n",
    "        break\n",
    "    quantidade = int(input(\"Quantidade: \"))\n",
    "    preço = float(input(\"Preço: \"))\n",
    "    compras.append([produto, quantidade, preço])\n",
    "soma = 0.0\n",
    "for e in compras:\n",
    "    print(\"%20s x%5d %5.2f %6.2f\" % (e[0], e[1], e[2], e[1] * e[2]))\n",
    "    soma += e[1] * e[2]\n",
    "print(\"Total: %7.2f\" % soma)"
   ]
  },
  {
   "cell_type": "code",
   "execution_count": 15,
   "id": "a3ae2cd0",
   "metadata": {},
   "outputs": [
    {
     "name": "stdout",
     "output_type": "stream",
     "text": [
      "3\n",
      "4\n",
      "7\n",
      "8\n",
      "12\n"
     ]
    }
   ],
   "source": [
    "L = [7,4,3,12,8]\n",
    "fim = 5\n",
    "while fim > 1:\n",
    "    trocou = False\n",
    "    x = 0\n",
    "    while x < (fim-1):\n",
    "        if L[x] > L[x+1]:\n",
    "            trocou = True\n",
    "            temp = L[x]\n",
    "            L[x] = L[x+1]\n",
    "            L[x+1] = temp\n",
    "        x = x + 1\n",
    "    if not trocou:\n",
    "        break\n",
    "    fim = fim - 1\n",
    "for e in L:\n",
    "    print(e)"
   ]
  },
  {
   "cell_type": "code",
   "execution_count": 17,
   "id": "63b671c6",
   "metadata": {},
   "outputs": [],
   "source": [
    "tabela = { 'Alface': 0.45,\n",
    "           'Batata': 1.20,\n",
    "           'Tomate': 2.30,\n",
    "           'Feijão': 1.50 }"
   ]
  },
  {
   "cell_type": "code",
   "execution_count": 18,
   "id": "f67b45eb",
   "metadata": {},
   "outputs": [
    {
     "data": {
      "text/plain": [
       "0.45"
      ]
     },
     "execution_count": 18,
     "metadata": {},
     "output_type": "execute_result"
    }
   ],
   "source": [
    "tabela[\"Alface\"]"
   ]
  },
  {
   "cell_type": "code",
   "execution_count": 19,
   "id": "9d7f8522",
   "metadata": {},
   "outputs": [
    {
     "name": "stdout",
     "output_type": "stream",
     "text": [
      "2.3\n"
     ]
    }
   ],
   "source": [
    "print(tabela[\"Tomate\"])"
   ]
  },
  {
   "cell_type": "code",
   "execution_count": 20,
   "id": "d5c24edd",
   "metadata": {},
   "outputs": [
    {
     "name": "stdout",
     "output_type": "stream",
     "text": [
      "{'Alface': 0.45, 'Batata': 1.2, 'Tomate': 2.3, 'Feijão': 1.5}\n"
     ]
    }
   ],
   "source": [
    "print(tabela)"
   ]
  },
  {
   "cell_type": "code",
   "execution_count": 22,
   "id": "89179649",
   "metadata": {},
   "outputs": [],
   "source": [
    "tabela[\"Tomate\"] = 2.50"
   ]
  },
  {
   "cell_type": "code",
   "execution_count": 23,
   "id": "66857693",
   "metadata": {},
   "outputs": [
    {
     "name": "stdout",
     "output_type": "stream",
     "text": [
      "2.5\n"
     ]
    }
   ],
   "source": [
    "print(tabela[\"Tomate\"])"
   ]
  },
  {
   "cell_type": "code",
   "execution_count": 24,
   "id": "a22c9936",
   "metadata": {},
   "outputs": [],
   "source": [
    "tabela[\"Cebola\"] = 1.20"
   ]
  },
  {
   "cell_type": "code",
   "execution_count": 25,
   "id": "7cbf6ccf",
   "metadata": {},
   "outputs": [
    {
     "name": "stdout",
     "output_type": "stream",
     "text": [
      "{'Alface': 0.45, 'Batata': 1.2, 'Tomate': 2.5, 'Feijão': 1.5, 'Cebola': 1.2}\n"
     ]
    }
   ],
   "source": [
    "print(tabela)"
   ]
  },
  {
   "cell_type": "code",
   "execution_count": 26,
   "id": "99768622",
   "metadata": {},
   "outputs": [
    {
     "ename": "KeyError",
     "evalue": "'Manga'",
     "output_type": "error",
     "traceback": [
      "\u001b[1;31m---------------------------------------------------------------------------\u001b[0m",
      "\u001b[1;31mKeyError\u001b[0m                                  Traceback (most recent call last)",
      "Cell \u001b[1;32mIn[26], line 1\u001b[0m\n\u001b[1;32m----> 1\u001b[0m \u001b[38;5;28mprint\u001b[39m(tabela[\u001b[38;5;124m\"\u001b[39m\u001b[38;5;124mManga\u001b[39m\u001b[38;5;124m\"\u001b[39m])\n",
      "\u001b[1;31mKeyError\u001b[0m: 'Manga'"
     ]
    }
   ],
   "source": [
    "print(tabela[\"Manga\"])"
   ]
  },
  {
   "cell_type": "code",
   "execution_count": 27,
   "id": "bce4d17d",
   "metadata": {},
   "outputs": [
    {
     "name": "stdout",
     "output_type": "stream",
     "text": [
      "False\n"
     ]
    }
   ],
   "source": [
    "print(\"Manga\" in tabela)"
   ]
  },
  {
   "cell_type": "code",
   "execution_count": 28,
   "id": "6a8f38f5",
   "metadata": {},
   "outputs": [
    {
     "name": "stdout",
     "output_type": "stream",
     "text": [
      "True\n"
     ]
    }
   ],
   "source": [
    "print(\"Batata\" in tabela)"
   ]
  },
  {
   "cell_type": "code",
   "execution_count": 29,
   "id": "517b60a0",
   "metadata": {},
   "outputs": [
    {
     "name": "stdout",
     "output_type": "stream",
     "text": [
      "dict_keys(['Alface', 'Batata', 'Tomate', 'Feijão', 'Cebola'])\n"
     ]
    }
   ],
   "source": [
    "print(tabela.keys())"
   ]
  },
  {
   "cell_type": "code",
   "execution_count": 30,
   "id": "bd32c48d",
   "metadata": {},
   "outputs": [
    {
     "name": "stdout",
     "output_type": "stream",
     "text": [
      "dict_values([0.45, 1.2, 2.5, 1.5, 1.2])\n"
     ]
    }
   ],
   "source": [
    "print(tabela.values())"
   ]
  },
  {
   "cell_type": "code",
   "execution_count": 5,
   "id": "4c0bdf6e",
   "metadata": {},
   "outputs": [
    {
     "name": "stdout",
     "output_type": "stream",
     "text": [
      "Digite o nome do produto, fim para terminar:Alface\n",
      "Preço  0.45\n",
      "Digite o nome do produto, fim para terminar:Tomate\n",
      "Preço  2.30\n",
      "Digite o nome do produto, fim para terminar:Feijão\n",
      "Preço  1.50\n",
      "Digite o nome do produto, fim para terminar:Batata\n",
      "Preço  1.20\n",
      "Digite o nome do produto, fim para terminar:fim\n"
     ]
    }
   ],
   "source": [
    "tabela = { 'Alface': 0.45, \n",
    "           'Batata': 1.20,\n",
    "           'Tomate': 2.30,\n",
    "           'Feijão': 1.50 }\n",
    "while True:\n",
    "    produto = input(\"Digite o nome do produto, fim para terminar:\")\n",
    "    if produto == \"fim\":\n",
    "        break\n",
    "    if produto in tabela:\n",
    "        print(\"Preço %5.2f\" % tabela[produto])\n",
    "    else:\n",
    "        print(\"Produto não encontrado!\")"
   ]
  },
  {
   "cell_type": "code",
   "execution_count": 6,
   "id": "a4671757",
   "metadata": {},
   "outputs": [
    {
     "name": "stdout",
     "output_type": "stream",
     "text": [
      "{'Alface': 0.45, 'Batata': 1.2, 'Feijão': 1.5}\n"
     ]
    }
   ],
   "source": [
    "del tabela['Tomate']\n",
    "print(tabela)"
   ]
  },
  {
   "cell_type": "code",
   "execution_count": 7,
   "id": "b1f04ea4",
   "metadata": {},
   "outputs": [],
   "source": [
    "estoque = {'tomate': [1000,2.30],\n",
    "           'alface': [500,0.45],\n",
    "           'batata': [2001,1.20],\n",
    "           'feijão': [100,1.50]}"
   ]
  },
  {
   "cell_type": "code",
   "execution_count": 11,
   "id": "6d91016b",
   "metadata": {},
   "outputs": [
    {
     "name": "stdout",
     "output_type": "stream",
     "text": [
      "Vendas:\n",
      "\n",
      "      tomate:   5 x   2.30 =  11.50\n",
      "Custo total:                 11.50\n",
      "\n",
      "Estoque:\n",
      "\n",
      "Descrição:  tomate\n",
      "Quantidade:  985\n",
      "Preço:   2.30\n",
      "\n",
      "Descrição:  alface\n",
      "Quantidade:  490\n",
      "Preço:   0.45\n",
      "\n",
      "Descrição:  batata\n",
      "Quantidade:  1981\n",
      "Preço:   1.20\n",
      "\n",
      "Descrição:  feijão\n",
      "Quantidade:  100\n",
      "Preço:   1.50\n",
      "\n",
      "      batata:  10 x   1.20 =  12.00\n",
      "Custo total:                 23.50\n",
      "\n",
      "Estoque:\n",
      "\n",
      "Descrição:  tomate\n",
      "Quantidade:  985\n",
      "Preço:   2.30\n",
      "\n",
      "Descrição:  alface\n",
      "Quantidade:  490\n",
      "Preço:   0.45\n",
      "\n",
      "Descrição:  batata\n",
      "Quantidade:  1971\n",
      "Preço:   1.20\n",
      "\n",
      "Descrição:  feijão\n",
      "Quantidade:  100\n",
      "Preço:   1.50\n",
      "\n",
      "      alface:   5 x   0.45 =   2.25\n",
      "Custo total:                 25.75\n",
      "\n",
      "Estoque:\n",
      "\n",
      "Descrição:  tomate\n",
      "Quantidade:  985\n",
      "Preço:   2.30\n",
      "\n",
      "Descrição:  alface\n",
      "Quantidade:  485\n",
      "Preço:   0.45\n",
      "\n",
      "Descrição:  batata\n",
      "Quantidade:  1971\n",
      "Preço:   1.20\n",
      "\n",
      "Descrição:  feijão\n",
      "Quantidade:  100\n",
      "Preço:   1.50\n",
      "\n"
     ]
    }
   ],
   "source": [
    "venda = [ [\"tomate\", 5], [\"batata\", 10], [\"alface\", 5] ]\n",
    "total = 0\n",
    "print(\"Vendas:\\n\")\n",
    "for operacao in venda:\n",
    "    produto, quantidade = operacao\n",
    "    preco = estoque[produto][1]\n",
    "    custo = preco * quantidade\n",
    "    print(\"%12s: %3d x %6.2f = %6.2f\" % (produto, quantidade, preco, custo))\n",
    "    estoque[produto][0] -= quantidade\n",
    "    total += custo\n",
    "    print(\"Custo total: %21.2f\\n\" % total)\n",
    "    print(\"Estoque:\\n\")\n",
    "    for chave, dados in estoque.items():\n",
    "        print(\"Descrição: \", chave)\n",
    "        print(\"Quantidade: \", dados[0])\n",
    "        print(\"Preço: %6.2f\\n\" % dados[1])"
   ]
  },
  {
   "cell_type": "code",
   "execution_count": 12,
   "id": "d98f8259",
   "metadata": {},
   "outputs": [],
   "source": [
    "tupla = ('a', 'b', 'c')"
   ]
  },
  {
   "cell_type": "code",
   "execution_count": 13,
   "id": "e9181c7a",
   "metadata": {},
   "outputs": [
    {
     "data": {
      "text/plain": [
       "('a', 'b', 'c')"
      ]
     },
     "execution_count": 13,
     "metadata": {},
     "output_type": "execute_result"
    }
   ],
   "source": [
    "tupla"
   ]
  },
  {
   "cell_type": "code",
   "execution_count": 14,
   "id": "f96bb237",
   "metadata": {},
   "outputs": [
    {
     "name": "stdout",
     "output_type": "stream",
     "text": [
      "('a', 'b', 'c')\n"
     ]
    }
   ],
   "source": [
    "print(tupla)"
   ]
  },
  {
   "cell_type": "code",
   "execution_count": 15,
   "id": "bae4806b",
   "metadata": {},
   "outputs": [
    {
     "data": {
      "text/plain": [
       "'a'"
      ]
     },
     "execution_count": 15,
     "metadata": {},
     "output_type": "execute_result"
    }
   ],
   "source": [
    "tupla[0]"
   ]
  },
  {
   "cell_type": "code",
   "execution_count": 16,
   "id": "756eacb8",
   "metadata": {},
   "outputs": [
    {
     "data": {
      "text/plain": [
       "'b'"
      ]
     },
     "execution_count": 16,
     "metadata": {},
     "output_type": "execute_result"
    }
   ],
   "source": [
    "tupla[1]"
   ]
  },
  {
   "cell_type": "code",
   "execution_count": 17,
   "id": "7c37884c",
   "metadata": {},
   "outputs": [
    {
     "data": {
      "text/plain": [
       "'c'"
      ]
     },
     "execution_count": 17,
     "metadata": {},
     "output_type": "execute_result"
    }
   ],
   "source": [
    "tupla[2]"
   ]
  },
  {
   "cell_type": "code",
   "execution_count": 18,
   "id": "f1a797ac",
   "metadata": {},
   "outputs": [
    {
     "data": {
      "text/plain": [
       "('b', 'c')"
      ]
     },
     "execution_count": 18,
     "metadata": {},
     "output_type": "execute_result"
    }
   ],
   "source": [
    "tupla[1:]"
   ]
  },
  {
   "cell_type": "code",
   "execution_count": 19,
   "id": "0dff33bd",
   "metadata": {},
   "outputs": [
    {
     "data": {
      "text/plain": [
       "('a', 'b', 'c', 'a', 'b', 'c')"
      ]
     },
     "execution_count": 19,
     "metadata": {},
     "output_type": "execute_result"
    }
   ],
   "source": [
    "tupla * 2"
   ]
  },
  {
   "cell_type": "code",
   "execution_count": 20,
   "id": "12ee3f79",
   "metadata": {},
   "outputs": [
    {
     "data": {
      "text/plain": [
       "3"
      ]
     },
     "execution_count": 20,
     "metadata": {},
     "output_type": "execute_result"
    }
   ],
   "source": [
    "len(tupla)"
   ]
  },
  {
   "cell_type": "code",
   "execution_count": 21,
   "id": "3daf7e39",
   "metadata": {},
   "outputs": [
    {
     "ename": "TypeError",
     "evalue": "'tuple' object does not support item assignment",
     "output_type": "error",
     "traceback": [
      "\u001b[1;31m---------------------------------------------------------------------------\u001b[0m",
      "\u001b[1;31mTypeError\u001b[0m                                 Traceback (most recent call last)",
      "Cell \u001b[1;32mIn[21], line 1\u001b[0m\n\u001b[1;32m----> 1\u001b[0m tupla[\u001b[38;5;241m0\u001b[39m]\u001b[38;5;241m=\u001b[39m\u001b[38;5;124m\"\u001b[39m\u001b[38;5;124mA\u001b[39m\u001b[38;5;124m\"\u001b[39m\n",
      "\u001b[1;31mTypeError\u001b[0m: 'tuple' object does not support item assignment"
     ]
    }
   ],
   "source": [
    "tupla[0]=\"A\""
   ]
  },
  {
   "cell_type": "code",
   "execution_count": 22,
   "id": "18d3c249",
   "metadata": {},
   "outputs": [
    {
     "name": "stdout",
     "output_type": "stream",
     "text": [
      "a\n",
      "b\n",
      "c\n"
     ]
    }
   ],
   "source": [
    "for elemento in tupla:\n",
    "    print(elemento)"
   ]
  },
  {
   "cell_type": "code",
   "execution_count": 23,
   "id": "1ed6f1cb",
   "metadata": {},
   "outputs": [],
   "source": [
    "tupla = 100, 200, 300"
   ]
  },
  {
   "cell_type": "code",
   "execution_count": 24,
   "id": "dfa6751f",
   "metadata": {},
   "outputs": [
    {
     "data": {
      "text/plain": [
       "(100, 200, 300)"
      ]
     },
     "execution_count": 24,
     "metadata": {},
     "output_type": "execute_result"
    }
   ],
   "source": [
    "tupla"
   ]
  },
  {
   "cell_type": "code",
   "execution_count": 25,
   "id": "d0442497",
   "metadata": {},
   "outputs": [],
   "source": [
    "a, b, c = 100, 200, 300"
   ]
  },
  {
   "cell_type": "code",
   "execution_count": 26,
   "id": "7219af0d",
   "metadata": {},
   "outputs": [
    {
     "data": {
      "text/plain": [
       "100"
      ]
     },
     "execution_count": 26,
     "metadata": {},
     "output_type": "execute_result"
    }
   ],
   "source": [
    "a"
   ]
  },
  {
   "cell_type": "code",
   "execution_count": 27,
   "id": "ed09124e",
   "metadata": {},
   "outputs": [
    {
     "data": {
      "text/plain": [
       "200"
      ]
     },
     "execution_count": 27,
     "metadata": {},
     "output_type": "execute_result"
    }
   ],
   "source": [
    "b"
   ]
  },
  {
   "cell_type": "code",
   "execution_count": 28,
   "id": "45066bee",
   "metadata": {},
   "outputs": [
    {
     "data": {
      "text/plain": [
       "300"
      ]
     },
     "execution_count": 28,
     "metadata": {},
     "output_type": "execute_result"
    }
   ],
   "source": [
    "c"
   ]
  },
  {
   "cell_type": "code",
   "execution_count": 29,
   "id": "9a27c0ee",
   "metadata": {},
   "outputs": [
    {
     "data": {
      "text/plain": [
       "(100, 200, 300)"
      ]
     },
     "execution_count": 29,
     "metadata": {},
     "output_type": "execute_result"
    }
   ],
   "source": [
    "tupla"
   ]
  },
  {
   "cell_type": "code",
   "execution_count": 30,
   "id": "6874ec0a",
   "metadata": {},
   "outputs": [],
   "source": [
    "a, b = b, a"
   ]
  },
  {
   "cell_type": "code",
   "execution_count": 31,
   "id": "fa356368",
   "metadata": {},
   "outputs": [
    {
     "data": {
      "text/plain": [
       "200"
      ]
     },
     "execution_count": 31,
     "metadata": {},
     "output_type": "execute_result"
    }
   ],
   "source": [
    "a"
   ]
  },
  {
   "cell_type": "code",
   "execution_count": 32,
   "id": "7ecccb45",
   "metadata": {},
   "outputs": [
    {
     "data": {
      "text/plain": [
       "100"
      ]
     },
     "execution_count": 32,
     "metadata": {},
     "output_type": "execute_result"
    }
   ],
   "source": [
    "b"
   ]
  },
  {
   "cell_type": "code",
   "execution_count": 33,
   "id": "0be70c59",
   "metadata": {},
   "outputs": [],
   "source": [
    "t1 = 1"
   ]
  },
  {
   "cell_type": "code",
   "execution_count": 34,
   "id": "7f2c18cc",
   "metadata": {},
   "outputs": [
    {
     "data": {
      "text/plain": [
       "1"
      ]
     },
     "execution_count": 34,
     "metadata": {},
     "output_type": "execute_result"
    }
   ],
   "source": [
    "t1"
   ]
  },
  {
   "cell_type": "code",
   "execution_count": 35,
   "id": "6b159180",
   "metadata": {},
   "outputs": [],
   "source": [
    "t2 = (1,)"
   ]
  },
  {
   "cell_type": "code",
   "execution_count": 36,
   "id": "030150bd",
   "metadata": {},
   "outputs": [
    {
     "data": {
      "text/plain": [
       "(1,)"
      ]
     },
     "execution_count": 36,
     "metadata": {},
     "output_type": "execute_result"
    }
   ],
   "source": [
    "t2"
   ]
  },
  {
   "cell_type": "code",
   "execution_count": 37,
   "id": "b252c4b1",
   "metadata": {},
   "outputs": [],
   "source": [
    "t3 = (1,)"
   ]
  },
  {
   "cell_type": "code",
   "execution_count": 38,
   "id": "3b4d54a7",
   "metadata": {},
   "outputs": [
    {
     "data": {
      "text/plain": [
       "(1,)"
      ]
     },
     "execution_count": 38,
     "metadata": {},
     "output_type": "execute_result"
    }
   ],
   "source": [
    "t3"
   ]
  },
  {
   "cell_type": "code",
   "execution_count": 39,
   "id": "0dd2edfb",
   "metadata": {},
   "outputs": [],
   "source": [
    "t4 = ()"
   ]
  },
  {
   "cell_type": "code",
   "execution_count": 42,
   "id": "a2e6bf51",
   "metadata": {},
   "outputs": [
    {
     "data": {
      "text/plain": [
       "()"
      ]
     },
     "execution_count": 42,
     "metadata": {},
     "output_type": "execute_result"
    }
   ],
   "source": [
    "t4"
   ]
  },
  {
   "cell_type": "code",
   "execution_count": 43,
   "id": "f911cd0a",
   "metadata": {},
   "outputs": [
    {
     "data": {
      "text/plain": [
       "0"
      ]
     },
     "execution_count": 43,
     "metadata": {},
     "output_type": "execute_result"
    }
   ],
   "source": [
    "len(t4)"
   ]
  },
  {
   "cell_type": "code",
   "execution_count": 44,
   "id": "b22720bb",
   "metadata": {},
   "outputs": [],
   "source": [
    "L=[1,2,3]"
   ]
  },
  {
   "cell_type": "code",
   "execution_count": 45,
   "id": "850e6166",
   "metadata": {},
   "outputs": [],
   "source": [
    "T=tuple(L)"
   ]
  },
  {
   "cell_type": "code",
   "execution_count": 46,
   "id": "b8c53540",
   "metadata": {},
   "outputs": [
    {
     "data": {
      "text/plain": [
       "(1, 2, 3)"
      ]
     },
     "execution_count": 46,
     "metadata": {},
     "output_type": "execute_result"
    }
   ],
   "source": [
    "T"
   ]
  },
  {
   "cell_type": "code",
   "execution_count": 47,
   "id": "8946980d",
   "metadata": {},
   "outputs": [],
   "source": [
    "t1=T"
   ]
  },
  {
   "cell_type": "code",
   "execution_count": 48,
   "id": "6be2badd",
   "metadata": {},
   "outputs": [],
   "source": [
    "t2=4,5,6"
   ]
  },
  {
   "cell_type": "code",
   "execution_count": 49,
   "id": "d12aab87",
   "metadata": {},
   "outputs": [
    {
     "data": {
      "text/plain": [
       "(1, 2, 3, 4, 5, 6)"
      ]
     },
     "execution_count": 49,
     "metadata": {},
     "output_type": "execute_result"
    }
   ],
   "source": [
    "t1+t2"
   ]
  },
  {
   "cell_type": "code",
   "execution_count": 50,
   "id": "14ff85d7",
   "metadata": {},
   "outputs": [],
   "source": [
    "tupla=('a', ['b', 'c', 'd'])"
   ]
  },
  {
   "cell_type": "code",
   "execution_count": 51,
   "id": "007f8186",
   "metadata": {},
   "outputs": [
    {
     "data": {
      "text/plain": [
       "('a', ['b', 'c', 'd'])"
      ]
     },
     "execution_count": 51,
     "metadata": {},
     "output_type": "execute_result"
    }
   ],
   "source": [
    "tupla"
   ]
  },
  {
   "cell_type": "code",
   "execution_count": 52,
   "id": "7be646f7",
   "metadata": {},
   "outputs": [
    {
     "data": {
      "text/plain": [
       "2"
      ]
     },
     "execution_count": 52,
     "metadata": {},
     "output_type": "execute_result"
    }
   ],
   "source": [
    "len(tupla)"
   ]
  },
  {
   "cell_type": "code",
   "execution_count": 53,
   "id": "892c3776",
   "metadata": {},
   "outputs": [
    {
     "data": {
      "text/plain": [
       "['b', 'c', 'd']"
      ]
     },
     "execution_count": 53,
     "metadata": {},
     "output_type": "execute_result"
    }
   ],
   "source": [
    "tupla[1]"
   ]
  },
  {
   "cell_type": "code",
   "execution_count": 54,
   "id": "0359e099",
   "metadata": {},
   "outputs": [],
   "source": [
    "tupla[1].append('e')"
   ]
  },
  {
   "cell_type": "code",
   "execution_count": 55,
   "id": "0a7c41fd",
   "metadata": {},
   "outputs": [
    {
     "data": {
      "text/plain": [
       "('a', ['b', 'c', 'd', 'e'])"
      ]
     },
     "execution_count": 55,
     "metadata": {},
     "output_type": "execute_result"
    }
   ],
   "source": [
    "tupla"
   ]
  },
  {
   "cell_type": "code",
   "execution_count": 56,
   "id": "335d7fa6",
   "metadata": {},
   "outputs": [
    {
     "ename": "TypeError",
     "evalue": "can only concatenate tuple (not \"str\") to tuple",
     "output_type": "error",
     "traceback": [
      "\u001b[1;31m---------------------------------------------------------------------------\u001b[0m",
      "\u001b[1;31mTypeError\u001b[0m                                 Traceback (most recent call last)",
      "Cell \u001b[1;32mIn[56], line 1\u001b[0m\n\u001b[1;32m----> 1\u001b[0m tupla\u001b[38;5;241m+\u001b[39m\u001b[38;5;124m'\u001b[39m\u001b[38;5;124mt\u001b[39m\u001b[38;5;124m'\u001b[39m\n",
      "\u001b[1;31mTypeError\u001b[0m: can only concatenate tuple (not \"str\") to tuple"
     ]
    }
   ],
   "source": [
    "tupla+'t'"
   ]
  },
  {
   "cell_type": "code",
   "execution_count": 57,
   "id": "bb2720fb",
   "metadata": {},
   "outputs": [
    {
     "ename": "AttributeError",
     "evalue": "'tuple' object has no attribute 'append'",
     "output_type": "error",
     "traceback": [
      "\u001b[1;31m---------------------------------------------------------------------------\u001b[0m",
      "\u001b[1;31mAttributeError\u001b[0m                            Traceback (most recent call last)",
      "Cell \u001b[1;32mIn[57], line 1\u001b[0m\n\u001b[1;32m----> 1\u001b[0m tupla\u001b[38;5;241m.\u001b[39mappend(\u001b[38;5;124m'\u001b[39m\u001b[38;5;124me\u001b[39m\u001b[38;5;124m'\u001b[39m)\n",
      "\u001b[1;31mAttributeError\u001b[0m: 'tuple' object has no attribute 'append'"
     ]
    }
   ],
   "source": [
    "tupla.append('e')"
   ]
  },
  {
   "cell_type": "code",
   "execution_count": null,
   "id": "46472847",
   "metadata": {},
   "outputs": [],
   "source": []
  }
 ],
 "metadata": {
  "kernelspec": {
   "display_name": "Python 3 (ipykernel)",
   "language": "python",
   "name": "python3"
  },
  "language_info": {
   "codemirror_mode": {
    "name": "ipython",
    "version": 3
   },
   "file_extension": ".py",
   "mimetype": "text/x-python",
   "name": "python",
   "nbconvert_exporter": "python",
   "pygments_lexer": "ipython3",
   "version": "3.11.7"
  }
 },
 "nbformat": 4,
 "nbformat_minor": 5
}
