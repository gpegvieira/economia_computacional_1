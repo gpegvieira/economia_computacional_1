{
 "cells": [
  {
   "cell_type": "markdown",
   "id": "992ec4c7-dd2d-4d03-b79a-835c60284914",
   "metadata": {},
   "source": [
    "# Estruturas de dados"
   ]
  },
  {
   "cell_type": "markdown",
   "id": "04e0f9b1-3dbd-4369-aad2-01a58a0ba4d5",
   "metadata": {},
   "source": [
    "## List"
   ]
  },
  {
   "cell_type": "code",
   "execution_count": 11,
   "id": "999c1583-4e2d-4a35-b768-93b7a577f410",
   "metadata": {
    "tags": []
   },
   "outputs": [],
   "source": [
    "# Listagem 1:\n",
    "\n",
    "## Alocação de memória\n",
    "a = [1, 'b', 2.3]"
   ]
  },
  {
   "cell_type": "code",
   "execution_count": 13,
   "id": "c7c1acca-152e-4767-abd8-a0f0bb9f9af9",
   "metadata": {
    "tags": []
   },
   "outputs": [
    {
     "name": "stdout",
     "output_type": "stream",
     "text": [
      "[1, 'b', 2.3]\n"
     ]
    }
   ],
   "source": [
    "# Saída de dados\n",
    "print(a)"
   ]
  },
  {
   "cell_type": "code",
   "execution_count": 29,
   "id": "ac86a861-f412-4394-bc93-bd0fd214f86b",
   "metadata": {
    "tags": []
   },
   "outputs": [
    {
     "name": "stdout",
     "output_type": "stream",
     "text": [
      "2\n",
      "b\n",
      "2.3\n"
     ]
    }
   ],
   "source": [
    "# Acessando os elementos da lista\n",
    "print(a[0])\n",
    "print(a[1])\n",
    "print(a[2])"
   ]
  },
  {
   "cell_type": "code",
   "execution_count": 27,
   "id": "e4c15399-7551-402d-82f7-27ac0469c742",
   "metadata": {
    "tags": []
   },
   "outputs": [
    {
     "name": "stdout",
     "output_type": "stream",
     "text": [
      "[2, 'b', 2.3]\n"
     ]
    }
   ],
   "source": [
    "# Modificando elementos da lista\n",
    "\n",
    "a[0] = 2\n",
    "print(a)"
   ]
  },
  {
   "cell_type": "code",
   "execution_count": 31,
   "id": "840aeef8-e661-422a-a5e4-6838816cb022",
   "metadata": {
    "tags": []
   },
   "outputs": [],
   "source": [
    "## Listagem 2: ordenação de lista\n",
    "\n",
    "## Alocação de memória\n",
    "lista = [1, 5, 2, 87, 31]"
   ]
  },
  {
   "cell_type": "code",
   "execution_count": 33,
   "id": "ea072e9e-4b9d-4436-a1fb-03e982353369",
   "metadata": {
    "tags": []
   },
   "outputs": [
    {
     "name": "stdout",
     "output_type": "stream",
     "text": [
      "[1, 2, 5, 31, 87]\n"
     ]
    }
   ],
   "source": [
    "## Ordenação com a função sorted\n",
    "lista_ordenada_1 = sorted(lista)\n",
    "print(lista_ordenada_1)"
   ]
  },
  {
   "cell_type": "code",
   "execution_count": 35,
   "id": "f9c81a58-e14b-49eb-9c2d-dc7d17c527f4",
   "metadata": {
    "tags": []
   },
   "outputs": [
    {
     "name": "stdout",
     "output_type": "stream",
     "text": [
      "[1, 5, 2, 87, 31]\n"
     ]
    }
   ],
   "source": [
    "print(lista)"
   ]
  },
  {
   "cell_type": "code",
   "execution_count": 37,
   "id": "bb49a2e1-cc85-462e-9f06-a2d0ace9d3d1",
   "metadata": {
    "tags": []
   },
   "outputs": [
    {
     "name": "stdout",
     "output_type": "stream",
     "text": [
      "[1, 2, 5, 31, 87]\n"
     ]
    }
   ],
   "source": [
    "## Ordenação com o método sort()\n",
    "lista.sort()\n",
    "print(lista)"
   ]
  },
  {
   "cell_type": "code",
   "execution_count": 39,
   "id": "93e07aba-697a-470e-82e0-4ffbedbf8572",
   "metadata": {
    "tags": []
   },
   "outputs": [
    {
     "name": "stdout",
     "output_type": "stream",
     "text": [
      "[1, 2, 5, 31, 87]\n"
     ]
    }
   ],
   "source": [
    "print(lista)"
   ]
  },
  {
   "cell_type": "code",
   "execution_count": 41,
   "id": "40508de9-49d4-4082-90f6-b320df5a2cf5",
   "metadata": {
    "tags": []
   },
   "outputs": [],
   "source": [
    "# A função sorted() mantém a lista original. O método sort() altera a lista."
   ]
  },
  {
   "cell_type": "markdown",
   "id": "c9eb7060-c70f-4db8-8759-0d878f253c51",
   "metadata": {},
   "source": [
    "### Busca sequencial"
   ]
  },
  {
   "cell_type": "code",
   "execution_count": 46,
   "id": "150bacc8-3c26-4a68-b966-c340152ef560",
   "metadata": {
    "tags": []
   },
   "outputs": [],
   "source": [
    "# Base de dados de CPF\n",
    "base = [1,5,2,87,31]"
   ]
  },
  {
   "cell_type": "code",
   "execution_count": 52,
   "id": "7bc32b4f-2a3e-4539-adcf-cc80bfdb2ce9",
   "metadata": {
    "tags": []
   },
   "outputs": [],
   "source": [
    "# Código do programador\n",
    "\n",
    "## Alocação de memória\n",
    "lista = base\n",
    "achou = False\n",
    "posicao = 0\n",
    "cpf = 0"
   ]
  },
  {
   "cell_type": "code",
   "execution_count": 56,
   "id": "bfa0e50d-ac16-4f97-bf46-650fe4afca9b",
   "metadata": {
    "tags": []
   },
   "outputs": [
    {
     "name": "stdin",
     "output_type": "stream",
     "text": [
      "Digite o valor a procurar: 10\n"
     ]
    }
   ],
   "source": [
    "# Entrada de dados\n",
    "cpf = int(input(\"Digite o valor a procurar:\"))"
   ]
  },
  {
   "cell_type": "code",
   "execution_count": 58,
   "id": "41eb3431-f228-44d6-bc6f-0016ed738fde",
   "metadata": {
    "tags": []
   },
   "outputs": [
    {
     "name": "stdout",
     "output_type": "stream",
     "text": [
      "10\n"
     ]
    }
   ],
   "source": [
    "print(cpf) # debug com print"
   ]
  },
  {
   "cell_type": "code",
   "execution_count": 60,
   "id": "0b7b201b-ba25-4168-a7c8-f931d1ea2d0b",
   "metadata": {
    "tags": []
   },
   "outputs": [],
   "source": [
    "# Processamento de dados\n",
    "while posicao < len(lista):\n",
    "    if lista[posicao] == cpf:\n",
    "        achou = True\n",
    "        break\n",
    "    posicao +=1 # o mesmo que posicao = posicao + 1"
   ]
  },
  {
   "cell_type": "code",
   "execution_count": 64,
   "id": "140f566d-239d-4b4c-bb60-58d3a0498410",
   "metadata": {
    "tags": []
   },
   "outputs": [
    {
     "name": "stdout",
     "output_type": "stream",
     "text": [
      "\n",
      "O valor 10 não foi achado.\n"
     ]
    }
   ],
   "source": [
    "# Saída de dados\n",
    "if achou:\n",
    "    print(f'\\nO valor {cpf} foi achado na posição {posicao}.')\n",
    "else:\n",
    "    print(f'\\nO valor {cpf} não foi achado.')"
   ]
  },
  {
   "cell_type": "code",
   "execution_count": null,
   "id": "ddfa9ac7-6f3a-4b28-ab78-3fcc9b6b802b",
   "metadata": {},
   "outputs": [],
   "source": []
  }
 ],
 "metadata": {
  "kernelspec": {
   "display_name": "Python 3 (ipykernel)",
   "language": "python",
   "name": "python3"
  },
  "language_info": {
   "codemirror_mode": {
    "name": "ipython",
    "version": 3
   },
   "file_extension": ".py",
   "mimetype": "text/x-python",
   "name": "python",
   "nbconvert_exporter": "python",
   "pygments_lexer": "ipython3",
   "version": "3.11.7"
  }
 },
 "nbformat": 4,
 "nbformat_minor": 5
}
