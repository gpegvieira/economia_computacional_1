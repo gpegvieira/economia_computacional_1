{
 "cells": [
  {
   "cell_type": "markdown",
   "id": "c77ede79-3194-4f37-bae2-0f58642ccdae",
   "metadata": {},
   "source": [
    "# Código para fazer processamento aritmético com números reais"
   ]
  },
  {
   "cell_type": "code",
   "execution_count": 1,
   "id": "34cf4003-1410-4cd8-8f38-2a007974ba4c",
   "metadata": {},
   "outputs": [
    {
     "data": {
      "text/plain": [
       "float"
      ]
     },
     "execution_count": 1,
     "metadata": {},
     "output_type": "execute_result"
    }
   ],
   "source": [
    "a = 2.7\n",
    "b = 3.3\n",
    "\n",
    "type(a+b)"
   ]
  },
  {
   "cell_type": "code",
   "execution_count": 2,
   "id": "b6572189-a4e9-494b-a721-cc101af1b164",
   "metadata": {},
   "outputs": [
    {
     "data": {
      "text/plain": [
       "int"
      ]
     },
     "execution_count": 2,
     "metadata": {},
     "output_type": "execute_result"
    }
   ],
   "source": [
    "a = 2\n",
    "b = 7\n",
    "\n",
    "type(a+b)"
   ]
  },
  {
   "cell_type": "code",
   "execution_count": 3,
   "id": "9c2d6272-d1d8-4061-82d9-aaaf88c00121",
   "metadata": {},
   "outputs": [
    {
     "ename": "TypeError",
     "evalue": "unsupported operand type(s) for +: 'int' and 'str'",
     "output_type": "error",
     "traceback": [
      "\u001b[1;31m---------------------------------------------------------------------------\u001b[0m",
      "\u001b[1;31mTypeError\u001b[0m                                 Traceback (most recent call last)",
      "Cell \u001b[1;32mIn[3], line 4\u001b[0m\n\u001b[0;32m      1\u001b[0m a \u001b[38;5;241m=\u001b[39m \u001b[38;5;241m2\u001b[39m\n\u001b[0;32m      2\u001b[0m b \u001b[38;5;241m=\u001b[39m \u001b[38;5;124m\"\u001b[39m\u001b[38;5;124m5\u001b[39m\u001b[38;5;124m\"\u001b[39m\n\u001b[1;32m----> 4\u001b[0m \u001b[38;5;28mtype\u001b[39m(a\u001b[38;5;241m+\u001b[39mb)\n",
      "\u001b[1;31mTypeError\u001b[0m: unsupported operand type(s) for +: 'int' and 'str'"
     ]
    }
   ],
   "source": [
    "a = 2\n",
    "b = \"5\"\n",
    "\n",
    "type(a+b)"
   ]
  },
  {
   "cell_type": "code",
   "execution_count": 4,
   "id": "cefce2d8-5168-4e69-a571-48514743dffe",
   "metadata": {},
   "outputs": [
    {
     "data": {
      "text/plain": [
       "str"
      ]
     },
     "execution_count": 4,
     "metadata": {},
     "output_type": "execute_result"
    }
   ],
   "source": [
    "a = \"2\"\n",
    "b = \"5\"\n",
    "\n",
    "type(a+b)"
   ]
  },
  {
   "cell_type": "code",
   "execution_count": 5,
   "id": "b8ce09c9-9d6d-42c5-8e56-79bc5646d388",
   "metadata": {},
   "outputs": [
    {
     "data": {
      "text/plain": [
       "'25'"
      ]
     },
     "execution_count": 5,
     "metadata": {},
     "output_type": "execute_result"
    }
   ],
   "source": [
    "a+b"
   ]
  },
  {
   "cell_type": "code",
   "execution_count": 6,
   "id": "17c3b302-5ef0-415d-b3e7-72167e879e97",
   "metadata": {},
   "outputs": [
    {
     "name": "stdout",
     "output_type": "stream",
     "text": [
      "25\n"
     ]
    }
   ],
   "source": [
    "print(a+b)"
   ]
  },
  {
   "cell_type": "code",
   "execution_count": 7,
   "id": "d731ec8d-34cb-4ebb-a0c2-5d3c9c0ecef7",
   "metadata": {},
   "outputs": [
    {
     "data": {
      "text/plain": [
       "int"
      ]
     },
     "execution_count": 7,
     "metadata": {},
     "output_type": "execute_result"
    }
   ],
   "source": [
    "c = 7\n",
    "d = 9\n",
    "\n",
    "type(c+d)"
   ]
  },
  {
   "cell_type": "code",
   "execution_count": 8,
   "id": "ae65e3a2-cee7-4c8b-95f8-062652a66796",
   "metadata": {},
   "outputs": [
    {
     "data": {
      "text/plain": [
       "float"
      ]
     },
     "execution_count": 8,
     "metadata": {},
     "output_type": "execute_result"
    }
   ],
   "source": [
    "e: int = 5\n",
    "f: float = 3.59\n",
    "\n",
    "type(e+f)"
   ]
  },
  {
   "cell_type": "code",
   "execution_count": 9,
   "id": "2c4b5d59-dd21-415c-8788-f3d61e56466c",
   "metadata": {},
   "outputs": [
    {
     "data": {
      "text/plain": [
       "8.59"
      ]
     },
     "execution_count": 9,
     "metadata": {},
     "output_type": "execute_result"
    }
   ],
   "source": [
    "e+f"
   ]
  },
  {
   "cell_type": "code",
   "execution_count": 10,
   "id": "00855093-5135-423f-8ed6-6acd4512fe31",
   "metadata": {},
   "outputs": [
    {
     "name": "stdout",
     "output_type": "stream",
     "text": [
      "True\n",
      "False\n"
     ]
    }
   ],
   "source": [
    "p = \"Agora está chovendo no meu bairro\"\n",
    "q = \"Agora está chovendo no deserto do Saara\"\n",
    "\n",
    "# a variável a representa o valor de verdade da proposição p\n",
    "# a variável b representa o valor de verdade da proposição q\n",
    "\n",
    "a = True\n",
    "b = False\n",
    "\n",
    "print(a or b)\n",
    "print(a and b)"
   ]
  },
  {
   "cell_type": "code",
   "execution_count": null,
   "id": "b494ca60-a325-4e60-b3ab-44be449a5488",
   "metadata": {},
   "outputs": [],
   "source": []
  }
 ],
 "metadata": {
  "kernelspec": {
   "display_name": "Python 3 (ipykernel)",
   "language": "python",
   "name": "python3"
  },
  "language_info": {
   "codemirror_mode": {
    "name": "ipython",
    "version": 3
   },
   "file_extension": ".py",
   "mimetype": "text/x-python",
   "name": "python",
   "nbconvert_exporter": "python",
   "pygments_lexer": "ipython3",
   "version": "3.11.7"
  }
 },
 "nbformat": 4,
 "nbformat_minor": 5
}
