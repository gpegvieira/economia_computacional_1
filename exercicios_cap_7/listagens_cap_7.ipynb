{
 "cells": [
  {
   "cell_type": "code",
   "execution_count": 1,
   "id": "b43fd837",
   "metadata": {},
   "outputs": [],
   "source": [
    "S = \"Alô mundo\""
   ]
  },
  {
   "cell_type": "code",
   "execution_count": 2,
   "id": "8f5c6594",
   "metadata": {},
   "outputs": [
    {
     "name": "stdout",
     "output_type": "stream",
     "text": [
      "A\n"
     ]
    }
   ],
   "source": [
    "print(S[0])"
   ]
  },
  {
   "cell_type": "code",
   "execution_count": 3,
   "id": "ca30ce51",
   "metadata": {},
   "outputs": [
    {
     "ename": "TypeError",
     "evalue": "'str' object does not support item assignment",
     "output_type": "error",
     "traceback": [
      "\u001b[1;31m---------------------------------------------------------------------------\u001b[0m",
      "\u001b[1;31mTypeError\u001b[0m                                 Traceback (most recent call last)",
      "Cell \u001b[1;32mIn[3], line 1\u001b[0m\n\u001b[1;32m----> 1\u001b[0m S[\u001b[38;5;241m0\u001b[39m]\u001b[38;5;241m=\u001b[39m\u001b[38;5;124m\"\u001b[39m\u001b[38;5;124ma\u001b[39m\u001b[38;5;124m\"\u001b[39m\n",
      "\u001b[1;31mTypeError\u001b[0m: 'str' object does not support item assignment"
     ]
    }
   ],
   "source": [
    "S[0]=\"a\""
   ]
  },
  {
   "cell_type": "code",
   "execution_count": 7,
   "id": "c8b51ee8",
   "metadata": {},
   "outputs": [],
   "source": [
    "L=list(\"Alô Mundo\")"
   ]
  },
  {
   "cell_type": "code",
   "execution_count": 8,
   "id": "726da219",
   "metadata": {},
   "outputs": [],
   "source": [
    "L[0]=\"a\""
   ]
  },
  {
   "cell_type": "code",
   "execution_count": 9,
   "id": "f422ca58",
   "metadata": {},
   "outputs": [
    {
     "name": "stdout",
     "output_type": "stream",
     "text": [
      "['a', 'l', 'ô', ' ', 'M', 'u', 'n', 'd', 'o']\n"
     ]
    }
   ],
   "source": [
    "print(L)"
   ]
  },
  {
   "cell_type": "code",
   "execution_count": 14,
   "id": "e7bcd5dd",
   "metadata": {},
   "outputs": [],
   "source": [
    "s=\"\".join(L)"
   ]
  },
  {
   "cell_type": "code",
   "execution_count": 15,
   "id": "941907fd",
   "metadata": {},
   "outputs": [
    {
     "name": "stdout",
     "output_type": "stream",
     "text": [
      "alô Mundo\n"
     ]
    }
   ],
   "source": [
    "print(s)"
   ]
  },
  {
   "cell_type": "code",
   "execution_count": 16,
   "id": "71e79666",
   "metadata": {},
   "outputs": [],
   "source": [
    "nome=\"João da Silva\""
   ]
  },
  {
   "cell_type": "code",
   "execution_count": 17,
   "id": "79b1d0fd",
   "metadata": {},
   "outputs": [
    {
     "data": {
      "text/plain": [
       "True"
      ]
     },
     "execution_count": 17,
     "metadata": {},
     "output_type": "execute_result"
    }
   ],
   "source": [
    "nome.startswith(\"João\")"
   ]
  },
  {
   "cell_type": "code",
   "execution_count": 18,
   "id": "cf15986b",
   "metadata": {},
   "outputs": [
    {
     "data": {
      "text/plain": [
       "False"
      ]
     },
     "execution_count": 18,
     "metadata": {},
     "output_type": "execute_result"
    }
   ],
   "source": [
    "nome.startswith(\"joão\")"
   ]
  },
  {
   "cell_type": "code",
   "execution_count": 19,
   "id": "ef8af36b",
   "metadata": {},
   "outputs": [
    {
     "data": {
      "text/plain": [
       "True"
      ]
     },
     "execution_count": 19,
     "metadata": {},
     "output_type": "execute_result"
    }
   ],
   "source": [
    "nome.endswith(\"Silva\")"
   ]
  },
  {
   "cell_type": "code",
   "execution_count": 20,
   "id": "88322dd4",
   "metadata": {},
   "outputs": [],
   "source": [
    "s = \"O Rato roeu a roupa do Rei de Roma\""
   ]
  },
  {
   "cell_type": "code",
   "execution_count": 21,
   "id": "6cd7e58b",
   "metadata": {},
   "outputs": [
    {
     "data": {
      "text/plain": [
       "'o rato roeu a roupa do rei de roma'"
      ]
     },
     "execution_count": 21,
     "metadata": {},
     "output_type": "execute_result"
    }
   ],
   "source": [
    "s.lower()"
   ]
  },
  {
   "cell_type": "code",
   "execution_count": 23,
   "id": "e1dd94f0",
   "metadata": {},
   "outputs": [
    {
     "data": {
      "text/plain": [
       "'O RATO ROEU A ROUPA DO REI DE ROMA'"
      ]
     },
     "execution_count": 23,
     "metadata": {},
     "output_type": "execute_result"
    }
   ],
   "source": [
    "s.upper()"
   ]
  },
  {
   "cell_type": "code",
   "execution_count": 24,
   "id": "6190f749",
   "metadata": {},
   "outputs": [
    {
     "data": {
      "text/plain": [
       "True"
      ]
     },
     "execution_count": 24,
     "metadata": {},
     "output_type": "execute_result"
    }
   ],
   "source": [
    "s.lower().startswith(\"o rato\")"
   ]
  },
  {
   "cell_type": "code",
   "execution_count": 25,
   "id": "11a6ab1a",
   "metadata": {},
   "outputs": [
    {
     "data": {
      "text/plain": [
       "True"
      ]
     },
     "execution_count": 25,
     "metadata": {},
     "output_type": "execute_result"
    }
   ],
   "source": [
    "s.upper().startswith(\"O RATO\")"
   ]
  },
  {
   "cell_type": "code",
   "execution_count": 26,
   "id": "1cd8acb0",
   "metadata": {},
   "outputs": [],
   "source": [
    "s = 'Maria Amélia Souza'"
   ]
  },
  {
   "cell_type": "code",
   "execution_count": 27,
   "id": "e5e7dbab",
   "metadata": {},
   "outputs": [
    {
     "data": {
      "text/plain": [
       "True"
      ]
     },
     "execution_count": 27,
     "metadata": {},
     "output_type": "execute_result"
    }
   ],
   "source": [
    "'Amélia' in s"
   ]
  },
  {
   "cell_type": "code",
   "execution_count": 28,
   "id": "786fc9f6",
   "metadata": {},
   "outputs": [
    {
     "data": {
      "text/plain": [
       "True"
      ]
     },
     "execution_count": 28,
     "metadata": {},
     "output_type": "execute_result"
    }
   ],
   "source": [
    "\"Maria\" in s"
   ]
  },
  {
   "cell_type": "code",
   "execution_count": 29,
   "id": "6778769a",
   "metadata": {},
   "outputs": [
    {
     "data": {
      "text/plain": [
       "True"
      ]
     },
     "execution_count": 29,
     "metadata": {},
     "output_type": "execute_result"
    }
   ],
   "source": [
    "\"Souza\" in s"
   ]
  },
  {
   "cell_type": "code",
   "execution_count": 30,
   "id": "f22cf948",
   "metadata": {},
   "outputs": [
    {
     "data": {
      "text/plain": [
       "True"
      ]
     },
     "execution_count": 30,
     "metadata": {},
     "output_type": "execute_result"
    }
   ],
   "source": [
    "\"a A\" in s"
   ]
  },
  {
   "cell_type": "code",
   "execution_count": 31,
   "id": "77e47739",
   "metadata": {},
   "outputs": [
    {
     "data": {
      "text/plain": [
       "False"
      ]
     },
     "execution_count": 31,
     "metadata": {},
     "output_type": "execute_result"
    }
   ],
   "source": [
    "\"amélia\" in s"
   ]
  },
  {
   "cell_type": "code",
   "execution_count": 32,
   "id": "50982c9f",
   "metadata": {},
   "outputs": [],
   "source": [
    "s=\"Todos os caminhos levam a Roma\""
   ]
  },
  {
   "cell_type": "code",
   "execution_count": 33,
   "id": "a4b77502",
   "metadata": {},
   "outputs": [
    {
     "data": {
      "text/plain": [
       "False"
      ]
     },
     "execution_count": 33,
     "metadata": {},
     "output_type": "execute_result"
    }
   ],
   "source": [
    "\"levam\" not in s"
   ]
  },
  {
   "cell_type": "code",
   "execution_count": 34,
   "id": "7d8546e5",
   "metadata": {},
   "outputs": [
    {
     "data": {
      "text/plain": [
       "True"
      ]
     },
     "execution_count": 34,
     "metadata": {},
     "output_type": "execute_result"
    }
   ],
   "source": [
    "\"Caminhos\" not in s"
   ]
  },
  {
   "cell_type": "code",
   "execution_count": 35,
   "id": "7caa88c5",
   "metadata": {},
   "outputs": [
    {
     "data": {
      "text/plain": [
       "True"
      ]
     },
     "execution_count": 35,
     "metadata": {},
     "output_type": "execute_result"
    }
   ],
   "source": [
    "\"AS\" not in s"
   ]
  },
  {
   "cell_type": "code",
   "execution_count": 36,
   "id": "b9dc0e3d",
   "metadata": {},
   "outputs": [],
   "source": [
    "s=\"João comprou um carro\""
   ]
  },
  {
   "cell_type": "code",
   "execution_count": 37,
   "id": "7fe87c85",
   "metadata": {},
   "outputs": [
    {
     "data": {
      "text/plain": [
       "True"
      ]
     },
     "execution_count": 37,
     "metadata": {},
     "output_type": "execute_result"
    }
   ],
   "source": [
    "\"joão\" in s.lower()"
   ]
  },
  {
   "cell_type": "code",
   "execution_count": 38,
   "id": "0ba66c70",
   "metadata": {},
   "outputs": [
    {
     "data": {
      "text/plain": [
       "True"
      ]
     },
     "execution_count": 38,
     "metadata": {},
     "output_type": "execute_result"
    }
   ],
   "source": [
    "\"CARRO\" in s.upper()"
   ]
  },
  {
   "cell_type": "code",
   "execution_count": 39,
   "id": "0ef7719a",
   "metadata": {},
   "outputs": [
    {
     "data": {
      "text/plain": [
       "False"
      ]
     },
     "execution_count": 39,
     "metadata": {},
     "output_type": "execute_result"
    }
   ],
   "source": [
    "\"comprou\" not in s.lower()"
   ]
  },
  {
   "cell_type": "code",
   "execution_count": 40,
   "id": "c1895f26",
   "metadata": {},
   "outputs": [
    {
     "data": {
      "text/plain": [
       "True"
      ]
     },
     "execution_count": 40,
     "metadata": {},
     "output_type": "execute_result"
    }
   ],
   "source": [
    "\"barco\" not in s.lower()"
   ]
  },
  {
   "cell_type": "code",
   "execution_count": 41,
   "id": "7cb5fefd",
   "metadata": {},
   "outputs": [],
   "source": [
    "t = \"um tigre, dois tigres, três tigres\""
   ]
  },
  {
   "cell_type": "code",
   "execution_count": 42,
   "id": "0a9af42f",
   "metadata": {},
   "outputs": [
    {
     "data": {
      "text/plain": [
       "3"
      ]
     },
     "execution_count": 42,
     "metadata": {},
     "output_type": "execute_result"
    }
   ],
   "source": [
    "t.count(\"tigre\")"
   ]
  },
  {
   "cell_type": "code",
   "execution_count": 43,
   "id": "05f164cf",
   "metadata": {},
   "outputs": [
    {
     "data": {
      "text/plain": [
       "2"
      ]
     },
     "execution_count": 43,
     "metadata": {},
     "output_type": "execute_result"
    }
   ],
   "source": [
    "t.count(\"tigres\")"
   ]
  },
  {
   "cell_type": "code",
   "execution_count": 44,
   "id": "7b722bc7",
   "metadata": {},
   "outputs": [
    {
     "data": {
      "text/plain": [
       "4"
      ]
     },
     "execution_count": 44,
     "metadata": {},
     "output_type": "execute_result"
    }
   ],
   "source": [
    "t.count(\"t\")"
   ]
  },
  {
   "cell_type": "code",
   "execution_count": 45,
   "id": "d03f5342",
   "metadata": {},
   "outputs": [
    {
     "data": {
      "text/plain": [
       "0"
      ]
     },
     "execution_count": 45,
     "metadata": {},
     "output_type": "execute_result"
    }
   ],
   "source": [
    "t.count('z')"
   ]
  },
  {
   "cell_type": "code",
   "execution_count": 46,
   "id": "a899f017",
   "metadata": {},
   "outputs": [],
   "source": [
    "s = \"Alô mundo\""
   ]
  },
  {
   "cell_type": "code",
   "execution_count": 47,
   "id": "fe1191f1",
   "metadata": {},
   "outputs": [
    {
     "data": {
      "text/plain": [
       "4"
      ]
     },
     "execution_count": 47,
     "metadata": {},
     "output_type": "execute_result"
    }
   ],
   "source": [
    "s.find(\"mun\")"
   ]
  },
  {
   "cell_type": "code",
   "execution_count": 48,
   "id": "5b9c6cee",
   "metadata": {},
   "outputs": [
    {
     "data": {
      "text/plain": [
       "-1"
      ]
     },
     "execution_count": 48,
     "metadata": {},
     "output_type": "execute_result"
    }
   ],
   "source": [
    "s.find(\"ok\")"
   ]
  },
  {
   "cell_type": "code",
   "execution_count": 49,
   "id": "4f129c40",
   "metadata": {},
   "outputs": [],
   "source": [
    "s = \"Um dia de sol\""
   ]
  },
  {
   "cell_type": "code",
   "execution_count": 50,
   "id": "ab3ef534",
   "metadata": {},
   "outputs": [
    {
     "data": {
      "text/plain": [
       "7"
      ]
     },
     "execution_count": 50,
     "metadata": {},
     "output_type": "execute_result"
    }
   ],
   "source": [
    "s.rfind(\"d\")"
   ]
  },
  {
   "cell_type": "code",
   "execution_count": 51,
   "id": "cb4618e5",
   "metadata": {},
   "outputs": [
    {
     "data": {
      "text/plain": [
       "3"
      ]
     },
     "execution_count": 51,
     "metadata": {},
     "output_type": "execute_result"
    }
   ],
   "source": [
    "s.find('d')"
   ]
  },
  {
   "cell_type": "code",
   "execution_count": 52,
   "id": "f7026ddd",
   "metadata": {},
   "outputs": [],
   "source": [
    "s = \"um tigre, dois tigres, três tigres\""
   ]
  },
  {
   "cell_type": "code",
   "execution_count": 53,
   "id": "911321c7",
   "metadata": {},
   "outputs": [
    {
     "data": {
      "text/plain": [
       "15"
      ]
     },
     "execution_count": 53,
     "metadata": {},
     "output_type": "execute_result"
    }
   ],
   "source": [
    "s.find(\"tigres\")"
   ]
  },
  {
   "cell_type": "code",
   "execution_count": 54,
   "id": "5b501e17",
   "metadata": {},
   "outputs": [
    {
     "data": {
      "text/plain": [
       "28"
      ]
     },
     "execution_count": 54,
     "metadata": {},
     "output_type": "execute_result"
    }
   ],
   "source": [
    "s.rfind(\"tigres\")"
   ]
  },
  {
   "cell_type": "code",
   "execution_count": 55,
   "id": "bd59b771",
   "metadata": {},
   "outputs": [
    {
     "data": {
      "text/plain": [
       "15"
      ]
     },
     "execution_count": 55,
     "metadata": {},
     "output_type": "execute_result"
    }
   ],
   "source": [
    "s.find(\"tigres\",7)"
   ]
  },
  {
   "cell_type": "code",
   "execution_count": 56,
   "id": "7d3aa5c9",
   "metadata": {},
   "outputs": [
    {
     "data": {
      "text/plain": [
       "-1"
      ]
     },
     "execution_count": 56,
     "metadata": {},
     "output_type": "execute_result"
    }
   ],
   "source": [
    "s.find('tigres',30)"
   ]
  },
  {
   "cell_type": "code",
   "execution_count": 57,
   "id": "a139177f",
   "metadata": {},
   "outputs": [
    {
     "data": {
      "text/plain": [
       "-1"
      ]
     },
     "execution_count": 57,
     "metadata": {},
     "output_type": "execute_result"
    }
   ],
   "source": [
    "s.find('tigres',0,10)"
   ]
  },
  {
   "cell_type": "code",
   "execution_count": 2,
   "id": "310c49c6",
   "metadata": {},
   "outputs": [
    {
     "name": "stdout",
     "output_type": "stream",
     "text": [
      "Posição: 3\n",
      "Posição: 15\n",
      "Posição: 28\n"
     ]
    }
   ],
   "source": [
    "s=\"um tigre, dois tigres, três tigres\"\n",
    "p=0\n",
    "while(p>-1):\n",
    "    p=s.find(\"tigre\",p)\n",
    "    if p>=0:\n",
    "        print(\"Posição: %d\" % p)\n",
    "        p+=1\n",
    "    if p>len(s):\n",
    "        break"
   ]
  },
  {
   "cell_type": "code",
   "execution_count": 1,
   "id": "28aa234c",
   "metadata": {},
   "outputs": [],
   "source": [
    "s=\"tigre\""
   ]
  },
  {
   "cell_type": "code",
   "execution_count": 2,
   "id": "483d8502",
   "metadata": {},
   "outputs": [
    {
     "name": "stdout",
     "output_type": "stream",
     "text": [
      "X  tigre   X\n"
     ]
    }
   ],
   "source": [
    "print(\"X\"+s.center(10)+\"X\")"
   ]
  },
  {
   "cell_type": "code",
   "execution_count": 3,
   "id": "293d532c",
   "metadata": {},
   "outputs": [
    {
     "name": "stdout",
     "output_type": "stream",
     "text": [
      "X..tigre...X\n"
     ]
    }
   ],
   "source": [
    "print(\"X\"+s.center(10, \".\")+\"X\")"
   ]
  },
  {
   "cell_type": "code",
   "execution_count": 4,
   "id": "7091a1cc",
   "metadata": {},
   "outputs": [],
   "source": [
    "s = \"tigre\""
   ]
  },
  {
   "cell_type": "code",
   "execution_count": 5,
   "id": "77c5c96a",
   "metadata": {},
   "outputs": [
    {
     "data": {
      "text/plain": [
       "'tigre               '"
      ]
     },
     "execution_count": 5,
     "metadata": {},
     "output_type": "execute_result"
    }
   ],
   "source": [
    "s.ljust(20)"
   ]
  },
  {
   "cell_type": "code",
   "execution_count": 6,
   "id": "74748636",
   "metadata": {},
   "outputs": [
    {
     "data": {
      "text/plain": [
       "'               tigre'"
      ]
     },
     "execution_count": 6,
     "metadata": {},
     "output_type": "execute_result"
    }
   ],
   "source": [
    "s.rjust(20)"
   ]
  },
  {
   "cell_type": "code",
   "execution_count": 7,
   "id": "8ffe6552",
   "metadata": {},
   "outputs": [
    {
     "data": {
      "text/plain": [
       "'tigre...............'"
      ]
     },
     "execution_count": 7,
     "metadata": {},
     "output_type": "execute_result"
    }
   ],
   "source": [
    "s.ljust(20,'.')"
   ]
  },
  {
   "cell_type": "code",
   "execution_count": 8,
   "id": "f8eb26af",
   "metadata": {},
   "outputs": [
    {
     "data": {
      "text/plain": [
       "'---------------tigre'"
      ]
     },
     "execution_count": 8,
     "metadata": {},
     "output_type": "execute_result"
    }
   ],
   "source": [
    "s.rjust(20,'-')"
   ]
  },
  {
   "cell_type": "code",
   "execution_count": 9,
   "id": "af454e41",
   "metadata": {},
   "outputs": [],
   "source": [
    "s=\"um tigre, dois tigres, três tigres\""
   ]
  },
  {
   "cell_type": "code",
   "execution_count": 10,
   "id": "4b2da63e",
   "metadata": {},
   "outputs": [
    {
     "data": {
      "text/plain": [
       "['um tigre', ' dois tigres', ' três tigres']"
      ]
     },
     "execution_count": 10,
     "metadata": {},
     "output_type": "execute_result"
    }
   ],
   "source": [
    "s.split(',')"
   ]
  },
  {
   "cell_type": "code",
   "execution_count": 11,
   "id": "ed58e3de",
   "metadata": {},
   "outputs": [
    {
     "data": {
      "text/plain": [
       "['um', 'tigre,', 'dois', 'tigres,', 'três', 'tigres']"
      ]
     },
     "execution_count": 11,
     "metadata": {},
     "output_type": "execute_result"
    }
   ],
   "source": [
    "s.split(\" \")"
   ]
  },
  {
   "cell_type": "code",
   "execution_count": 12,
   "id": "327c25fe",
   "metadata": {},
   "outputs": [
    {
     "data": {
      "text/plain": [
       "['um', 'tigre,', 'dois', 'tigres,', 'três', 'tigres']"
      ]
     },
     "execution_count": 12,
     "metadata": {},
     "output_type": "execute_result"
    }
   ],
   "source": [
    "s.split()"
   ]
  },
  {
   "cell_type": "code",
   "execution_count": 13,
   "id": "8f6729b0",
   "metadata": {},
   "outputs": [],
   "source": [
    "m=\"Uma linha\\noutra linha\\ne mais uma\\n\""
   ]
  },
  {
   "cell_type": "code",
   "execution_count": 14,
   "id": "8c5d1068",
   "metadata": {},
   "outputs": [
    {
     "data": {
      "text/plain": [
       "['Uma linha', 'outra linha', 'e mais uma']"
      ]
     },
     "execution_count": 14,
     "metadata": {},
     "output_type": "execute_result"
    }
   ],
   "source": [
    "m.splitlines()"
   ]
  },
  {
   "cell_type": "code",
   "execution_count": 15,
   "id": "50738db9",
   "metadata": {},
   "outputs": [
    {
     "data": {
      "text/plain": [
       "'um gato, dois gatos, três gatos'"
      ]
     },
     "execution_count": 15,
     "metadata": {},
     "output_type": "execute_result"
    }
   ],
   "source": [
    "s.replace(\"tigre\", \"gato\")"
   ]
  },
  {
   "cell_type": "code",
   "execution_count": 17,
   "id": "65cdd713",
   "metadata": {},
   "outputs": [
    {
     "data": {
      "text/plain": [
       "'um gato, dois tigres, três tigres'"
      ]
     },
     "execution_count": 17,
     "metadata": {},
     "output_type": "execute_result"
    }
   ],
   "source": [
    "s.replace(\"tigre\", \"gato\", 1)"
   ]
  },
  {
   "cell_type": "code",
   "execution_count": 18,
   "id": "cd0f025a",
   "metadata": {},
   "outputs": [
    {
     "data": {
      "text/plain": [
       "'um gato, dois gatos, três tigres'"
      ]
     },
     "execution_count": 18,
     "metadata": {},
     "output_type": "execute_result"
    }
   ],
   "source": [
    "s.replace(\"tigre\", \"gato\", 2)"
   ]
  },
  {
   "cell_type": "code",
   "execution_count": 20,
   "id": "aa43e09d",
   "metadata": {},
   "outputs": [
    {
     "data": {
      "text/plain": [
       "'um , dois s, três s'"
      ]
     },
     "execution_count": 20,
     "metadata": {},
     "output_type": "execute_result"
    }
   ],
   "source": [
    "s.replace(\"tigre\", \"\")"
   ]
  },
  {
   "cell_type": "code",
   "execution_count": 21,
   "id": "0343f11c",
   "metadata": {},
   "outputs": [
    {
     "data": {
      "text/plain": [
       "'-u-m- -t-i-g-r-e-,- -d-o-i-s- -t-i-g-r-e-s-,- -t-r-ê-s- -t-i-g-r-e-s-'"
      ]
     },
     "execution_count": 21,
     "metadata": {},
     "output_type": "execute_result"
    }
   ],
   "source": [
    "s.replace(\"\",\"-\")"
   ]
  },
  {
   "cell_type": "code",
   "execution_count": 22,
   "id": "30ca638c",
   "metadata": {},
   "outputs": [],
   "source": [
    "t = \"    Olá   \""
   ]
  },
  {
   "cell_type": "code",
   "execution_count": 23,
   "id": "da6da524",
   "metadata": {},
   "outputs": [
    {
     "data": {
      "text/plain": [
       "'Olá'"
      ]
     },
     "execution_count": 23,
     "metadata": {},
     "output_type": "execute_result"
    }
   ],
   "source": [
    "t.strip()"
   ]
  },
  {
   "cell_type": "code",
   "execution_count": 24,
   "id": "5192e920",
   "metadata": {},
   "outputs": [
    {
     "data": {
      "text/plain": [
       "'Olá   '"
      ]
     },
     "execution_count": 24,
     "metadata": {},
     "output_type": "execute_result"
    }
   ],
   "source": [
    "t.lstrip()"
   ]
  },
  {
   "cell_type": "code",
   "execution_count": 25,
   "id": "4cf7c813",
   "metadata": {},
   "outputs": [
    {
     "data": {
      "text/plain": [
       "'    Olá'"
      ]
     },
     "execution_count": 25,
     "metadata": {},
     "output_type": "execute_result"
    }
   ],
   "source": [
    "t.rstrip()"
   ]
  },
  {
   "cell_type": "code",
   "execution_count": 26,
   "id": "12dd8642",
   "metadata": {},
   "outputs": [],
   "source": [
    "s=\"...///Olá///...\""
   ]
  },
  {
   "cell_type": "code",
   "execution_count": 27,
   "id": "aef0aac0",
   "metadata": {},
   "outputs": [
    {
     "data": {
      "text/plain": [
       "'///Olá///...'"
      ]
     },
     "execution_count": 27,
     "metadata": {},
     "output_type": "execute_result"
    }
   ],
   "source": [
    "s.lstrip(\".\")"
   ]
  },
  {
   "cell_type": "code",
   "execution_count": 28,
   "id": "9dcb7047",
   "metadata": {},
   "outputs": [
    {
     "data": {
      "text/plain": [
       "'...///Olá///'"
      ]
     },
     "execution_count": 28,
     "metadata": {},
     "output_type": "execute_result"
    }
   ],
   "source": [
    "s.rstrip(\".\")"
   ]
  },
  {
   "cell_type": "code",
   "execution_count": 29,
   "id": "abbf6dc5",
   "metadata": {},
   "outputs": [
    {
     "data": {
      "text/plain": [
       "'///Olá///'"
      ]
     },
     "execution_count": 29,
     "metadata": {},
     "output_type": "execute_result"
    }
   ],
   "source": [
    "s.strip(\".\")"
   ]
  },
  {
   "cell_type": "code",
   "execution_count": 30,
   "id": "e49faea6",
   "metadata": {},
   "outputs": [
    {
     "data": {
      "text/plain": [
       "'Olá'"
      ]
     },
     "execution_count": 30,
     "metadata": {},
     "output_type": "execute_result"
    }
   ],
   "source": [
    "s.strip(\"./\")"
   ]
  },
  {
   "cell_type": "code",
   "execution_count": 31,
   "id": "eeec956e",
   "metadata": {},
   "outputs": [],
   "source": [
    "s=\"125\""
   ]
  },
  {
   "cell_type": "code",
   "execution_count": 32,
   "id": "9116e9de",
   "metadata": {},
   "outputs": [],
   "source": [
    "p=\"alô mundo\""
   ]
  },
  {
   "cell_type": "code",
   "execution_count": 33,
   "id": "479651a9",
   "metadata": {},
   "outputs": [
    {
     "data": {
      "text/plain": [
       "True"
      ]
     },
     "execution_count": 33,
     "metadata": {},
     "output_type": "execute_result"
    }
   ],
   "source": [
    "s.isalnum()"
   ]
  },
  {
   "cell_type": "code",
   "execution_count": 34,
   "id": "6e627f80",
   "metadata": {},
   "outputs": [
    {
     "data": {
      "text/plain": [
       "False"
      ]
     },
     "execution_count": 34,
     "metadata": {},
     "output_type": "execute_result"
    }
   ],
   "source": [
    "p.isalnum()"
   ]
  },
  {
   "cell_type": "code",
   "execution_count": 35,
   "id": "d1c5af71",
   "metadata": {},
   "outputs": [
    {
     "data": {
      "text/plain": [
       "False"
      ]
     },
     "execution_count": 35,
     "metadata": {},
     "output_type": "execute_result"
    }
   ],
   "source": [
    "p.isalpha()"
   ]
  },
  {
   "cell_type": "code",
   "execution_count": 36,
   "id": "1aac3fe2",
   "metadata": {},
   "outputs": [
    {
     "data": {
      "text/plain": [
       "False"
      ]
     },
     "execution_count": 36,
     "metadata": {},
     "output_type": "execute_result"
    }
   ],
   "source": [
    "s.isalpha()"
   ]
  },
  {
   "cell_type": "code",
   "execution_count": 37,
   "id": "c10156f4",
   "metadata": {},
   "outputs": [
    {
     "data": {
      "text/plain": [
       "True"
      ]
     },
     "execution_count": 37,
     "metadata": {},
     "output_type": "execute_result"
    }
   ],
   "source": [
    "s.isdigit()"
   ]
  },
  {
   "cell_type": "code",
   "execution_count": 38,
   "id": "4e8d7ded",
   "metadata": {},
   "outputs": [
    {
     "data": {
      "text/plain": [
       "False"
      ]
     },
     "execution_count": 38,
     "metadata": {},
     "output_type": "execute_result"
    }
   ],
   "source": [
    "p.isdigit()"
   ]
  },
  {
   "cell_type": "code",
   "execution_count": 39,
   "id": "416febaa",
   "metadata": {},
   "outputs": [
    {
     "data": {
      "text/plain": [
       "True"
      ]
     },
     "execution_count": 39,
     "metadata": {},
     "output_type": "execute_result"
    }
   ],
   "source": [
    "\"771\".isdigit()"
   ]
  },
  {
   "cell_type": "code",
   "execution_count": 40,
   "id": "76a90485",
   "metadata": {},
   "outputs": [
    {
     "data": {
      "text/plain": [
       "False"
      ]
     },
     "execution_count": 40,
     "metadata": {},
     "output_type": "execute_result"
    }
   ],
   "source": [
    "\"10.4\".isdigit()"
   ]
  },
  {
   "cell_type": "code",
   "execution_count": 41,
   "id": "834487e2",
   "metadata": {},
   "outputs": [
    {
     "data": {
      "text/plain": [
       "False"
      ]
     },
     "execution_count": 41,
     "metadata": {},
     "output_type": "execute_result"
    }
   ],
   "source": [
    "\"+10\".isdigit()"
   ]
  },
  {
   "cell_type": "code",
   "execution_count": 42,
   "id": "41e79c91",
   "metadata": {},
   "outputs": [
    {
     "data": {
      "text/plain": [
       "False"
      ]
     },
     "execution_count": 42,
     "metadata": {},
     "output_type": "execute_result"
    }
   ],
   "source": [
    "\"-5\".isdigit()"
   ]
  },
  {
   "cell_type": "code",
   "execution_count": 43,
   "id": "843279ea",
   "metadata": {},
   "outputs": [],
   "source": [
    "umterço=\"\\u2153\""
   ]
  },
  {
   "cell_type": "code",
   "execution_count": 44,
   "id": "032a2ba1",
   "metadata": {},
   "outputs": [],
   "source": [
    "novetibetano='\\u0f29'"
   ]
  },
  {
   "cell_type": "code",
   "execution_count": 45,
   "id": "914d9968",
   "metadata": {},
   "outputs": [
    {
     "data": {
      "text/plain": [
       "False"
      ]
     },
     "execution_count": 45,
     "metadata": {},
     "output_type": "execute_result"
    }
   ],
   "source": [
    "umterço.isdigit()"
   ]
  },
  {
   "cell_type": "code",
   "execution_count": 46,
   "id": "0bc1089c",
   "metadata": {},
   "outputs": [
    {
     "data": {
      "text/plain": [
       "True"
      ]
     },
     "execution_count": 46,
     "metadata": {},
     "output_type": "execute_result"
    }
   ],
   "source": [
    "umterço.isnumeric()"
   ]
  },
  {
   "cell_type": "code",
   "execution_count": 47,
   "id": "8b26dfd8",
   "metadata": {},
   "outputs": [
    {
     "data": {
      "text/plain": [
       "True"
      ]
     },
     "execution_count": 47,
     "metadata": {},
     "output_type": "execute_result"
    }
   ],
   "source": [
    "novetibetano.isdigit()"
   ]
  },
  {
   "cell_type": "code",
   "execution_count": 48,
   "id": "81c7fc2f",
   "metadata": {},
   "outputs": [
    {
     "data": {
      "text/plain": [
       "True"
      ]
     },
     "execution_count": 48,
     "metadata": {},
     "output_type": "execute_result"
    }
   ],
   "source": [
    "novetibetano.isnumeric()"
   ]
  },
  {
   "cell_type": "code",
   "execution_count": 49,
   "id": "51617791",
   "metadata": {},
   "outputs": [],
   "source": [
    "s=\"ABC\""
   ]
  },
  {
   "cell_type": "code",
   "execution_count": 50,
   "id": "439d7f83",
   "metadata": {},
   "outputs": [],
   "source": [
    "p=\"abc\""
   ]
  },
  {
   "cell_type": "code",
   "execution_count": 51,
   "id": "c18db134",
   "metadata": {},
   "outputs": [],
   "source": [
    "e=\"aBc\""
   ]
  },
  {
   "cell_type": "code",
   "execution_count": 52,
   "id": "fbf540cb",
   "metadata": {},
   "outputs": [
    {
     "data": {
      "text/plain": [
       "True"
      ]
     },
     "execution_count": 52,
     "metadata": {},
     "output_type": "execute_result"
    }
   ],
   "source": [
    "s.isupper()"
   ]
  },
  {
   "cell_type": "code",
   "execution_count": 53,
   "id": "1dac67d6",
   "metadata": {},
   "outputs": [
    {
     "data": {
      "text/plain": [
       "False"
      ]
     },
     "execution_count": 53,
     "metadata": {},
     "output_type": "execute_result"
    }
   ],
   "source": [
    "s.islower()"
   ]
  },
  {
   "cell_type": "code",
   "execution_count": 54,
   "id": "00f60770",
   "metadata": {},
   "outputs": [
    {
     "data": {
      "text/plain": [
       "False"
      ]
     },
     "execution_count": 54,
     "metadata": {},
     "output_type": "execute_result"
    }
   ],
   "source": [
    "p.isupper()"
   ]
  },
  {
   "cell_type": "code",
   "execution_count": 55,
   "id": "7f7a5e02",
   "metadata": {},
   "outputs": [
    {
     "data": {
      "text/plain": [
       "True"
      ]
     },
     "execution_count": 55,
     "metadata": {},
     "output_type": "execute_result"
    }
   ],
   "source": [
    "p.islower()"
   ]
  },
  {
   "cell_type": "code",
   "execution_count": 56,
   "id": "279f84ee",
   "metadata": {},
   "outputs": [
    {
     "data": {
      "text/plain": [
       "False"
      ]
     },
     "execution_count": 56,
     "metadata": {},
     "output_type": "execute_result"
    }
   ],
   "source": [
    "e.isupper()"
   ]
  },
  {
   "cell_type": "code",
   "execution_count": 57,
   "id": "cabe2f24",
   "metadata": {},
   "outputs": [
    {
     "data": {
      "text/plain": [
       "False"
      ]
     },
     "execution_count": 57,
     "metadata": {},
     "output_type": "execute_result"
    }
   ],
   "source": [
    "e.islower()"
   ]
  },
  {
   "cell_type": "code",
   "execution_count": 58,
   "id": "60042c30",
   "metadata": {},
   "outputs": [
    {
     "data": {
      "text/plain": [
       "True"
      ]
     },
     "execution_count": 58,
     "metadata": {},
     "output_type": "execute_result"
    }
   ],
   "source": [
    "\"\\t\\n\\r     \".isspace()"
   ]
  },
  {
   "cell_type": "code",
   "execution_count": 59,
   "id": "33be63fc",
   "metadata": {},
   "outputs": [
    {
     "data": {
      "text/plain": [
       "False"
      ]
     },
     "execution_count": 59,
     "metadata": {},
     "output_type": "execute_result"
    }
   ],
   "source": [
    "\"\\tAlô\".isspace()"
   ]
  },
  {
   "cell_type": "code",
   "execution_count": 60,
   "id": "0c6a54d0",
   "metadata": {},
   "outputs": [
    {
     "data": {
      "text/plain": [
       "False"
      ]
     },
     "execution_count": 60,
     "metadata": {},
     "output_type": "execute_result"
    }
   ],
   "source": [
    "\"\\n\\t\".isprintable()"
   ]
  },
  {
   "cell_type": "code",
   "execution_count": 61,
   "id": "d6a33bda",
   "metadata": {},
   "outputs": [
    {
     "data": {
      "text/plain": [
       "False"
      ]
     },
     "execution_count": 61,
     "metadata": {},
     "output_type": "execute_result"
    }
   ],
   "source": [
    "\"\\nAlô\".isprintable()"
   ]
  },
  {
   "cell_type": "code",
   "execution_count": 62,
   "id": "bff03c6b",
   "metadata": {},
   "outputs": [
    {
     "data": {
      "text/plain": [
       "True"
      ]
     },
     "execution_count": 62,
     "metadata": {},
     "output_type": "execute_result"
    }
   ],
   "source": [
    "\"Alô mundo\".isprintable()"
   ]
  },
  {
   "cell_type": "code",
   "execution_count": 63,
   "id": "488b40d3",
   "metadata": {},
   "outputs": [
    {
     "data": {
      "text/plain": [
       "'Alô Mundo'"
      ]
     },
     "execution_count": 63,
     "metadata": {},
     "output_type": "execute_result"
    }
   ],
   "source": [
    "'{0} {1}'.format('Alô', 'Mundo')"
   ]
  },
  {
   "cell_type": "code",
   "execution_count": 64,
   "id": "46dd1182",
   "metadata": {},
   "outputs": [
    {
     "data": {
      "text/plain": [
       "'5 x maçã R$1.20'"
      ]
     },
     "execution_count": 64,
     "metadata": {},
     "output_type": "execute_result"
    }
   ],
   "source": [
    "'{0} x {1} R${2}'.format(5, \"maçã\", \"1.20\")"
   ]
  },
  {
   "cell_type": "code",
   "execution_count": 65,
   "id": "da7eef34",
   "metadata": {},
   "outputs": [
    {
     "data": {
      "text/plain": [
       "'- x -'"
      ]
     },
     "execution_count": 65,
     "metadata": {},
     "output_type": "execute_result"
    }
   ],
   "source": [
    "'{0} {1} {0}'.format('-','x')"
   ]
  },
  {
   "cell_type": "code",
   "execution_count": 66,
   "id": "d1960a66",
   "metadata": {},
   "outputs": [
    {
     "data": {
      "text/plain": [
       "'segundo primeiro'"
      ]
     },
     "execution_count": 66,
     "metadata": {},
     "output_type": "execute_result"
    }
   ],
   "source": [
    "'{1} {0}'.format('primeiro', 'segundo')"
   ]
  },
  {
   "cell_type": "code",
   "execution_count": 67,
   "id": "acd0da8e",
   "metadata": {},
   "outputs": [
    {
     "data": {
      "text/plain": [
       "'b a'"
      ]
     },
     "execution_count": 67,
     "metadata": {},
     "output_type": "execute_result"
    }
   ],
   "source": [
    "'{1} {0}'.format('a', 'b')"
   ]
  },
  {
   "cell_type": "code",
   "execution_count": 68,
   "id": "65edcbea",
   "metadata": {},
   "outputs": [
    {
     "data": {
      "text/plain": [
       "'a c b'"
      ]
     },
     "execution_count": 68,
     "metadata": {},
     "output_type": "execute_result"
    }
   ],
   "source": [
    "'{0} {2} {1}'.format('a', 'b', 'c')"
   ]
  },
  {
   "cell_type": "code",
   "execution_count": 69,
   "id": "7a36a6e6",
   "metadata": {},
   "outputs": [
    {
     "data": {
      "text/plain": [
       "'123        456'"
      ]
     },
     "execution_count": 69,
     "metadata": {},
     "output_type": "execute_result"
    }
   ],
   "source": [
    "\"{0:10} {1}\".format(\"123\",\"456\")"
   ]
  },
  {
   "cell_type": "code",
   "execution_count": 72,
   "id": "7c4723fd",
   "metadata": {},
   "outputs": [
    {
     "data": {
      "text/plain": [
       "'X123       X'"
      ]
     },
     "execution_count": 72,
     "metadata": {},
     "output_type": "execute_result"
    }
   ],
   "source": [
    "\"X{0:10}X\".format(\"123\")"
   ]
  },
  {
   "cell_type": "code",
   "execution_count": 74,
   "id": "00f2d84b",
   "metadata": {},
   "outputs": [
    {
     "data": {
      "text/plain": [
       "'X123456789012345X'"
      ]
     },
     "execution_count": 74,
     "metadata": {},
     "output_type": "execute_result"
    }
   ],
   "source": [
    "\"X{0:10}X\".format(\"123456789012345\")"
   ]
  },
  {
   "cell_type": "code",
   "execution_count": 78,
   "id": "1a19308d",
   "metadata": {},
   "outputs": [
    {
     "data": {
      "text/plain": [
       "'X123       X'"
      ]
     },
     "execution_count": 78,
     "metadata": {},
     "output_type": "execute_result"
    }
   ],
   "source": [
    "\"X{0:<10}X\".format('123')"
   ]
  },
  {
   "cell_type": "code",
   "execution_count": 79,
   "id": "fc7a049a",
   "metadata": {},
   "outputs": [
    {
     "data": {
      "text/plain": [
       "'X       123X'"
      ]
     },
     "execution_count": 79,
     "metadata": {},
     "output_type": "execute_result"
    }
   ],
   "source": [
    "'X{0:>10}X'.format('123')"
   ]
  },
  {
   "cell_type": "code",
   "execution_count": 80,
   "id": "f0d975ba",
   "metadata": {},
   "outputs": [
    {
     "data": {
      "text/plain": [
       "'X   123    X'"
      ]
     },
     "execution_count": 80,
     "metadata": {},
     "output_type": "execute_result"
    }
   ],
   "source": [
    "'X{0:^10}X'.format('123')"
   ]
  },
  {
   "cell_type": "code",
   "execution_count": 81,
   "id": "f91e48df",
   "metadata": {},
   "outputs": [
    {
     "data": {
      "text/plain": [
       "'X123.......X'"
      ]
     },
     "execution_count": 81,
     "metadata": {},
     "output_type": "execute_result"
    }
   ],
   "source": [
    "'X{0:.<10}X'.format('123')"
   ]
  },
  {
   "cell_type": "code",
   "execution_count": 82,
   "id": "404417c7",
   "metadata": {},
   "outputs": [
    {
     "data": {
      "text/plain": [
       "'X!!!!!!!123X'"
      ]
     },
     "execution_count": 82,
     "metadata": {},
     "output_type": "execute_result"
    }
   ],
   "source": [
    "\"X{0:!>10}X\".format(\"123\")"
   ]
  },
  {
   "cell_type": "code",
   "execution_count": 83,
   "id": "a004ebd1",
   "metadata": {},
   "outputs": [
    {
     "data": {
      "text/plain": [
       "'X***123****X'"
      ]
     },
     "execution_count": 83,
     "metadata": {},
     "output_type": "execute_result"
    }
   ],
   "source": [
    "\"X{0:*^10}X\".format(\"123\")"
   ]
  },
  {
   "cell_type": "code",
   "execution_count": 89,
   "id": "9307055d",
   "metadata": {},
   "outputs": [
    {
     "data": {
      "text/plain": [
       "'123 456'"
      ]
     },
     "execution_count": 89,
     "metadata": {},
     "output_type": "execute_result"
    }
   ],
   "source": [
    "\"{0[0]} {0[1]}\".format([\"123\", \"456\"])"
   ]
  },
  {
   "cell_type": "code",
   "execution_count": 90,
   "id": "d269a438",
   "metadata": {},
   "outputs": [
    {
     "data": {
      "text/plain": [
       "'Maria 572'"
      ]
     },
     "execution_count": 90,
     "metadata": {},
     "output_type": "execute_result"
    }
   ],
   "source": [
    "'{0[nome]} {0[telefone]}'.format({'telefone':572,'nome':'Maria'})"
   ]
  },
  {
   "cell_type": "code",
   "execution_count": 91,
   "id": "f7ac3450",
   "metadata": {},
   "outputs": [
    {
     "data": {
      "text/plain": [
       "'00005'"
      ]
     },
     "execution_count": 91,
     "metadata": {},
     "output_type": "execute_result"
    }
   ],
   "source": [
    "\"{0:05}\".format(5)"
   ]
  },
  {
   "cell_type": "code",
   "execution_count": 92,
   "id": "6d75f29a",
   "metadata": {},
   "outputs": [
    {
     "data": {
      "text/plain": [
       "'*****32'"
      ]
     },
     "execution_count": 92,
     "metadata": {},
     "output_type": "execute_result"
    }
   ],
   "source": [
    "\"{0:*=7}\".format(32)"
   ]
  },
  {
   "cell_type": "code",
   "execution_count": 94,
   "id": "f25817f3",
   "metadata": {},
   "outputs": [
    {
     "data": {
      "text/plain": [
       "'***123****'"
      ]
     },
     "execution_count": 94,
     "metadata": {},
     "output_type": "execute_result"
    }
   ],
   "source": [
    "\"{0:*^10}\".format(123)"
   ]
  },
  {
   "cell_type": "code",
   "execution_count": 95,
   "id": "dcc83928",
   "metadata": {},
   "outputs": [
    {
     "data": {
      "text/plain": [
       "'123*******'"
      ]
     },
     "execution_count": 95,
     "metadata": {},
     "output_type": "execute_result"
    }
   ],
   "source": [
    "\"{0:*<10}\".format(123)"
   ]
  },
  {
   "cell_type": "code",
   "execution_count": 96,
   "id": "043bd1c5",
   "metadata": {},
   "outputs": [
    {
     "data": {
      "text/plain": [
       "'*******123'"
      ]
     },
     "execution_count": 96,
     "metadata": {},
     "output_type": "execute_result"
    }
   ],
   "source": [
    "\"{0:*>10}\".format(123)"
   ]
  },
  {
   "cell_type": "code",
   "execution_count": 99,
   "id": "7f8de593",
   "metadata": {},
   "outputs": [
    {
     "data": {
      "text/plain": [
       "'     7,532'"
      ]
     },
     "execution_count": 99,
     "metadata": {},
     "output_type": "execute_result"
    }
   ],
   "source": [
    "\"{0:10,}\".format(7532)"
   ]
  },
  {
   "cell_type": "code",
   "execution_count": 100,
   "id": "04c02286",
   "metadata": {},
   "outputs": [
    {
     "data": {
      "text/plain": [
       "'1500.31000'"
      ]
     },
     "execution_count": 100,
     "metadata": {},
     "output_type": "execute_result"
    }
   ],
   "source": [
    "\"{0:10.5f}\".format(1500.31)"
   ]
  },
  {
   "cell_type": "code",
   "execution_count": 101,
   "id": "8be096cd",
   "metadata": {},
   "outputs": [
    {
     "data": {
      "text/plain": [
       "'1500.31000'"
      ]
     },
     "execution_count": 101,
     "metadata": {},
     "output_type": "execute_result"
    }
   ],
   "source": [
    "\"{0:10.5f}\".format(1500.31)"
   ]
  },
  {
   "cell_type": "code",
   "execution_count": 102,
   "id": "c6b993e2",
   "metadata": {},
   "outputs": [
    {
     "data": {
      "text/plain": [
       "'1,500.31000'"
      ]
     },
     "execution_count": 102,
     "metadata": {},
     "output_type": "execute_result"
    }
   ],
   "source": [
    "\"{0:10,.5f}\".format(1500.31)"
   ]
  },
  {
   "cell_type": "code",
   "execution_count": 103,
   "id": "ec2ea275",
   "metadata": {},
   "outputs": [
    {
     "data": {
      "text/plain": [
       "'     7,532'"
      ]
     },
     "execution_count": 103,
     "metadata": {},
     "output_type": "execute_result"
    }
   ],
   "source": [
    "\"{0:10,}\".format(7532)"
   ]
  },
  {
   "cell_type": "code",
   "execution_count": 104,
   "id": "6497e114",
   "metadata": {},
   "outputs": [
    {
     "data": {
      "text/plain": [
       "'1500.31000'"
      ]
     },
     "execution_count": 104,
     "metadata": {},
     "output_type": "execute_result"
    }
   ],
   "source": [
    "\"{0:10.5f}\".format(1500.31)"
   ]
  },
  {
   "cell_type": "code",
   "execution_count": 105,
   "id": "54d89eed",
   "metadata": {},
   "outputs": [
    {
     "data": {
      "text/plain": [
       "'1,500.31000'"
      ]
     },
     "execution_count": 105,
     "metadata": {},
     "output_type": "execute_result"
    }
   ],
   "source": [
    "\"{0:10,.5f}\".format(1500.31)"
   ]
  },
  {
   "cell_type": "code",
   "execution_count": 106,
   "id": "8a4c4c3d",
   "metadata": {},
   "outputs": [
    {
     "data": {
      "text/plain": [
       "'        +5         -6'"
      ]
     },
     "execution_count": 106,
     "metadata": {},
     "output_type": "execute_result"
    }
   ],
   "source": [
    "\"{0:+10} {1:-10}\".format(5,-6)"
   ]
  },
  {
   "cell_type": "code",
   "execution_count": 107,
   "id": "5bb701a7",
   "metadata": {},
   "outputs": [
    {
     "data": {
      "text/plain": [
       "'         5         -6'"
      ]
     },
     "execution_count": 107,
     "metadata": {},
     "output_type": "execute_result"
    }
   ],
   "source": [
    "\"{0:-10} {1: 10}\".format(5,-6)"
   ]
  },
  {
   "cell_type": "code",
   "execution_count": 108,
   "id": "81fe8b66",
   "metadata": {},
   "outputs": [
    {
     "data": {
      "text/plain": [
       "'         5         -6'"
      ]
     },
     "execution_count": 108,
     "metadata": {},
     "output_type": "execute_result"
    }
   ],
   "source": [
    "\"{0: 10} {1:+10}\".format(5,-6)"
   ]
  },
  {
   "cell_type": "code",
   "execution_count": 109,
   "id": "0fc486b1",
   "metadata": {},
   "outputs": [
    {
     "data": {
      "text/plain": [
       "'1011000101110'"
      ]
     },
     "execution_count": 109,
     "metadata": {},
     "output_type": "execute_result"
    }
   ],
   "source": [
    "\"{:b}\".format(5678)"
   ]
  },
  {
   "cell_type": "code",
   "execution_count": 110,
   "id": "5f878da2",
   "metadata": {},
   "outputs": [
    {
     "data": {
      "text/plain": [
       "'A'"
      ]
     },
     "execution_count": 110,
     "metadata": {},
     "output_type": "execute_result"
    }
   ],
   "source": [
    "\"{:c}\".format(65)"
   ]
  },
  {
   "cell_type": "code",
   "execution_count": 111,
   "id": "90b18f42",
   "metadata": {},
   "outputs": [
    {
     "data": {
      "text/plain": [
       "'65'"
      ]
     },
     "execution_count": 111,
     "metadata": {},
     "output_type": "execute_result"
    }
   ],
   "source": [
    "\"{:d}\".format(65)"
   ]
  },
  {
   "cell_type": "code",
   "execution_count": 112,
   "id": "3dc67a55",
   "metadata": {},
   "outputs": [
    {
     "data": {
      "text/plain": [
       "'13056'"
      ]
     },
     "execution_count": 112,
     "metadata": {},
     "output_type": "execute_result"
    }
   ],
   "source": [
    "\"{:o}\".format(5678)"
   ]
  },
  {
   "cell_type": "code",
   "execution_count": 114,
   "id": "395e7d36",
   "metadata": {},
   "outputs": [
    {
     "data": {
      "text/plain": [
       "'162e'"
      ]
     },
     "execution_count": 114,
     "metadata": {},
     "output_type": "execute_result"
    }
   ],
   "source": [
    "\"{:x}\".format(5678)"
   ]
  },
  {
   "cell_type": "code",
   "execution_count": 115,
   "id": "b9afd871",
   "metadata": {},
   "outputs": [
    {
     "data": {
      "text/plain": [
       "'162E'"
      ]
     },
     "execution_count": 115,
     "metadata": {},
     "output_type": "execute_result"
    }
   ],
   "source": [
    "\"{:X}\".format(5678)"
   ]
  },
  {
   "cell_type": "code",
   "execution_count": 116,
   "id": "ac0c4f60",
   "metadata": {},
   "outputs": [
    {
     "data": {
      "text/plain": [
       "'5678'"
      ]
     },
     "execution_count": 116,
     "metadata": {},
     "output_type": "execute_result"
    }
   ],
   "source": [
    "\"{:n}\".format(5678)"
   ]
  },
  {
   "cell_type": "code",
   "execution_count": 117,
   "id": "c22a5659",
   "metadata": {},
   "outputs": [],
   "source": [
    "import locale"
   ]
  },
  {
   "cell_type": "code",
   "execution_count": 118,
   "id": "a1049de9",
   "metadata": {},
   "outputs": [
    {
     "data": {
      "text/plain": [
       "'pt_BR.utf-8'"
      ]
     },
     "execution_count": 118,
     "metadata": {},
     "output_type": "execute_result"
    }
   ],
   "source": [
    "locale.setlocale(locale.LC_ALL,\"pt_BR.utf-8\")"
   ]
  },
  {
   "cell_type": "code",
   "execution_count": 119,
   "id": "f2a2aa77",
   "metadata": {},
   "outputs": [
    {
     "data": {
      "text/plain": [
       "'5.678'"
      ]
     },
     "execution_count": 119,
     "metadata": {},
     "output_type": "execute_result"
    }
   ],
   "source": [
    "\"{:n}\".format(5678)"
   ]
  },
  {
   "cell_type": "code",
   "execution_count": 120,
   "id": "d1bedd92",
   "metadata": {},
   "outputs": [
    {
     "data": {
      "text/plain": [
       "'1579.543000'"
      ]
     },
     "execution_count": 120,
     "metadata": {},
     "output_type": "execute_result"
    }
   ],
   "source": [
    "\"{:f}\".format(1579.543)"
   ]
  },
  {
   "cell_type": "code",
   "execution_count": 121,
   "id": "4cb0ee3c",
   "metadata": {},
   "outputs": [
    {
     "data": {
      "text/plain": [
       "'1.579,54'"
      ]
     },
     "execution_count": 121,
     "metadata": {},
     "output_type": "execute_result"
    }
   ],
   "source": [
    "\"{:n}\".format(1579.543)"
   ]
  },
  {
   "cell_type": "code",
   "execution_count": 122,
   "id": "90b36de7",
   "metadata": {},
   "outputs": [
    {
     "data": {
      "text/plain": [
       "'3.141593e+00'"
      ]
     },
     "execution_count": 122,
     "metadata": {},
     "output_type": "execute_result"
    }
   ],
   "source": [
    "\"{:8e}\".format(3.141592653589793)"
   ]
  },
  {
   "cell_type": "code",
   "execution_count": 123,
   "id": "9fdaf30d",
   "metadata": {},
   "outputs": [
    {
     "data": {
      "text/plain": [
       "'3.141593E+00'"
      ]
     },
     "execution_count": 123,
     "metadata": {},
     "output_type": "execute_result"
    }
   ],
   "source": [
    "\"{:8E}\".format(3.141592653589793)"
   ]
  },
  {
   "cell_type": "code",
   "execution_count": 125,
   "id": "2f2ee815",
   "metadata": {},
   "outputs": [
    {
     "data": {
      "text/plain": [
       "' 3.14159'"
      ]
     },
     "execution_count": 125,
     "metadata": {},
     "output_type": "execute_result"
    }
   ],
   "source": [
    "\"{:8g}\".format(3.141592653589793)"
   ]
  },
  {
   "cell_type": "code",
   "execution_count": 126,
   "id": "15772efb",
   "metadata": {},
   "outputs": [
    {
     "data": {
      "text/plain": [
       "' 3.14159'"
      ]
     },
     "execution_count": 126,
     "metadata": {},
     "output_type": "execute_result"
    }
   ],
   "source": [
    "\"{:8G}\".format(3.141592653589793)"
   ]
  },
  {
   "cell_type": "code",
   "execution_count": 127,
   "id": "ed5a59cd",
   "metadata": {},
   "outputs": [
    {
     "data": {
      "text/plain": [
       "'    3.14'"
      ]
     },
     "execution_count": 127,
     "metadata": {},
     "output_type": "execute_result"
    }
   ],
   "source": [
    "\"{:8g}\".format(3.14)"
   ]
  },
  {
   "cell_type": "code",
   "execution_count": 128,
   "id": "a388a6bf",
   "metadata": {},
   "outputs": [
    {
     "data": {
      "text/plain": [
       "'    3.14'"
      ]
     },
     "execution_count": 128,
     "metadata": {},
     "output_type": "execute_result"
    }
   ],
   "source": [
    "\"{:8G}\".format(3.14)"
   ]
  },
  {
   "cell_type": "code",
   "execution_count": 129,
   "id": "6931c6ad",
   "metadata": {},
   "outputs": [
    {
     "data": {
      "text/plain": [
       "'5.00%'"
      ]
     },
     "execution_count": 129,
     "metadata": {},
     "output_type": "execute_result"
    }
   ],
   "source": [
    "\"{:5.2%}\".format(0.05)"
   ]
  },
  {
   "cell_type": "code",
   "execution_count": 2,
   "id": "9bb995a3",
   "metadata": {},
   "outputs": [
    {
     "name": "stdout",
     "output_type": "stream",
     "text": [
      "Digite a palavra secreta: abacate\n",
      "\n",
      "\n",
      "\n",
      "\n",
      "\n",
      "\n",
      "\n",
      "\n",
      "\n",
      "\n",
      "\n",
      "\n",
      "\n",
      "\n",
      "\n",
      "\n",
      "\n",
      "\n",
      "\n",
      "\n",
      "\n",
      "\n",
      "\n",
      "\n",
      "\n",
      "\n",
      "\n",
      "\n",
      "\n",
      "\n",
      "\n",
      "\n",
      "\n",
      "\n",
      "\n",
      "\n",
      "\n",
      "\n",
      "\n",
      "\n",
      "\n",
      "\n",
      "\n",
      "\n",
      "\n",
      "\n",
      "\n",
      "\n",
      "\n",
      "\n",
      "\n",
      "\n",
      "\n",
      "\n",
      "\n",
      "\n",
      "\n",
      "\n",
      "\n",
      "\n",
      "\n",
      "\n",
      "\n",
      "\n",
      "\n",
      "\n",
      "\n",
      "\n",
      "\n",
      "\n",
      "\n",
      "\n",
      "\n",
      "\n",
      "\n",
      "\n",
      "\n",
      "\n",
      "\n",
      "\n",
      "\n",
      "\n",
      "\n",
      "\n",
      "\n",
      "\n",
      "\n",
      "\n",
      "\n",
      "\n",
      "\n",
      "\n",
      "\n",
      "\n",
      "\n",
      "\n",
      "\n",
      "\n",
      "\n",
      "\n",
      ".......\n",
      "\n",
      "Digite uma letra:a\n",
      "X==:==\n",
      "X  :  \n",
      "X\n",
      "X\n",
      "X\n",
      "a.a.a..\n",
      "\n",
      "Digite uma letra:b\n",
      "X==:==\n",
      "X  :  \n",
      "X\n",
      "X\n",
      "X\n",
      "aba.a..\n",
      "\n",
      "Digite uma letra:n\n",
      "Você errou!\n",
      "X==:==\n",
      "X  :  \n",
      "X  O  \n",
      "X\n",
      "X\n",
      "aba.a..\n",
      "\n",
      "Digite uma letra:y\n",
      "Você errou!\n",
      "X==:==\n",
      "X  :  \n",
      "X  O  \n",
      "X  |  \n",
      "X\n",
      "aba.a..\n",
      "\n",
      "Digite uma letra:z\n",
      "Você errou!\n",
      "X==:==\n",
      "X  :  \n",
      "X  O  \n",
      "X \\|  \n",
      "X\n",
      "aba.a..\n",
      "\n",
      "Digite uma letra:k\n",
      "Você errou!\n",
      "X==:==\n",
      "X  :  \n",
      "X  O  \n",
      "X \\|/ \n",
      "X\n",
      "aba.a..\n",
      "\n",
      "Digite uma letra:o\n",
      "Você errou!\n",
      "X==:==\n",
      "X  :  \n",
      "X  O  \n",
      "X\n",
      "X /   \n",
      "aba.a..\n",
      "\n",
      "Digite uma letra:t\n",
      "X==:==\n",
      "X  :  \n",
      "X  O  \n",
      "X\n",
      "X /   \n",
      "aba.at.\n",
      "\n",
      "Digite uma letra:x\n",
      "Você errou!\n",
      "X==:==\n",
      "X  :  \n",
      "X  O  \n",
      "X\n",
      "X / \\ \n",
      "Enforcado!\n"
     ]
    }
   ],
   "source": [
    "palavra = input(\"Digite a palavra secreta: \").lower().strip()\n",
    "for x in range(100):\n",
    "    print()\n",
    "digitadas = []\n",
    "acertos = []\n",
    "erros = 0\n",
    "while True:\n",
    "    senha = \"\"\n",
    "    for letra in palavra:\n",
    "        senha += letra if letra in acertos else \".\"\n",
    "    print(senha)\n",
    "    if senha == palavra:\n",
    "        print(\"Você acertou!\")\n",
    "        break\n",
    "    tentativa = input(\"\\nDigite uma letra:\").lower().strip()\n",
    "    if tentativa in digitadas:\n",
    "        print(\"Você já tentou esta letra!\")\n",
    "        continue\n",
    "    else:\n",
    "        digitadas += tentativa\n",
    "        if tentativa in palavra:\n",
    "            acertos += tentativa\n",
    "        else:\n",
    "            erros += 1\n",
    "            print(\"Você errou!\")\n",
    "    print(\"X==:==\\nX  :  \")\n",
    "    print(\"X  O  \" if erros >=1 else \"X\")\n",
    "    linha2=\"\"\n",
    "    if erros == 2:\n",
    "        linha2 = \"  |  \"\n",
    "    elif erros == 3:\n",
    "        linha2 = \" \\|  \"\n",
    "    elif erros == 4:\n",
    "        linha2 = \" \\|/ \"\n",
    "    print(\"X%s\" % linha2)\n",
    "    linha3 = \"\"    \n",
    "    if erros == 5:\n",
    "        linha3 += \" /   \"\n",
    "    elif erros >= 6:\n",
    "        linha3 += \" / \\ \"\n",
    "    print(\"X%s\" % linha3)\n",
    "    if erros == 6:\n",
    "        print(\"Enforcado!\")\n",
    "        break"
   ]
  },
  {
   "cell_type": "code",
   "execution_count": null,
   "id": "9a575836",
   "metadata": {},
   "outputs": [],
   "source": []
  }
 ],
 "metadata": {
  "kernelspec": {
   "display_name": "Python 3 (ipykernel)",
   "language": "python",
   "name": "python3"
  },
  "language_info": {
   "codemirror_mode": {
    "name": "ipython",
    "version": 3
   },
   "file_extension": ".py",
   "mimetype": "text/x-python",
   "name": "python",
   "nbconvert_exporter": "python",
   "pygments_lexer": "ipython3",
   "version": "3.11.7"
  }
 },
 "nbformat": 4,
 "nbformat_minor": 5
}
