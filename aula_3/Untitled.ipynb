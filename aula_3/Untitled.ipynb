{
 "cells": [
  {
   "cell_type": "code",
   "execution_count": 1,
   "id": "4bb32e3d-1280-4f3e-88c4-607a1e8d37ae",
   "metadata": {},
   "outputs": [],
   "source": [
    "# Atividade 1: Faça um programa que peça dois números inteiros e ponha na tela a soma deles."
   ]
  },
  {
   "cell_type": "code",
   "execution_count": null,
   "id": "72c19a22-5c6b-4485-b6a4-776bdca97132",
   "metadata": {},
   "outputs": [],
   "source": [
    "# Alocação de memória\n",
    "parcela = 0\n",
    "soma = 0\n",
    "\n",
    "while parcela < 2:\n",
    "    num = int(input(f'Informe a parcela: {parcela + 1}'))\n",
    "    soma = soma + num"
   ]
  },
  {
   "cell_type": "code",
   "execution_count": null,
   "id": "b7581162-0469-45fe-9153-f896ac0ec2b5",
   "metadata": {},
   "outputs": [],
   "source": []
  },
  {
   "cell_type": "code",
   "execution_count": null,
   "id": "b349931c",
   "metadata": {},
   "outputs": [],
   "source": []
  }
 ],
 "metadata": {
  "kernelspec": {
   "display_name": "Python 3 (ipykernel)",
   "language": "python",
   "name": "python3"
  },
  "language_info": {
   "codemirror_mode": {
    "name": "ipython",
    "version": 3
   },
   "file_extension": ".py",
   "mimetype": "text/x-python",
   "name": "python",
   "nbconvert_exporter": "python",
   "pygments_lexer": "ipython3",
   "version": "3.11.7"
  }
 },
 "nbformat": 4,
 "nbformat_minor": 5
}
